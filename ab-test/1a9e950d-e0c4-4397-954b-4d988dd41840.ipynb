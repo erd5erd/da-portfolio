{
 "cells": [
  {
   "cell_type": "markdown",
   "metadata": {
    "datalore": {
     "hide_input_from_viewers": false,
     "hide_output_from_viewers": false,
     "node_id": "nLDInCfUDThaPrWNH8vLlD",
     "report_properties": {},
     "type": "MD"
    }
   },
   "source": [
    "# A/B-тестирование"
   ]
  },
  {
   "cell_type": "markdown",
   "metadata": {
    "datalore": {
     "hide_input_from_viewers": false,
     "hide_output_from_viewers": false,
     "node_id": "nFbbZcVCqHyYk3iVXJ53Dq",
     "report_properties": {},
     "type": "MD"
    }
   },
   "source": [
    "Моя задача провести оценку результатов А/В-теста, который проходил с 7 декабря 2020 года по 4 января 2021. В ходе данного эксперимента тестировались изменения, связанные с внедрением улучшенной рекомендательной системы.\n",
    "\n",
    "Характеристика данного A/B-тестирования:\n",
    "- Название теста: `recommender_system_test`;\n",
    "- группы: А — контрольная, B — новая платёжная воронка;\n",
    "- дата запуска: 2020-12-07;\n",
    "- дата остановки набора новых пользователей: 2020-12-21;\n",
    "- дата остановки: 2021-01-04;\n",
    "- аудитория: 15% новых пользователей из региона EU;\n",
    "- назначение теста: тестирование изменений, связанных с внедрением улучшенной рекомендательной системы;\n",
    "- ожидаемое количество участников теста: 6000.\n",
    "- ожидаемый эффект: за 14 дней с момента регистрации пользователи покажут улучшение ключевых метрик не менее, чем на 10%;\n",
    "- Ключевые метрики:\n",
    "    - конверсии в просмотр карточек товаров — событие `product_page`,\n",
    "    - просмотры корзины — `product_cart`,\n",
    "    - покупки — `purchase`.\n",
    "    \n",
    "#### Описание данных\n",
    "\n",
    "`ab_project_marketing_events.csv` — календарь маркетинговых событий на 2020 год.\n",
    "\n",
    "Структура файла:\n",
    "\n",
    "- `name` — название маркетингового события;\n",
    "- `regions` — регионы, в которых будет проводиться рекламная кампания;\n",
    "- `start_dt` — дата начала кампании;\n",
    "- `finish_dt` — дата завершения кампании.\n",
    "\n",
    "`final_ab_new_users.csv` — пользователи, зарегистрировавшиеся с 7 по 21 декабря 2020 года.\n",
    "\n",
    "Структура файла:\n",
    "\n",
    "- `user_id` — идентификатор пользователя;\n",
    "- `first_date` — дата регистрации;\n",
    "- `region` — регион пользователя;\n",
    "- `device` — устройство, с которого происходила регистрация.\n",
    "\n",
    "`final_ab_events.csv` — действия новых пользователей в период с 7 декабря 2020 по 4 января 2021 года.\n",
    "\n",
    "Структура файла:\n",
    "\n",
    "- `user_id` — идентификатор пользователя;\n",
    "- `event_dt` — дата и время покупки;\n",
    "- `event_name` — тип события;\n",
    "- `details` — дополнительные данные о событии. Например, для покупок, `purchase,` в этом поле хранится стоимость покупки в долларах.\n",
    "\n",
    "`final_ab_participants.csv` — таблица участников тестов.\n",
    "\n",
    "Структура файла:\n",
    "\n",
    "- `user_id` — идентификатор пользователя;\n",
    "- `ab_test` — название теста;\n",
    "- `group` — группа пользователя.\n",
    "\n",
    "Мои шаги:\n",
    "- Исследовать данные:\n",
    "    - Требуется ли преобразование типов?\n",
    "    - Описать природу пропущенных значений и дубликатов.\n",
    "- Оценить корректность проведения теста. Обратить внимание на:\n",
    "    - Соответствие данных требованиям технического задания. Проверить корректность всех пунктов технического задания.\n",
    "    - Время проведения теста. Убедиться, что оно не совпадает с маркетинговыми и другими активностями.\n",
    "    - Аудиторию теста. Проверить, что нет пересечений с конкурирующим тестом и нет пользователей, участвующих в двух группах теста одновременно. Проверить равномерность распределения по тестовым группам и правильность их формирования.\n",
    "- Провести исследовательский анализ данных:\n",
    "    - Количество событий на пользователя одинаково распределены в выборках?\n",
    "    - Как число событий в выборках распределено по дням?\n",
    "    - Как меняется конверсия в воронке в выборках на разных этапах?\n",
    "    - Какие особенности данных нужно учесть, прежде чем приступать к A/B-тестированию?\n",
    "- Оценить результаты A/B-тестирования\n",
    "    - Что можно сказать про результаты A/В-тестирования?\n",
    "    - Проверить статистическую разницу долей z-критерием.\n",
    "- Описать выводы по этапу исследовательского анализа данных и по проведённой оценке результатов A/B-тестирования. Сделать общее заключение о корректности проведения теста."
   ]
  },
  {
   "cell_type": "markdown",
   "metadata": {
    "datalore": {
     "hide_input_from_viewers": false,
     "hide_output_from_viewers": false,
     "node_id": "NqGwt0hEq3B1Z94c3zsRos",
     "report_properties": {},
     "type": "MD"
    }
   },
   "source": [
    "## Обзор данных"
   ]
  },
  {
   "cell_type": "code",
   "execution_count": 82,
   "metadata": {
    "ExecuteTime": {
     "end_time": "2022-12-23T06:26:14.133770Z",
     "start_time": "2022-12-23T06:25:23.690777Z"
    },
    "datalore": {
     "hide_input_from_viewers": false,
     "hide_output_from_viewers": false,
     "node_id": "PNJDtvcaXq84eGtLtxcn0k",
     "report_properties": {},
     "type": "CODE"
    }
   },
   "outputs": [
    {
     "name": "stdout",
     "output_type": "stream",
     "text": [
      "Requirement already satisfied: matplotlib in c:\\users\\lenovo\\anaconda3\\lib\\site-packages (3.6.3)\n",
      "Requirement already satisfied: numpy>=1.19 in c:\\users\\lenovo\\anaconda3\\lib\\site-packages (from matplotlib) (1.24.1)\n",
      "Requirement already satisfied: pyparsing>=2.2.1 in c:\\users\\lenovo\\anaconda3\\lib\\site-packages (from matplotlib) (3.0.4)\n",
      "Requirement already satisfied: fonttools>=4.22.0 in c:\\users\\lenovo\\anaconda3\\lib\\site-packages (from matplotlib) (4.25.0)\n",
      "Requirement already satisfied: kiwisolver>=1.0.1 in c:\\users\\lenovo\\anaconda3\\lib\\site-packages (from matplotlib) (1.3.2)\n",
      "Requirement already satisfied: python-dateutil>=2.7 in c:\\users\\lenovo\\anaconda3\\lib\\site-packages (from matplotlib) (2.8.2)\n",
      "Requirement already satisfied: pillow>=6.2.0 in c:\\users\\lenovo\\anaconda3\\lib\\site-packages (from matplotlib) (9.0.1)\n",
      "Requirement already satisfied: packaging>=20.0 in c:\\users\\lenovo\\anaconda3\\lib\\site-packages (from matplotlib) (21.3)\n",
      "Requirement already satisfied: contourpy>=1.0.1 in c:\\users\\lenovo\\anaconda3\\lib\\site-packages (from matplotlib) (1.0.6)\n",
      "Requirement already satisfied: cycler>=0.10 in c:\\users\\lenovo\\anaconda3\\lib\\site-packages (from matplotlib) (0.11.0)\n",
      "Requirement already satisfied: six>=1.5 in c:\\users\\lenovo\\anaconda3\\lib\\site-packages (from python-dateutil>=2.7->matplotlib) (1.16.0)\n",
      "Requirement already satisfied: plotly in c:\\users\\lenovo\\anaconda3\\lib\\site-packages (5.6.0)\n",
      "Requirement already satisfied: tenacity>=6.2.0 in c:\\users\\lenovo\\anaconda3\\lib\\site-packages (from plotly) (8.0.1)\n",
      "Requirement already satisfied: six in c:\\users\\lenovo\\anaconda3\\lib\\site-packages (from plotly) (1.16.0)\n"
     ]
    }
   ],
   "source": [
    "# загружаю необходимые библиотеки\n",
    "! pip install matplotlib -U\n",
    "\n",
    "import pandas as pd\n",
    "import numpy as np\n",
    "import matplotlib.pyplot as plt\n",
    "#import matplotlib.dates as mdates\n",
    "import seaborn as sns\n",
    "import math\n",
    "\n",
    "! pip install plotly\n",
    "import plotly\n",
    "import plotly.graph_objs as go\n",
    "import plotly.express as px\n",
    "from plotly.subplots import make_subplots\n",
    "\n",
    "import scipy.stats as st\n",
    "\n",
    "import warnings\n",
    "warnings.filterwarnings('ignore')"
   ]
  },
  {
   "cell_type": "markdown",
   "metadata": {
    "datalore": {
     "hide_input_from_viewers": false,
     "hide_output_from_viewers": false,
     "node_id": "xJFhmHzBVkOzkHH30MWheM",
     "report_properties": {},
     "type": "MD"
    }
   },
   "source": [
    "### Датасет с действиями пользователей"
   ]
  },
  {
   "cell_type": "code",
   "execution_count": 83,
   "metadata": {
    "ExecuteTime": {
     "end_time": "2022-12-23T06:26:15.873119Z",
     "start_time": "2022-12-23T06:26:14.133770Z"
    },
    "datalore": {
     "hide_input_from_viewers": false,
     "hide_output_from_viewers": false,
     "node_id": "lDAW52kSUdpLHKxDKDcv0r",
     "report_properties": {},
     "type": "CODE"
    }
   },
   "outputs": [],
   "source": [
    "# загружаю данные\n",
    "try:\n",
    "    events = pd.read_csv('/datasets/final_ab_events.csv')\n",
    "except:\n",
    "    events = pd.read_csv('final_ab_events.csv')"
   ]
  },
  {
   "cell_type": "code",
   "execution_count": 84,
   "metadata": {
    "ExecuteTime": {
     "end_time": "2022-12-23T06:26:15.947862Z",
     "start_time": "2022-12-23T06:26:15.873119Z"
    },
    "datalore": {
     "hide_input_from_viewers": true,
     "hide_output_from_viewers": true,
     "node_id": "vfJp8LpzYO8prI5ZHJPT9K",
     "type": "CODE"
    }
   },
   "outputs": [
    {
     "data": {
      "text/html": [
       "<div>\n",
       "<style scoped>\n",
       "    .dataframe tbody tr th:only-of-type {\n",
       "        vertical-align: middle;\n",
       "    }\n",
       "\n",
       "    .dataframe tbody tr th {\n",
       "        vertical-align: top;\n",
       "    }\n",
       "\n",
       "    .dataframe thead th {\n",
       "        text-align: right;\n",
       "    }\n",
       "</style>\n",
       "<table border=\"1\" class=\"dataframe\">\n",
       "  <thead>\n",
       "    <tr style=\"text-align: right;\">\n",
       "      <th></th>\n",
       "      <th>user_id</th>\n",
       "      <th>event_dt</th>\n",
       "      <th>event_name</th>\n",
       "      <th>details</th>\n",
       "    </tr>\n",
       "  </thead>\n",
       "  <tbody>\n",
       "    <tr>\n",
       "      <th>0</th>\n",
       "      <td>E1BDDCE0DAFA2679</td>\n",
       "      <td>2020-12-07 20:22:03</td>\n",
       "      <td>purchase</td>\n",
       "      <td>99.99</td>\n",
       "    </tr>\n",
       "    <tr>\n",
       "      <th>1</th>\n",
       "      <td>7B6452F081F49504</td>\n",
       "      <td>2020-12-07 09:22:53</td>\n",
       "      <td>purchase</td>\n",
       "      <td>9.99</td>\n",
       "    </tr>\n",
       "    <tr>\n",
       "      <th>2</th>\n",
       "      <td>9CD9F34546DF254C</td>\n",
       "      <td>2020-12-07 12:59:29</td>\n",
       "      <td>purchase</td>\n",
       "      <td>4.99</td>\n",
       "    </tr>\n",
       "    <tr>\n",
       "      <th>3</th>\n",
       "      <td>96F27A054B191457</td>\n",
       "      <td>2020-12-07 04:02:40</td>\n",
       "      <td>purchase</td>\n",
       "      <td>4.99</td>\n",
       "    </tr>\n",
       "    <tr>\n",
       "      <th>4</th>\n",
       "      <td>1FD7660FDF94CA1F</td>\n",
       "      <td>2020-12-07 10:15:09</td>\n",
       "      <td>purchase</td>\n",
       "      <td>4.99</td>\n",
       "    </tr>\n",
       "  </tbody>\n",
       "</table>\n",
       "</div>"
      ],
      "text/plain": [
       "            user_id             event_dt event_name  details\n",
       "0  E1BDDCE0DAFA2679  2020-12-07 20:22:03   purchase    99.99\n",
       "1  7B6452F081F49504  2020-12-07 09:22:53   purchase     9.99\n",
       "2  9CD9F34546DF254C  2020-12-07 12:59:29   purchase     4.99\n",
       "3  96F27A054B191457  2020-12-07 04:02:40   purchase     4.99\n",
       "4  1FD7660FDF94CA1F  2020-12-07 10:15:09   purchase     4.99"
      ]
     },
     "execution_count": 84,
     "metadata": {},
     "output_type": "execute_result"
    }
   ],
   "source": [
    "events.head()"
   ]
  },
  {
   "cell_type": "code",
   "execution_count": 85,
   "metadata": {
    "ExecuteTime": {
     "end_time": "2022-12-23T06:26:16.415929Z",
     "start_time": "2022-12-23T06:26:15.947862Z"
    },
    "datalore": {
     "hide_input_from_viewers": true,
     "hide_output_from_viewers": true,
     "node_id": "WElaCoN9qQTDSvKcjmQY75",
     "type": "CODE"
    }
   },
   "outputs": [
    {
     "name": "stdout",
     "output_type": "stream",
     "text": [
      "<class 'pandas.core.frame.DataFrame'>\n",
      "RangeIndex: 440317 entries, 0 to 440316\n",
      "Data columns (total 4 columns):\n",
      " #   Column      Non-Null Count   Dtype  \n",
      "---  ------      --------------   -----  \n",
      " 0   user_id     440317 non-null  object \n",
      " 1   event_dt    440317 non-null  object \n",
      " 2   event_name  440317 non-null  object \n",
      " 3   details     62740 non-null   float64\n",
      "dtypes: float64(1), object(3)\n",
      "memory usage: 13.4+ MB\n"
     ]
    }
   ],
   "source": [
    "events.info()"
   ]
  },
  {
   "cell_type": "markdown",
   "metadata": {
    "datalore": {
     "hide_input_from_viewers": true,
     "hide_output_from_viewers": true,
     "node_id": "MOHz8Yn2rJr5tEHqwWItk4",
     "type": "MD"
    }
   },
   "source": [
    "**Выводы**:\n",
    "- Таблица содержит 440317 строк и 4 колонки;\n",
    "- Столбец с датой действия имеет неверный тип данных - `object` вместо `datetime`."
   ]
  },
  {
   "cell_type": "markdown",
   "metadata": {
    "datalore": {
     "hide_input_from_viewers": true,
     "hide_output_from_viewers": true,
     "node_id": "lRTy0zOCjO0jKPiSQrdX5X",
     "type": "MD"
    }
   },
   "source": [
    "#### Пропуски"
   ]
  },
  {
   "cell_type": "code",
   "execution_count": 86,
   "metadata": {
    "ExecuteTime": {
     "end_time": "2022-12-23T06:26:16.896286Z",
     "start_time": "2022-12-23T06:26:16.420893Z"
    },
    "datalore": {
     "hide_input_from_viewers": true,
     "hide_output_from_viewers": true,
     "node_id": "CWZEEp1u4KJHoAMIrcEBKM",
     "type": "CODE"
    }
   },
   "outputs": [
    {
     "data": {
      "text/plain": [
       "user_id            0\n",
       "event_dt           0\n",
       "event_name         0\n",
       "details       377577\n",
       "dtype: int64"
      ]
     },
     "execution_count": 86,
     "metadata": {},
     "output_type": "execute_result"
    }
   ],
   "source": [
    "events.isna().sum()"
   ]
  },
  {
   "cell_type": "markdown",
   "metadata": {
    "datalore": {
     "hide_input_from_viewers": true,
     "hide_output_from_viewers": true,
     "node_id": "GrRhohQSwqzIXTg4iiT8lm",
     "type": "MD"
    }
   },
   "source": [
    "Пропуски только в одном столбце с дополнительной информацией `details` - 377577 строк."
   ]
  },
  {
   "cell_type": "code",
   "execution_count": 87,
   "metadata": {
    "ExecuteTime": {
     "end_time": "2022-12-23T06:26:17.208389Z",
     "start_time": "2022-12-23T06:26:16.896908Z"
    },
    "datalore": {
     "hide_input_from_viewers": true,
     "hide_output_from_viewers": true,
     "node_id": "KEXOkkwCY0htOgYTQYWDuu",
     "type": "CODE"
    }
   },
   "outputs": [
    {
     "data": {
      "text/plain": [
       "array(['product_cart', 'product_page', 'login'], dtype=object)"
      ]
     },
     "execution_count": 87,
     "metadata": {},
     "output_type": "execute_result"
    }
   ],
   "source": [
    "events[events['details'].isna()]['event_name'].unique()"
   ]
  },
  {
   "cell_type": "markdown",
   "metadata": {
    "datalore": {
     "hide_input_from_viewers": true,
     "hide_output_from_viewers": true,
     "node_id": "B2iovXK7wEDUV5AO7v9RnS",
     "type": "MD"
    }
   },
   "source": [
    "Строки с отсутствующими значениями в столбце `details` - это события, не являющимися *покупками*."
   ]
  },
  {
   "cell_type": "code",
   "execution_count": 88,
   "metadata": {
    "ExecuteTime": {
     "end_time": "2022-12-23T06:26:17.256387Z",
     "start_time": "2022-12-23T06:26:17.215389Z"
    },
    "datalore": {
     "hide_input_from_viewers": true,
     "hide_output_from_viewers": true,
     "node_id": "k03HJqSH2hK1tiaj8PGi7d",
     "type": "CODE"
    }
   },
   "outputs": [
    {
     "data": {
      "text/plain": [
       "array(['purchase'], dtype=object)"
      ]
     },
     "execution_count": 88,
     "metadata": {},
     "output_type": "execute_result"
    }
   ],
   "source": [
    "events[~events['details'].isna()]['event_name'].unique()"
   ]
  },
  {
   "cell_type": "markdown",
   "metadata": {
    "datalore": {
     "hide_input_from_viewers": true,
     "hide_output_from_viewers": true,
     "node_id": "emKNyb3lTY8CkJt4c1ywKU",
     "type": "MD"
    }
   },
   "source": [
    "А в строках, где пропусков в `details` нет, - это *покупки*."
   ]
  },
  {
   "cell_type": "markdown",
   "metadata": {
    "datalore": {
     "hide_input_from_viewers": true,
     "hide_output_from_viewers": true,
     "node_id": "YZArneZQnm9GFt4MfCWG72",
     "type": "MD"
    }
   },
   "source": [
    "#### Дубликаты"
   ]
  },
  {
   "cell_type": "code",
   "execution_count": 89,
   "metadata": {
    "ExecuteTime": {
     "end_time": "2022-12-23T06:26:17.969367Z",
     "start_time": "2022-12-23T06:26:17.262386Z"
    },
    "datalore": {
     "hide_input_from_viewers": true,
     "hide_output_from_viewers": true,
     "node_id": "QybCPSCK8TRkLGvj2TDyrI",
     "type": "CODE"
    }
   },
   "outputs": [
    {
     "data": {
      "text/plain": [
       "0"
      ]
     },
     "execution_count": 89,
     "metadata": {},
     "output_type": "execute_result"
    }
   ],
   "source": [
    "events.duplicated().sum()"
   ]
  },
  {
   "cell_type": "markdown",
   "metadata": {
    "datalore": {
     "hide_input_from_viewers": true,
     "hide_output_from_viewers": true,
     "node_id": "b6AQRpa9J184ZATRzpYc2s",
     "type": "MD"
    }
   },
   "source": [
    "В датасете нет явных дубликатов"
   ]
  },
  {
   "cell_type": "code",
   "execution_count": 90,
   "metadata": {
    "ExecuteTime": {
     "end_time": "2022-12-23T06:26:18.050386Z",
     "start_time": "2022-12-23T06:26:17.977302Z"
    },
    "datalore": {
     "hide_input_from_viewers": true,
     "hide_output_from_viewers": true,
     "node_id": "Ny9XXR5pTwlmlIhx4a8wlk",
     "type": "CODE"
    }
   },
   "outputs": [
    {
     "data": {
      "text/plain": [
       "array(['purchase', 'product_cart', 'product_page', 'login'], dtype=object)"
      ]
     },
     "execution_count": 90,
     "metadata": {},
     "output_type": "execute_result"
    }
   ],
   "source": [
    "events['event_name'].unique()"
   ]
  },
  {
   "cell_type": "markdown",
   "metadata": {
    "datalore": {
     "hide_input_from_viewers": true,
     "hide_output_from_viewers": true,
     "node_id": "fuIt7ziy4Ic4dxJJB5QTyh",
     "type": "MD"
    }
   },
   "source": [
    "В столбце с типом действия есть четыре значения:\n",
    "- `purchase` - покупка;\n",
    "- `product_cart` - просмотр корзины;\n",
    "- `product_page` - просмотр товара;\n",
    "- `login` - вход в аккаунт."
   ]
  },
  {
   "cell_type": "markdown",
   "metadata": {
    "datalore": {
     "hide_input_from_viewers": true,
     "hide_output_from_viewers": true,
     "node_id": "sAcQAkSu5Fwapl0RedvPvK",
     "type": "MD"
    }
   },
   "source": [
    "#### Распределения"
   ]
  },
  {
   "cell_type": "code",
   "execution_count": 91,
   "metadata": {},
   "outputs": [
    {
     "data": {
      "text/plain": [
       "<AxesSubplot: xlabel='event_date_dec', ylabel='count'>"
      ]
     },
     "execution_count": 91,
     "metadata": {},
     "output_type": "execute_result"
    },
    {
     "data": {
      "image/png": "[encoded data removed]",
      "text/plain": [
       "<Figure size 432x288 with 1 Axes>"
      ]
     },
     "metadata": {
      "needs_background": "light"
     },
     "output_type": "display_data"
    }
   ],
   "source": [
    "sns.countplot(\n",
    "    data=events.assign(\n",
    "        event_date_dec = lambda x: pd.to_datetime(x['event_dt']).dt.strftime('%d')),\n",
    "    x='event_date_dec'\n",
    "    )"
   ]
  },
  {
   "cell_type": "markdown",
   "metadata": {
    "datalore": {
     "hide_input_from_viewers": true,
     "hide_output_from_viewers": true,
     "node_id": "4GYh7U0WyY6n6GoWLEXzpZ",
     "type": "MD"
    }
   },
   "source": [
    "С начала наблюдений видим рост в количестве событий с пиком, приходящим на 14 декабря. Затем спад пару дней и снова рост с еще максимумом на 21 декабря. Далее заметно только падение до 30 декабря."
   ]
  },
  {
   "cell_type": "code",
   "execution_count": 92,
   "metadata": {
    "ExecuteTime": {
     "end_time": "2022-12-23T06:26:20.540840Z",
     "start_time": "2022-12-23T06:26:19.934639Z"
    },
    "datalore": {
     "hide_input_from_viewers": true,
     "hide_output_from_viewers": true,
     "node_id": "siqyJheHmQDS1PHBJKBn6F",
     "type": "CODE"
    }
   },
   "outputs": [
    {
     "data": {
      "image/png": "[encoded data removed]",
      "text/plain": [
       "<Figure size 432x288 with 1 Axes>"
      ]
     },
     "metadata": {
      "needs_background": "light"
     },
     "output_type": "display_data"
    }
   ],
   "source": [
    "ax = (\n",
    "    events\n",
    "        .groupby('details')\n",
    "        .agg({'details':'count'})\n",
    ").plot(kind='bar')\n",
    "plt.title('Распределение покупок')\n",
    "plt.xlabel('Размер оплаты')\n",
    "plt.ylabel('Количество покупок')\n",
    "ax.bar_label(ax.containers[0])\n",
    "plt.show()"
   ]
  },
  {
   "cell_type": "markdown",
   "metadata": {
    "datalore": {
     "hide_input_from_viewers": true,
     "hide_output_from_viewers": true,
     "node_id": "XUhRoiKt9s8SoXT6HeFeeO",
     "type": "MD"
    }
   },
   "source": [
    "Есть только четыре опции оплаты:\n",
    "- 46362 покупок с суммой *4,99*;\n",
    "- 9530 покупок с суммой *9,99*;\n",
    "- 5631 покупок с суммой *99,99*;\n",
    "- 1217 покупок с суммой *499,99*.\n",
    "  \n",
    "И траты распределены более менее нормально, где медиана расположена у `4,99`."
   ]
  },
  {
   "cell_type": "markdown",
   "metadata": {
    "datalore": {
     "hide_input_from_viewers": false,
     "hide_output_from_viewers": false,
     "node_id": "pbh3uuCrhZof3uhM5BG72Q",
     "report_properties": {},
     "type": "MD"
    }
   },
   "source": [
    "### Датасет с маркетинговыми кампаниями"
   ]
  },
  {
   "cell_type": "code",
   "execution_count": 93,
   "metadata": {
    "ExecuteTime": {
     "end_time": "2022-12-23T06:27:05.626632Z",
     "start_time": "2022-12-23T06:27:05.293183Z"
    },
    "datalore": {
     "hide_input_from_viewers": false,
     "hide_output_from_viewers": false,
     "node_id": "cahuoUDnxF8zbBNu9S1CA5",
     "report_properties": {},
     "type": "CODE"
    }
   },
   "outputs": [],
   "source": [
    "try:\n",
    "    marketing = pd.read_csv(\n",
    "        '/datasets/ab_project_marketing_events.csv'\n",
    "    )\n",
    "except:\n",
    "    marketing = pd.read_csv('ab_project_marketing_events.csv')"
   ]
  },
  {
   "cell_type": "code",
   "execution_count": 94,
   "metadata": {
    "ExecuteTime": {
     "end_time": "2022-12-23T06:27:05.674631Z",
     "start_time": "2022-12-23T06:27:05.634631Z"
    },
    "datalore": {
     "hide_input_from_viewers": true,
     "hide_output_from_viewers": true,
     "node_id": "ggQghxWM5hNkYIXnDNjYZz",
     "type": "CODE"
    }
   },
   "outputs": [
    {
     "data": {
      "text/html": [
       "<div>\n",
       "<style scoped>\n",
       "    .dataframe tbody tr th:only-of-type {\n",
       "        vertical-align: middle;\n",
       "    }\n",
       "\n",
       "    .dataframe tbody tr th {\n",
       "        vertical-align: top;\n",
       "    }\n",
       "\n",
       "    .dataframe thead th {\n",
       "        text-align: right;\n",
       "    }\n",
       "</style>\n",
       "<table border=\"1\" class=\"dataframe\">\n",
       "  <thead>\n",
       "    <tr style=\"text-align: right;\">\n",
       "      <th></th>\n",
       "      <th>name</th>\n",
       "      <th>regions</th>\n",
       "      <th>start_dt</th>\n",
       "      <th>finish_dt</th>\n",
       "    </tr>\n",
       "  </thead>\n",
       "  <tbody>\n",
       "    <tr>\n",
       "      <th>0</th>\n",
       "      <td>Christmas&amp;New Year Promo</td>\n",
       "      <td>EU, N.America</td>\n",
       "      <td>2020-12-25</td>\n",
       "      <td>2021-01-03</td>\n",
       "    </tr>\n",
       "    <tr>\n",
       "      <th>1</th>\n",
       "      <td>St. Valentine's Day Giveaway</td>\n",
       "      <td>EU, CIS, APAC, N.America</td>\n",
       "      <td>2020-02-14</td>\n",
       "      <td>2020-02-16</td>\n",
       "    </tr>\n",
       "    <tr>\n",
       "      <th>2</th>\n",
       "      <td>St. Patric's Day Promo</td>\n",
       "      <td>EU, N.America</td>\n",
       "      <td>2020-03-17</td>\n",
       "      <td>2020-03-19</td>\n",
       "    </tr>\n",
       "    <tr>\n",
       "      <th>3</th>\n",
       "      <td>Easter Promo</td>\n",
       "      <td>EU, CIS, APAC, N.America</td>\n",
       "      <td>2020-04-12</td>\n",
       "      <td>2020-04-19</td>\n",
       "    </tr>\n",
       "    <tr>\n",
       "      <th>4</th>\n",
       "      <td>4th of July Promo</td>\n",
       "      <td>N.America</td>\n",
       "      <td>2020-07-04</td>\n",
       "      <td>2020-07-11</td>\n",
       "    </tr>\n",
       "  </tbody>\n",
       "</table>\n",
       "</div>"
      ],
      "text/plain": [
       "                           name                   regions    start_dt  \\\n",
       "0      Christmas&New Year Promo             EU, N.America  2020-12-25   \n",
       "1  St. Valentine's Day Giveaway  EU, CIS, APAC, N.America  2020-02-14   \n",
       "2        St. Patric's Day Promo             EU, N.America  2020-03-17   \n",
       "3                  Easter Promo  EU, CIS, APAC, N.America  2020-04-12   \n",
       "4             4th of July Promo                 N.America  2020-07-04   \n",
       "\n",
       "    finish_dt  \n",
       "0  2021-01-03  \n",
       "1  2020-02-16  \n",
       "2  2020-03-19  \n",
       "3  2020-04-19  \n",
       "4  2020-07-11  "
      ]
     },
     "execution_count": 94,
     "metadata": {},
     "output_type": "execute_result"
    }
   ],
   "source": [
    "marketing.head()"
   ]
  },
  {
   "cell_type": "code",
   "execution_count": 95,
   "metadata": {
    "ExecuteTime": {
     "end_time": "2022-12-23T06:27:05.722630Z",
     "start_time": "2022-12-23T06:27:05.682631Z"
    },
    "datalore": {
     "hide_input_from_viewers": true,
     "hide_output_from_viewers": true,
     "node_id": "6r8MiV7KS0poiVuAxfRy9f",
     "type": "CODE"
    }
   },
   "outputs": [
    {
     "name": "stdout",
     "output_type": "stream",
     "text": [
      "<class 'pandas.core.frame.DataFrame'>\n",
      "RangeIndex: 14 entries, 0 to 13\n",
      "Data columns (total 4 columns):\n",
      " #   Column     Non-Null Count  Dtype \n",
      "---  ------     --------------  ----- \n",
      " 0   name       14 non-null     object\n",
      " 1   regions    14 non-null     object\n",
      " 2   start_dt   14 non-null     object\n",
      " 3   finish_dt  14 non-null     object\n",
      "dtypes: object(4)\n",
      "memory usage: 576.0+ bytes\n"
     ]
    }
   ],
   "source": [
    "marketing.info()"
   ]
  },
  {
   "cell_type": "markdown",
   "metadata": {
    "datalore": {
     "hide_input_from_viewers": true,
     "hide_output_from_viewers": true,
     "node_id": "xEjcoV3zbYp7qe8swtVJJx",
     "type": "MD"
    }
   },
   "source": [
    "**Выводы**:\n",
    "- 14 строк и 4 колонки;\n",
    "- столбцы с началом и концом рекламной кампании в несоответствующем типе данных. "
   ]
  },
  {
   "cell_type": "code",
   "execution_count": 96,
   "metadata": {
    "ExecuteTime": {
     "end_time": "2022-12-23T06:27:05.754632Z",
     "start_time": "2022-12-23T06:27:05.730632Z"
    },
    "datalore": {
     "hide_input_from_viewers": true,
     "hide_output_from_viewers": true,
     "node_id": "b3LV1EZmYqyJ0MVVBNncpD",
     "type": "CODE"
    }
   },
   "outputs": [
    {
     "data": {
      "text/plain": [
       "name         0\n",
       "regions      0\n",
       "start_dt     0\n",
       "finish_dt    0\n",
       "dtype: int64"
      ]
     },
     "execution_count": 96,
     "metadata": {},
     "output_type": "execute_result"
    }
   ],
   "source": [
    "marketing.isna().sum()"
   ]
  },
  {
   "cell_type": "markdown",
   "metadata": {
    "datalore": {
     "hide_input_from_viewers": true,
     "hide_output_from_viewers": true,
     "node_id": "In4wAlvNZsce5noj1v684A",
     "type": "MD"
    }
   },
   "source": [
    "Пропусков нет."
   ]
  },
  {
   "cell_type": "code",
   "execution_count": 97,
   "metadata": {
    "ExecuteTime": {
     "end_time": "2022-12-23T06:27:05.786630Z",
     "start_time": "2022-12-23T06:27:05.760632Z"
    },
    "datalore": {
     "hide_input_from_viewers": true,
     "hide_output_from_viewers": true,
     "node_id": "u0qq9leFMHsNwcc6NDd5ns",
     "type": "CODE"
    }
   },
   "outputs": [
    {
     "data": {
      "text/plain": [
       "0"
      ]
     },
     "execution_count": 97,
     "metadata": {},
     "output_type": "execute_result"
    }
   ],
   "source": [
    "marketing.duplicated().sum()"
   ]
  },
  {
   "cell_type": "markdown",
   "metadata": {
    "datalore": {
     "hide_input_from_viewers": true,
     "hide_output_from_viewers": true,
     "node_id": "LBh8uuUhaOgU43AffETkdX",
     "type": "MD"
    }
   },
   "source": [
    "Явных дубликатов нет."
   ]
  },
  {
   "cell_type": "code",
   "execution_count": 98,
   "metadata": {
    "ExecuteTime": {
     "end_time": "2022-12-23T06:27:05.818631Z",
     "start_time": "2022-12-23T06:27:05.792632Z"
    },
    "datalore": {
     "hide_input_from_viewers": true,
     "hide_output_from_viewers": true,
     "node_id": "RWRxQBtCA9eVdkp6PCZlhL",
     "type": "CODE"
    }
   },
   "outputs": [
    {
     "data": {
      "text/plain": [
       "0"
      ]
     },
     "execution_count": 98,
     "metadata": {},
     "output_type": "execute_result"
    }
   ],
   "source": [
    "marketing[['name', 'regions']].duplicated().sum()"
   ]
  },
  {
   "cell_type": "markdown",
   "metadata": {
    "datalore": {
     "hide_input_from_viewers": true,
     "hide_output_from_viewers": true,
     "node_id": "4bxEN4vfFsrEkwEkMdbv2J",
     "type": "MD"
    }
   },
   "source": [
    "Дубликаты по паре названия и региона проведения не найдены."
   ]
  },
  {
   "cell_type": "markdown",
   "metadata": {
    "datalore": {
     "hide_input_from_viewers": false,
     "hide_output_from_viewers": false,
     "node_id": "ew58ZQOIiJzPorxdOBUVmF",
     "report_properties": {},
     "type": "MD"
    }
   },
   "source": [
    "### Датасет с пользователями, которые зарегистрировались с 7 по 21 декабря"
   ]
  },
  {
   "cell_type": "code",
   "execution_count": 99,
   "metadata": {
    "ExecuteTime": {
     "end_time": "2022-12-23T06:27:06.041632Z",
     "start_time": "2022-12-23T06:27:05.824637Z"
    },
    "datalore": {
     "hide_input_from_viewers": false,
     "hide_output_from_viewers": false,
     "node_id": "ZiAuP3rMEiQAgk5W2Yux8a",
     "report_properties": {},
     "type": "CODE"
    }
   },
   "outputs": [],
   "source": [
    "try:\n",
    "    new_users = pd.read_csv(\n",
    "        '/datasets/final_ab_new_users.csv'\n",
    "    )\n",
    "except:\n",
    "    new_users = pd.read_csv('final_ab_new_users.csv')"
   ]
  },
  {
   "cell_type": "code",
   "execution_count": 100,
   "metadata": {
    "ExecuteTime": {
     "end_time": "2022-12-23T06:27:06.072632Z",
     "start_time": "2022-12-23T06:27:06.046630Z"
    },
    "datalore": {
     "hide_input_from_viewers": true,
     "hide_output_from_viewers": true,
     "node_id": "ymWhsfQFAro0dfcm7mZO4J",
     "type": "CODE"
    }
   },
   "outputs": [
    {
     "data": {
      "text/html": [
       "<div>\n",
       "<style scoped>\n",
       "    .dataframe tbody tr th:only-of-type {\n",
       "        vertical-align: middle;\n",
       "    }\n",
       "\n",
       "    .dataframe tbody tr th {\n",
       "        vertical-align: top;\n",
       "    }\n",
       "\n",
       "    .dataframe thead th {\n",
       "        text-align: right;\n",
       "    }\n",
       "</style>\n",
       "<table border=\"1\" class=\"dataframe\">\n",
       "  <thead>\n",
       "    <tr style=\"text-align: right;\">\n",
       "      <th></th>\n",
       "      <th>user_id</th>\n",
       "      <th>first_date</th>\n",
       "      <th>region</th>\n",
       "      <th>device</th>\n",
       "    </tr>\n",
       "  </thead>\n",
       "  <tbody>\n",
       "    <tr>\n",
       "      <th>0</th>\n",
       "      <td>D72A72121175D8BE</td>\n",
       "      <td>2020-12-07</td>\n",
       "      <td>EU</td>\n",
       "      <td>PC</td>\n",
       "    </tr>\n",
       "    <tr>\n",
       "      <th>1</th>\n",
       "      <td>F1C668619DFE6E65</td>\n",
       "      <td>2020-12-07</td>\n",
       "      <td>N.America</td>\n",
       "      <td>Android</td>\n",
       "    </tr>\n",
       "    <tr>\n",
       "      <th>2</th>\n",
       "      <td>2E1BF1D4C37EA01F</td>\n",
       "      <td>2020-12-07</td>\n",
       "      <td>EU</td>\n",
       "      <td>PC</td>\n",
       "    </tr>\n",
       "    <tr>\n",
       "      <th>3</th>\n",
       "      <td>50734A22C0C63768</td>\n",
       "      <td>2020-12-07</td>\n",
       "      <td>EU</td>\n",
       "      <td>iPhone</td>\n",
       "    </tr>\n",
       "    <tr>\n",
       "      <th>4</th>\n",
       "      <td>E1BDDCE0DAFA2679</td>\n",
       "      <td>2020-12-07</td>\n",
       "      <td>N.America</td>\n",
       "      <td>iPhone</td>\n",
       "    </tr>\n",
       "  </tbody>\n",
       "</table>\n",
       "</div>"
      ],
      "text/plain": [
       "            user_id  first_date     region   device\n",
       "0  D72A72121175D8BE  2020-12-07         EU       PC\n",
       "1  F1C668619DFE6E65  2020-12-07  N.America  Android\n",
       "2  2E1BF1D4C37EA01F  2020-12-07         EU       PC\n",
       "3  50734A22C0C63768  2020-12-07         EU   iPhone\n",
       "4  E1BDDCE0DAFA2679  2020-12-07  N.America   iPhone"
      ]
     },
     "execution_count": 100,
     "metadata": {},
     "output_type": "execute_result"
    }
   ],
   "source": [
    "new_users.head()"
   ]
  },
  {
   "cell_type": "code",
   "execution_count": 101,
   "metadata": {
    "ExecuteTime": {
     "end_time": "2022-12-23T06:27:06.200626Z",
     "start_time": "2022-12-23T06:27:06.078632Z"
    },
    "datalore": {
     "hide_input_from_viewers": true,
     "hide_output_from_viewers": true,
     "node_id": "KAGLkKqecsA10rVSrPKvh2",
     "type": "CODE"
    }
   },
   "outputs": [
    {
     "name": "stdout",
     "output_type": "stream",
     "text": [
      "<class 'pandas.core.frame.DataFrame'>\n",
      "RangeIndex: 61733 entries, 0 to 61732\n",
      "Data columns (total 4 columns):\n",
      " #   Column      Non-Null Count  Dtype \n",
      "---  ------      --------------  ----- \n",
      " 0   user_id     61733 non-null  object\n",
      " 1   first_date  61733 non-null  object\n",
      " 2   region      61733 non-null  object\n",
      " 3   device      61733 non-null  object\n",
      "dtypes: object(4)\n",
      "memory usage: 1.9+ MB\n"
     ]
    }
   ],
   "source": [
    "new_users.info()"
   ]
  },
  {
   "cell_type": "markdown",
   "metadata": {
    "datalore": {
     "hide_input_from_viewers": true,
     "hide_output_from_viewers": true,
     "node_id": "XAwN9Q9XrWxXPLZs3q778x",
     "type": "MD"
    }
   },
   "source": [
    "- В датасете 61733 строки;\n",
    "- Столбец с датой регистрации в неверном типе."
   ]
  },
  {
   "cell_type": "markdown",
   "metadata": {
    "datalore": {
     "hide_input_from_viewers": true,
     "hide_output_from_viewers": true,
     "node_id": "kfLoZSlZG60oPNnpfkTstX",
     "type": "MD"
    }
   },
   "source": [
    "#### Пропуски"
   ]
  },
  {
   "cell_type": "code",
   "execution_count": 102,
   "metadata": {
    "ExecuteTime": {
     "end_time": "2022-12-23T06:27:06.311017Z",
     "start_time": "2022-12-23T06:27:06.211627Z"
    },
    "datalore": {
     "hide_input_from_viewers": true,
     "hide_output_from_viewers": true,
     "node_id": "XC45uuIHJhECVusaJGfESd",
     "type": "CODE"
    }
   },
   "outputs": [
    {
     "data": {
      "text/plain": [
       "user_id       0\n",
       "first_date    0\n",
       "region        0\n",
       "device        0\n",
       "dtype: int64"
      ]
     },
     "execution_count": 102,
     "metadata": {},
     "output_type": "execute_result"
    }
   ],
   "source": [
    "new_users.isna().sum()"
   ]
  },
  {
   "cell_type": "markdown",
   "metadata": {
    "datalore": {
     "hide_input_from_viewers": true,
     "hide_output_from_viewers": true,
     "node_id": "K34G0KmKtCTqsCWYsq2NSq",
     "type": "MD"
    }
   },
   "source": [
    "Пропуски в датасете не найдены."
   ]
  },
  {
   "cell_type": "markdown",
   "metadata": {
    "datalore": {
     "hide_input_from_viewers": true,
     "hide_output_from_viewers": true,
     "node_id": "K9PCuD39ldpGnfvTOT3eiT",
     "type": "MD"
    }
   },
   "source": [
    "#### Дубликаты в идентификаторах пользователей"
   ]
  },
  {
   "cell_type": "code",
   "execution_count": 103,
   "metadata": {
    "ExecuteTime": {
     "end_time": "2022-12-23T06:27:06.392023Z",
     "start_time": "2022-12-23T06:27:06.318019Z"
    },
    "datalore": {
     "hide_input_from_viewers": true,
     "hide_output_from_viewers": true,
     "node_id": "hykHJZ4kXvDCXrCHC2HIcW",
     "type": "CODE"
    }
   },
   "outputs": [
    {
     "data": {
      "text/plain": [
       "0"
      ]
     },
     "execution_count": 103,
     "metadata": {},
     "output_type": "execute_result"
    }
   ],
   "source": [
    "new_users.duplicated().sum()"
   ]
  },
  {
   "cell_type": "markdown",
   "metadata": {
    "datalore": {
     "hide_input_from_viewers": true,
     "hide_output_from_viewers": true,
     "node_id": "xpD6uGsb5bi4PshfZnVoHQ",
     "type": "MD"
    }
   },
   "source": [
    "Явных дубликатов нет."
   ]
  },
  {
   "cell_type": "code",
   "execution_count": 104,
   "metadata": {
    "ExecuteTime": {
     "end_time": "2022-12-23T06:27:06.454016Z",
     "start_time": "2022-12-23T06:27:06.399020Z"
    },
    "datalore": {
     "hide_input_from_viewers": true,
     "hide_output_from_viewers": true,
     "node_id": "nVZ3hsY09iN6jycx9mdgqw",
     "type": "CODE"
    }
   },
   "outputs": [
    {
     "data": {
      "text/plain": [
       "0"
      ]
     },
     "execution_count": 104,
     "metadata": {},
     "output_type": "execute_result"
    }
   ],
   "source": [
    "new_users['user_id'].str.isalpha().sum()"
   ]
  },
  {
   "cell_type": "markdown",
   "metadata": {
    "datalore": {
     "hide_input_from_viewers": true,
     "hide_output_from_viewers": true,
     "node_id": "rGaREih2fKsTBkcoPwdA7h",
     "type": "MD"
    }
   },
   "source": [
    "Идентификаторы состоят не только из букв."
   ]
  },
  {
   "cell_type": "code",
   "execution_count": 105,
   "metadata": {
    "ExecuteTime": {
     "end_time": "2022-12-23T06:27:06.507700Z",
     "start_time": "2022-12-23T06:27:06.459019Z"
    },
    "datalore": {
     "hide_input_from_viewers": true,
     "hide_output_from_viewers": true,
     "node_id": "fg1fAMHrK9KTDBFx1rr4OS",
     "type": "CODE"
    }
   },
   "outputs": [
    {
     "data": {
      "text/plain": [
       "0"
      ]
     },
     "execution_count": 105,
     "metadata": {},
     "output_type": "execute_result"
    }
   ],
   "source": [
    "new_users['user_id'].str.islower().sum()"
   ]
  },
  {
   "cell_type": "markdown",
   "metadata": {
    "datalore": {
     "hide_input_from_viewers": true,
     "hide_output_from_viewers": true,
     "node_id": "BrPvpfJRIeaer2i8In2vbL",
     "type": "MD"
    }
   },
   "source": [
    "В идентификаторах пользователей нет прописных букв."
   ]
  },
  {
   "cell_type": "code",
   "execution_count": 106,
   "metadata": {
    "ExecuteTime": {
     "end_time": "2022-12-23T06:27:06.571169Z",
     "start_time": "2022-12-23T06:27:06.519175Z"
    },
    "datalore": {
     "hide_input_from_viewers": true,
     "hide_output_from_viewers": true,
     "node_id": "6xo7qyZWRRW6nO9krI2I3Q",
     "type": "CODE"
    }
   },
   "outputs": [
    {
     "data": {
      "text/plain": [
       "61692"
      ]
     },
     "execution_count": 106,
     "metadata": {},
     "output_type": "execute_result"
    }
   ],
   "source": [
    "new_users['user_id'].str.isupper().sum()"
   ]
  },
  {
   "cell_type": "code",
   "execution_count": 107,
   "metadata": {
    "ExecuteTime": {
     "end_time": "2022-12-23T06:27:06.635170Z",
     "start_time": "2022-12-23T06:27:06.578169Z"
    },
    "datalore": {
     "hide_input_from_viewers": true,
     "hide_output_from_viewers": true,
     "node_id": "M2RIeuUIiaixFgJhilo1Yg",
     "type": "CODE"
    }
   },
   "outputs": [
    {
     "data": {
      "text/plain": [
       "41"
      ]
     },
     "execution_count": 107,
     "metadata": {},
     "output_type": "execute_result"
    }
   ],
   "source": [
    "new_users['user_id'].str.isnumeric().sum()"
   ]
  },
  {
   "cell_type": "markdown",
   "metadata": {
    "datalore": {
     "hide_input_from_viewers": true,
     "hide_output_from_viewers": true,
     "node_id": "l7tuhKN9UIhutQQyNM6Xt1",
     "type": "MD"
    }
   },
   "source": [
    "В датасете 61692 идентификатора, которые содержат цифры и заглавные буквы, и 41 идентификатор, состоящие только из цифр."
   ]
  },
  {
   "cell_type": "markdown",
   "metadata": {
    "datalore": {
     "hide_input_from_viewers": true,
     "hide_output_from_viewers": true,
     "node_id": "hlLyhBEs1x7IQRPCaz10Z8",
     "type": "MD"
    }
   },
   "source": [
    "#### Дубликаты"
   ]
  },
  {
   "cell_type": "code",
   "execution_count": 108,
   "metadata": {
    "ExecuteTime": {
     "end_time": "2022-12-23T06:27:06.667169Z",
     "start_time": "2022-12-23T06:27:06.641167Z"
    },
    "datalore": {
     "hide_input_from_viewers": true,
     "hide_output_from_viewers": true,
     "node_id": "rAnyaCZnW4WLbLOWG9nHlY",
     "type": "CODE"
    }
   },
   "outputs": [
    {
     "data": {
      "text/plain": [
       "array(['EU', 'N.America', 'APAC', 'CIS'], dtype=object)"
      ]
     },
     "execution_count": 108,
     "metadata": {},
     "output_type": "execute_result"
    }
   ],
   "source": [
    "new_users['region'].unique()"
   ]
  },
  {
   "cell_type": "markdown",
   "metadata": {
    "datalore": {
     "hide_input_from_viewers": true,
     "hide_output_from_viewers": true,
     "node_id": "cBP3u2Omo75Ye4ReOWpvrj",
     "type": "MD"
    }
   },
   "source": [
    "В датасете пользователи из четырех регионов."
   ]
  },
  {
   "cell_type": "code",
   "execution_count": 109,
   "metadata": {
    "ExecuteTime": {
     "end_time": "2022-12-23T06:27:06.714799Z",
     "start_time": "2022-12-23T06:27:06.667708Z"
    },
    "datalore": {
     "hide_input_from_viewers": true,
     "hide_output_from_viewers": true,
     "node_id": "QquDeX7UZU97417Rt5X5c8",
     "type": "CODE"
    }
   },
   "outputs": [
    {
     "data": {
      "text/plain": [
       "array(['PC', 'Android', 'iPhone', 'Mac'], dtype=object)"
      ]
     },
     "execution_count": 109,
     "metadata": {},
     "output_type": "execute_result"
    }
   ],
   "source": [
    "new_users['device'].unique()"
   ]
  },
  {
   "cell_type": "markdown",
   "metadata": {
    "datalore": {
     "hide_input_from_viewers": true,
     "hide_output_from_viewers": true,
     "node_id": "qT9etMmjqfABn9wsxKN0qF",
     "type": "MD"
    }
   },
   "source": [
    "Четыре типа устройств, с которых регистрировались пользователи."
   ]
  },
  {
   "cell_type": "markdown",
   "metadata": {
    "datalore": {
     "hide_input_from_viewers": true,
     "hide_output_from_viewers": true,
     "node_id": "ftn9DGZ0qTih58x4Y83BjA",
     "type": "MD"
    }
   },
   "source": [
    "#### Распределения"
   ]
  },
  {
   "cell_type": "code",
   "execution_count": 110,
   "metadata": {
    "ExecuteTime": {
     "end_time": "2022-12-23T06:27:06.747800Z",
     "start_time": "2022-12-23T06:27:06.719801Z"
    },
    "datalore": {
     "hide_input_from_viewers": true,
     "hide_output_from_viewers": true,
     "node_id": "SgWmnTedMRTf3te4eUHYHN",
     "type": "CODE"
    }
   },
   "outputs": [
    {
     "data": {
      "text/html": [
       "<div>\n",
       "<style scoped>\n",
       "    .dataframe tbody tr th:only-of-type {\n",
       "        vertical-align: middle;\n",
       "    }\n",
       "\n",
       "    .dataframe tbody tr th {\n",
       "        vertical-align: top;\n",
       "    }\n",
       "\n",
       "    .dataframe thead th {\n",
       "        text-align: right;\n",
       "    }\n",
       "</style>\n",
       "<table border=\"1\" class=\"dataframe\">\n",
       "  <thead>\n",
       "    <tr style=\"text-align: right;\">\n",
       "      <th></th>\n",
       "      <th>user_id</th>\n",
       "      <th>first_date</th>\n",
       "      <th>region</th>\n",
       "      <th>device</th>\n",
       "    </tr>\n",
       "  </thead>\n",
       "  <tbody>\n",
       "    <tr>\n",
       "      <th>0</th>\n",
       "      <td>D72A72121175D8BE</td>\n",
       "      <td>2020-12-07</td>\n",
       "      <td>EU</td>\n",
       "      <td>PC</td>\n",
       "    </tr>\n",
       "    <tr>\n",
       "      <th>1</th>\n",
       "      <td>F1C668619DFE6E65</td>\n",
       "      <td>2020-12-07</td>\n",
       "      <td>N.America</td>\n",
       "      <td>Android</td>\n",
       "    </tr>\n",
       "    <tr>\n",
       "      <th>2</th>\n",
       "      <td>2E1BF1D4C37EA01F</td>\n",
       "      <td>2020-12-07</td>\n",
       "      <td>EU</td>\n",
       "      <td>PC</td>\n",
       "    </tr>\n",
       "    <tr>\n",
       "      <th>3</th>\n",
       "      <td>50734A22C0C63768</td>\n",
       "      <td>2020-12-07</td>\n",
       "      <td>EU</td>\n",
       "      <td>iPhone</td>\n",
       "    </tr>\n",
       "    <tr>\n",
       "      <th>4</th>\n",
       "      <td>E1BDDCE0DAFA2679</td>\n",
       "      <td>2020-12-07</td>\n",
       "      <td>N.America</td>\n",
       "      <td>iPhone</td>\n",
       "    </tr>\n",
       "  </tbody>\n",
       "</table>\n",
       "</div>"
      ],
      "text/plain": [
       "            user_id  first_date     region   device\n",
       "0  D72A72121175D8BE  2020-12-07         EU       PC\n",
       "1  F1C668619DFE6E65  2020-12-07  N.America  Android\n",
       "2  2E1BF1D4C37EA01F  2020-12-07         EU       PC\n",
       "3  50734A22C0C63768  2020-12-07         EU   iPhone\n",
       "4  E1BDDCE0DAFA2679  2020-12-07  N.America   iPhone"
      ]
     },
     "execution_count": 110,
     "metadata": {},
     "output_type": "execute_result"
    }
   ],
   "source": [
    "new_users.head()"
   ]
  },
  {
   "cell_type": "code",
   "execution_count": 111,
   "metadata": {
    "ExecuteTime": {
     "end_time": "2022-12-23T06:27:07.650987Z",
     "start_time": "2022-12-23T06:27:06.754801Z"
    },
    "datalore": {
     "hide_input_from_viewers": true,
     "hide_output_from_viewers": true,
     "node_id": "iQnEndVoJLSLqAlptN2bNL",
     "type": "CODE"
    }
   },
   "outputs": [
    {
     "data": {
      "image/png": "[encoded data removed]",
      "text/plain": [
       "<Figure size 720x360 with 1 Axes>"
      ]
     },
     "metadata": {
      "needs_background": "light"
     },
     "output_type": "display_data"
    }
   ],
   "source": [
    "plt.figure(figsize=(10, 5))\n",
    "sns.countplot(\n",
    "    data=new_users\n",
    "        .assign(\n",
    "            first_day_dec = lambda x: pd.to_datetime(x['first_date']).dt.strftime('%d')\n",
    "        ).sort_values('first_day_dec'),\n",
    "    x='first_day_dec'\n",
    ")\n",
    "plt.title('Распределение дат регистрации пользователей')\n",
    "plt.xlabel('Дата регистрации')\n",
    "plt.ylabel('Количество пользователей')\n",
    "plt.show()"
   ]
  },
  {
   "cell_type": "markdown",
   "metadata": {
    "datalore": {
     "hide_input_from_viewers": true,
     "hide_output_from_viewers": true,
     "node_id": "xgZrNG4EkjdQI6Aozkgru3",
     "type": "MD"
    }
   },
   "source": [
    "Динамика набора пользователей во многом похожа на динамику количества событий по дням - первый пик 14 декабря, затем падение метрики, снова пик 21-го."
   ]
  },
  {
   "cell_type": "markdown",
   "metadata": {
    "datalore": {
     "hide_input_from_viewers": true,
     "hide_output_from_viewers": true,
     "node_id": "605iWuPXarEByVYXMLepCw",
     "type": "MD"
    }
   },
   "source": [
    "### Датасет с участниками тестов"
   ]
  },
  {
   "cell_type": "code",
   "execution_count": 112,
   "metadata": {
    "ExecuteTime": {
     "end_time": "2022-12-23T06:27:07.745001Z",
     "start_time": "2022-12-23T06:27:07.657992Z"
    },
    "datalore": {
     "hide_input_from_viewers": false,
     "hide_output_from_viewers": false,
     "node_id": "fN6oSbox9k9INVg54Q4Xg3",
     "report_properties": {},
     "type": "CODE"
    }
   },
   "outputs": [],
   "source": [
    "try:\n",
    "    participants = pd.read_csv(\n",
    "        '/datasets/final_ab_participants.csv'\n",
    "    )\n",
    "except:\n",
    "    participants = pd.read_csv('final_ab_participants.csv')"
   ]
  },
  {
   "cell_type": "code",
   "execution_count": 113,
   "metadata": {
    "ExecuteTime": {
     "end_time": "2022-12-23T06:27:07.776225Z",
     "start_time": "2022-12-23T06:27:07.751145Z"
    },
    "datalore": {
     "hide_input_from_viewers": false,
     "hide_output_from_viewers": false,
     "node_id": "G3054kqGbxFRQsWl8v08bm",
     "report_properties": {},
     "type": "CODE"
    }
   },
   "outputs": [
    {
     "data": {
      "text/html": [
       "<div>\n",
       "<style scoped>\n",
       "    .dataframe tbody tr th:only-of-type {\n",
       "        vertical-align: middle;\n",
       "    }\n",
       "\n",
       "    .dataframe tbody tr th {\n",
       "        vertical-align: top;\n",
       "    }\n",
       "\n",
       "    .dataframe thead th {\n",
       "        text-align: right;\n",
       "    }\n",
       "</style>\n",
       "<table border=\"1\" class=\"dataframe\">\n",
       "  <thead>\n",
       "    <tr style=\"text-align: right;\">\n",
       "      <th></th>\n",
       "      <th>user_id</th>\n",
       "      <th>group</th>\n",
       "      <th>ab_test</th>\n",
       "    </tr>\n",
       "  </thead>\n",
       "  <tbody>\n",
       "    <tr>\n",
       "      <th>0</th>\n",
       "      <td>D1ABA3E2887B6A73</td>\n",
       "      <td>A</td>\n",
       "      <td>recommender_system_test</td>\n",
       "    </tr>\n",
       "    <tr>\n",
       "      <th>1</th>\n",
       "      <td>A7A3664BD6242119</td>\n",
       "      <td>A</td>\n",
       "      <td>recommender_system_test</td>\n",
       "    </tr>\n",
       "    <tr>\n",
       "      <th>2</th>\n",
       "      <td>DABC14FDDFADD29E</td>\n",
       "      <td>A</td>\n",
       "      <td>recommender_system_test</td>\n",
       "    </tr>\n",
       "    <tr>\n",
       "      <th>3</th>\n",
       "      <td>04988C5DF189632E</td>\n",
       "      <td>A</td>\n",
       "      <td>recommender_system_test</td>\n",
       "    </tr>\n",
       "    <tr>\n",
       "      <th>4</th>\n",
       "      <td>482F14783456D21B</td>\n",
       "      <td>B</td>\n",
       "      <td>recommender_system_test</td>\n",
       "    </tr>\n",
       "  </tbody>\n",
       "</table>\n",
       "</div>"
      ],
      "text/plain": [
       "            user_id group                  ab_test\n",
       "0  D1ABA3E2887B6A73     A  recommender_system_test\n",
       "1  A7A3664BD6242119     A  recommender_system_test\n",
       "2  DABC14FDDFADD29E     A  recommender_system_test\n",
       "3  04988C5DF189632E     A  recommender_system_test\n",
       "4  482F14783456D21B     B  recommender_system_test"
      ]
     },
     "execution_count": 113,
     "metadata": {},
     "output_type": "execute_result"
    }
   ],
   "source": [
    "participants.head()"
   ]
  },
  {
   "cell_type": "code",
   "execution_count": 114,
   "metadata": {
    "ExecuteTime": {
     "end_time": "2022-12-23T06:27:07.838894Z",
     "start_time": "2022-12-23T06:27:07.782027Z"
    },
    "datalore": {
     "hide_input_from_viewers": false,
     "hide_output_from_viewers": false,
     "node_id": "rftzatEdc3F6QyvcLuOCqm",
     "report_properties": {},
     "type": "CODE"
    }
   },
   "outputs": [
    {
     "name": "stdout",
     "output_type": "stream",
     "text": [
      "<class 'pandas.core.frame.DataFrame'>\n",
      "RangeIndex: 18268 entries, 0 to 18267\n",
      "Data columns (total 3 columns):\n",
      " #   Column   Non-Null Count  Dtype \n",
      "---  ------   --------------  ----- \n",
      " 0   user_id  18268 non-null  object\n",
      " 1   group    18268 non-null  object\n",
      " 2   ab_test  18268 non-null  object\n",
      "dtypes: object(3)\n",
      "memory usage: 428.3+ KB\n"
     ]
    }
   ],
   "source": [
    "participants.info()"
   ]
  },
  {
   "cell_type": "markdown",
   "metadata": {
    "datalore": {
     "hide_input_from_viewers": true,
     "hide_output_from_viewers": true,
     "node_id": "EkJts8Wsv4QiMB1iWKVcRL",
     "type": "MD"
    }
   },
   "source": [
    "В датасете 18268 строк."
   ]
  },
  {
   "cell_type": "code",
   "execution_count": 115,
   "metadata": {
    "ExecuteTime": {
     "end_time": "2022-12-23T06:27:07.886960Z",
     "start_time": "2022-12-23T06:27:07.842895Z"
    },
    "datalore": {
     "hide_input_from_viewers": true,
     "hide_output_from_viewers": true,
     "node_id": "BkjrBFI3sz5JPVJHBEIa1I",
     "type": "CODE"
    }
   },
   "outputs": [
    {
     "data": {
      "text/plain": [
       "user_id    0\n",
       "group      0\n",
       "ab_test    0\n",
       "dtype: int64"
      ]
     },
     "execution_count": 115,
     "metadata": {},
     "output_type": "execute_result"
    }
   ],
   "source": [
    "participants.isna().sum()"
   ]
  },
  {
   "cell_type": "markdown",
   "metadata": {
    "datalore": {
     "hide_input_from_viewers": true,
     "hide_output_from_viewers": true,
     "node_id": "PLwHDrksl2RgrVMFLYvnKC",
     "type": "MD"
    }
   },
   "source": [
    "Пропусков нет."
   ]
  },
  {
   "cell_type": "code",
   "execution_count": 116,
   "metadata": {
    "ExecuteTime": {
     "end_time": "2022-12-23T06:27:07.947007Z",
     "start_time": "2022-12-23T06:27:07.894960Z"
    },
    "datalore": {
     "hide_input_from_viewers": true,
     "hide_output_from_viewers": true,
     "node_id": "KdtARkHOrmFJDOnPYwGo2h",
     "type": "CODE"
    }
   },
   "outputs": [
    {
     "data": {
      "text/plain": [
       "0"
      ]
     },
     "execution_count": 116,
     "metadata": {},
     "output_type": "execute_result"
    }
   ],
   "source": [
    "participants.duplicated().sum()"
   ]
  },
  {
   "cell_type": "markdown",
   "metadata": {
    "datalore": {
     "hide_input_from_viewers": true,
     "hide_output_from_viewers": true,
     "node_id": "Fw0tBNsbglBCBpzFsKmyPP",
     "type": "MD"
    }
   },
   "source": [
    "Явных дубликатов нет."
   ]
  },
  {
   "cell_type": "code",
   "execution_count": 117,
   "metadata": {
    "ExecuteTime": {
     "end_time": "2022-12-23T06:27:07.979003Z",
     "start_time": "2022-12-23T06:27:07.955004Z"
    },
    "datalore": {
     "hide_input_from_viewers": true,
     "hide_output_from_viewers": true,
     "node_id": "U3ULiOj7T2SjFe4ZMKTaMc",
     "type": "CODE"
    }
   },
   "outputs": [
    {
     "data": {
      "text/plain": [
       "1602"
      ]
     },
     "execution_count": 117,
     "metadata": {},
     "output_type": "execute_result"
    }
   ],
   "source": [
    "participants['user_id'].duplicated().sum()"
   ]
  },
  {
   "cell_type": "markdown",
   "metadata": {
    "datalore": {
     "hide_input_from_viewers": true,
     "hide_output_from_viewers": true,
     "node_id": "a6MimpbU1iKG1UjwGithk7",
     "type": "MD"
    }
   },
   "source": [
    "1602 дубликата в id пользователях."
   ]
  },
  {
   "cell_type": "code",
   "execution_count": 118,
   "metadata": {
    "ExecuteTime": {
     "end_time": "2022-12-23T06:27:08.013834Z",
     "start_time": "2022-12-23T06:27:07.985001Z"
    },
    "datalore": {
     "hide_input_from_viewers": true,
     "hide_output_from_viewers": true,
     "node_id": "Gvp2LrgsPLjfeAsbLBWZIy",
     "type": "CODE"
    }
   },
   "outputs": [
    {
     "data": {
      "text/plain": [
       "18254"
      ]
     },
     "execution_count": 118,
     "metadata": {},
     "output_type": "execute_result"
    }
   ],
   "source": [
    "participants['user_id'].str.isupper().sum()"
   ]
  },
  {
   "cell_type": "code",
   "execution_count": 119,
   "metadata": {
    "ExecuteTime": {
     "end_time": "2022-12-23T06:27:08.048311Z",
     "start_time": "2022-12-23T06:27:08.020023Z"
    },
    "datalore": {
     "hide_input_from_viewers": true,
     "hide_output_from_viewers": true,
     "node_id": "ghfcc8kqHejWO5boMcQ9Is",
     "type": "CODE"
    }
   },
   "outputs": [
    {
     "data": {
      "text/plain": [
       "14"
      ]
     },
     "execution_count": 119,
     "metadata": {},
     "output_type": "execute_result"
    }
   ],
   "source": [
    "participants['user_id'].str.isdigit().sum()"
   ]
  },
  {
   "cell_type": "markdown",
   "metadata": {
    "datalore": {
     "hide_input_from_viewers": true,
     "hide_output_from_viewers": true,
     "node_id": "EXjdwDKmnehdYe6OHSzMy5",
     "type": "MD"
    }
   },
   "source": [
    "18254 идентификатора состоят состоят из цифр и заглавных букв, а 14 идентификаторов - только из цифр."
   ]
  },
  {
   "cell_type": "code",
   "execution_count": 120,
   "metadata": {
    "ExecuteTime": {
     "end_time": "2022-12-23T06:27:08.096313Z",
     "start_time": "2022-12-23T06:27:08.071310Z"
    },
    "datalore": {
     "hide_input_from_viewers": true,
     "hide_output_from_viewers": true,
     "node_id": "MSYQMDTozxqRSZXMbl11qO",
     "type": "CODE"
    }
   },
   "outputs": [
    {
     "data": {
      "text/plain": [
       "array(['A', 'B'], dtype=object)"
      ]
     },
     "execution_count": 120,
     "metadata": {},
     "output_type": "execute_result"
    }
   ],
   "source": [
    "participants['group'].unique()"
   ]
  },
  {
   "cell_type": "markdown",
   "metadata": {
    "datalore": {
     "hide_input_from_viewers": true,
     "hide_output_from_viewers": true,
     "node_id": "T0PInBHtYebBDeoiCEZB8Y",
     "type": "MD"
    }
   },
   "source": [
    "Дубликатов в столбце с группой тестирования нет."
   ]
  },
  {
   "cell_type": "code",
   "execution_count": 121,
   "metadata": {
    "ExecuteTime": {
     "end_time": "2022-12-23T06:27:08.127904Z",
     "start_time": "2022-12-23T06:27:08.101228Z"
    },
    "datalore": {
     "hide_input_from_viewers": true,
     "hide_output_from_viewers": true,
     "node_id": "MkAoap4Ap9Cahug4W5Er5X",
     "type": "CODE"
    }
   },
   "outputs": [
    {
     "data": {
      "text/plain": [
       "array(['recommender_system_test', 'interface_eu_test'], dtype=object)"
      ]
     },
     "execution_count": 121,
     "metadata": {},
     "output_type": "execute_result"
    }
   ],
   "source": [
    "participants['ab_test'].unique()"
   ]
  },
  {
   "cell_type": "markdown",
   "metadata": {
    "datalore": {
     "hide_input_from_viewers": true,
     "hide_output_from_viewers": true,
     "node_id": "XhTIIEAklXKj30xklhQMQc",
     "type": "MD"
    }
   },
   "source": [
    "Таблица содержит пользователей, участвующие в двух A/B-тестах."
   ]
  },
  {
   "cell_type": "code",
   "execution_count": 122,
   "metadata": {
    "ExecuteTime": {
     "end_time": "2022-12-23T06:27:08.175641Z",
     "start_time": "2022-12-23T06:27:08.134645Z"
    },
    "datalore": {
     "hide_input_from_viewers": true,
     "hide_output_from_viewers": true,
     "node_id": "awRsLSkKnShSh8gc1GO3qP",
     "type": "CODE"
    }
   },
   "outputs": [
    {
     "name": "stdout",
     "output_type": "stream",
     "text": [
      "1602\n"
     ]
    },
    {
     "data": {
      "text/plain": [
       "array(['recommender_system_test', 'interface_eu_test'], dtype=object)"
      ]
     },
     "execution_count": 122,
     "metadata": {},
     "output_type": "execute_result"
    }
   ],
   "source": [
    "# сохраняю дублирующие id\n",
    "duplicated_users = participants[participants['user_id'].duplicated()]['user_id']\n",
    "\n",
    "print(duplicated_users.shape[0])\n",
    "\n",
    "participants[\n",
    "        participants['user_id'].isin(duplicated_users)\n",
    "]['ab_test'].unique()"
   ]
  },
  {
   "cell_type": "markdown",
   "metadata": {
    "datalore": {
     "hide_input_from_viewers": true,
     "hide_output_from_viewers": true,
     "node_id": "n97SoAhWG1dnH871h7tXu4",
     "type": "MD"
    }
   },
   "source": [
    "Данный датасет содержит 1602 пользователя, участвующие в двух A/B-тестах."
   ]
  },
  {
   "cell_type": "code",
   "execution_count": 123,
   "metadata": {
    "ExecuteTime": {
     "end_time": "2022-12-23T06:27:08.327412Z",
     "start_time": "2022-12-23T06:27:08.182641Z"
    },
    "datalore": {
     "hide_input_from_viewers": true,
     "hide_output_from_viewers": true,
     "node_id": "uKzBxCXuqPzf59zDIW63X1",
     "type": "CODE"
    }
   },
   "outputs": [
    {
     "name": "stdout",
     "output_type": "stream",
     "text": [
      "recommender_system_test\n",
      "More than one group : 0\n",
      "\n",
      "interface_eu_test\n",
      "More than one group : 0\n",
      "\n"
     ]
    }
   ],
   "source": [
    "# ищу пользователей, оказавшихся в двух группах\n",
    "for test in participants['ab_test'].unique():\n",
    "    more_than_one = (\n",
    "        participants\n",
    "            .query('ab_test == @test')\n",
    "            .groupby('user_id')\n",
    "            .agg({'group':'nunique'})\n",
    "            .query('group > 1')\n",
    "            .shape[0]\n",
    "    )\n",
    "    print(test)\n",
    "    print('More than one group :', more_than_one)\n",
    "    print()"
   ]
  },
  {
   "cell_type": "markdown",
   "metadata": {
    "datalore": {
     "hide_input_from_viewers": true,
     "hide_output_from_viewers": true,
     "node_id": "SP8YSHyLZ3iZTtDWz7drym",
     "type": "MD"
    }
   },
   "source": [
    "Не нашлось ни одного участника, который оказался в обеих группах, в двух экспериментах."
   ]
  },
  {
   "cell_type": "markdown",
   "metadata": {
    "datalore": {
     "hide_input_from_viewers": true,
     "hide_output_from_viewers": true,
     "node_id": "h3GLWa4VO35NW7qBKzzboR",
     "type": "MD"
    }
   },
   "source": [
    "### Выводы"
   ]
  },
  {
   "cell_type": "markdown",
   "metadata": {
    "datalore": {
     "hide_input_from_viewers": true,
     "hide_output_from_viewers": true,
     "node_id": "GDWmQF1UZUaqhi8zMiwy7D",
     "type": "MD"
    }
   },
   "source": [
    "1. **final_ab_events.csv**\n",
    "    - Таблица содержит 440317 строк и 4 колонки;\n",
    "    - Столбец с датой действия имеет неверный тип данных - `object` вместо `datetime` ;\n",
    "    - 377577 пропусков в  столбце с дополнительной информацией `details` - содержатся только у тех событий, которые не являются *покупками*;\n",
    "    - Явных дубликатов нет;\n",
    "    - Данные с 7 по 30 декабря 2020 года, что соответствует дате начала А/В-эксперимента;\n",
    "    - Есть только четыре опции оплаты в `details` .\n",
    "2. **ab_project_marketing_events.csv**\n",
    "    - 14 строк и 4 колонки;\n",
    "    - Столбцы с началом и концом рекламной кампании в несоответствующем типе данных;\n",
    "    - Пропусков и явных дубликатов нет;\n",
    "3. **final_ab_new_users.csv**\n",
    "    - В датасете 61733 строки;\n",
    "    - Столбец с датой регистрации в неверном типе;\n",
    "    - Пропусков нет и дубликатов нет;\n",
    "    - Данные с 12 по 23 декабря 2020 года включительно;\n",
    "4. **final_ab_participants.csv**\n",
    "    - В датасете 18268 строк;\n",
    "    - Пропусков и дубликатов нет;\n",
    "    - Разделение участников по группам прошло корректно;\n",
    "    - 1602 пользователя участвуют в двух A/В-тестах.\n",
    "\n",
    "Необходимо:\n",
    "\n",
    "- Во всех таблицах привести столбцы с датой к `datetime` ."
   ]
  },
  {
   "cell_type": "markdown",
   "metadata": {
    "datalore": {
     "hide_input_from_viewers": true,
     "hide_output_from_viewers": true,
     "node_id": "f89oVM40YUiq5j9RtCBbwu",
     "type": "MD"
    }
   },
   "source": [
    "## Предобработка данных"
   ]
  },
  {
   "cell_type": "markdown",
   "metadata": {
    "datalore": {
     "hide_input_from_viewers": true,
     "hide_output_from_viewers": true,
     "node_id": "Vnb7tZaZ3lT3LR1CV7TGgC",
     "type": "MD"
    }
   },
   "source": [
    "Привожу столбцы к типу `datetime`:"
   ]
  },
  {
   "cell_type": "code",
   "execution_count": 124,
   "metadata": {
    "ExecuteTime": {
     "end_time": "2022-12-23T06:27:09.211922Z",
     "start_time": "2022-12-23T06:27:08.334417Z"
    },
    "datalore": {
     "hide_input_from_viewers": true,
     "hide_output_from_viewers": true,
     "node_id": "rxEWjcxDjxqatm51qkZuME",
     "type": "CODE"
    }
   },
   "outputs": [],
   "source": [
    "# столбец с датой события\n",
    "events['event_dt'] = pd.to_datetime(events['event_dt'])\n",
    "# столбцы с датами начала и конца рекламной кампании\n",
    "marketing['start_dt'] = pd.to_datetime(marketing['start_dt'])\n",
    "marketing['finish_dt'] = pd.to_datetime(marketing['finish_dt'])\n",
    "# столбец с датой регистрации\n",
    "new_users['first_date'] = pd.to_datetime(new_users['first_date'])"
   ]
  },
  {
   "cell_type": "markdown",
   "metadata": {
    "datalore": {
     "hide_input_from_viewers": true,
     "hide_output_from_viewers": true,
     "node_id": "QrvkbLHaNTDKaHLPk31GmP",
     "type": "MD"
    }
   },
   "source": [
    "## Оценка корректности проведения теста"
   ]
  },
  {
   "cell_type": "markdown",
   "metadata": {
    "datalore": {
     "hide_input_from_viewers": true,
     "hide_output_from_viewers": true,
     "node_id": "cTlzWHUtoYXFvLXakVC2rD",
     "type": "MD"
    }
   },
   "source": [
    "### Проверка соответствия данных требованиям техзадания"
   ]
  },
  {
   "cell_type": "markdown",
   "metadata": {
    "datalore": {
     "hide_input_from_viewers": true,
     "hide_output_from_viewers": true,
     "node_id": "2UEBCwo3cFT17UPMlrd3jw",
     "type": "MD"
    }
   },
   "source": [
    "#### Участники А/В-теста"
   ]
  },
  {
   "cell_type": "code",
   "execution_count": 125,
   "metadata": {
    "ExecuteTime": {
     "end_time": "2022-12-23T06:27:09.274599Z",
     "start_time": "2022-12-23T06:27:09.234238Z"
    },
    "datalore": {
     "hide_input_from_viewers": true,
     "hide_output_from_viewers": true,
     "node_id": "wSwTK7be2tMGPcADlulaOf",
     "type": "CODE"
    }
   },
   "outputs": [
    {
     "data": {
      "text/plain": [
       "6701"
      ]
     },
     "execution_count": 125,
     "metadata": {},
     "output_type": "execute_result"
    }
   ],
   "source": [
    "# сохраняю участников оцениваемого теста в отдельную таблицу\n",
    "rec_participants = participants.query('ab_test == \"recommender_system_test\"')\n",
    "\n",
    "# считаю количество участников\n",
    "rec_participants['user_id'].nunique()"
   ]
  },
  {
   "cell_type": "markdown",
   "metadata": {
    "datalore": {
     "hide_input_from_viewers": true,
     "hide_output_from_viewers": true,
     "node_id": "loIqmszea9cnTkuGFah0nr",
     "type": "MD"
    }
   },
   "source": [
    "Количество пользователей, принявших участие в тестировании, соответствует ожидаемому количеству участников."
   ]
  },
  {
   "cell_type": "code",
   "execution_count": 126,
   "metadata": {
    "ExecuteTime": {
     "end_time": "2022-12-23T06:27:09.321886Z",
     "start_time": "2022-12-23T06:27:09.281267Z"
    },
    "datalore": {
     "hide_input_from_viewers": true,
     "hide_output_from_viewers": true,
     "node_id": "iZEMWoePrIWhO9Hfb1fLWj",
     "type": "CODE"
    }
   },
   "outputs": [],
   "source": [
    "# сохраняю информацию про участников нужного а/б-теста из Европы\n",
    "rec_users = new_users[\n",
    "        new_users['user_id'].isin(rec_participants['user_id'])\n",
    "]"
   ]
  },
  {
   "cell_type": "code",
   "execution_count": 127,
   "metadata": {
    "ExecuteTime": {
     "end_time": "2022-12-23T06:27:09.377478Z",
     "start_time": "2022-12-23T06:27:09.328891Z"
    },
    "datalore": {
     "hide_input_from_viewers": true,
     "hide_output_from_viewers": true,
     "node_id": "B7dXwWQeqs13BztW2e3tHO",
     "type": "CODE"
    }
   },
   "outputs": [],
   "source": [
    "# смотрю из каких регионов участники теста\n",
    "rec_users.groupby('region', as_index=False)\\\n",
    "         .agg({'user_id' : 'nunique'})\n",
    "\n",
    "rec_users = rec_users.query('region == \"EU\"')"
   ]
  },
  {
   "cell_type": "markdown",
   "metadata": {
    "datalore": {
     "hide_input_from_viewers": true,
     "hide_output_from_viewers": true,
     "node_id": "YZ8L6qeOLXYtzH30lJBoiM",
     "type": "MD"
    }
   },
   "source": [
    "Из европейского региона насчитывается 6351 участник."
   ]
  },
  {
   "cell_type": "code",
   "execution_count": 128,
   "metadata": {
    "ExecuteTime": {
     "end_time": "2022-12-23T06:27:10.401981Z",
     "start_time": "2022-12-23T06:27:09.383231Z"
    },
    "datalore": {
     "hide_input_from_viewers": true,
     "hide_output_from_viewers": true,
     "node_id": "Az6AeZC6k8r7P8JEr6mK7o",
     "type": "CODE"
    }
   },
   "outputs": [
    {
     "data": {
      "image/png": "[encoded data removed]",
      "text/plain": [
       "<Figure size 720x360 with 1 Axes>"
      ]
     },
     "metadata": {
      "needs_background": "light"
     },
     "output_type": "display_data"
    }
   ],
   "source": [
    "rec_users['first_date'].hist(\n",
    "    figsize=(10, 5),\n",
    "    bins=50\n",
    ")\n",
    "plt.title('Распределение дат регистрации участников recomendation_system_test')\n",
    "plt.xlabel('Дата регистрации')\n",
    "plt.ylabel('Количество пользователей')\n",
    "plt.show()"
   ]
  },
  {
   "cell_type": "markdown",
   "metadata": {
    "datalore": {
     "hide_input_from_viewers": true,
     "hide_output_from_viewers": true,
     "node_id": "hin7aP6qKmwIsojDbKYS2b",
     "type": "MD"
    }
   },
   "source": [
    "В датасете нет пользователей, зарегистрированных после 21 декабря 2020 года, что согласуется с указанной датой остановки набора новых пользователей в техзадании."
   ]
  },
  {
   "cell_type": "markdown",
   "metadata": {
    "datalore": {
     "hide_input_from_viewers": true,
     "hide_output_from_viewers": true,
     "node_id": "By0Jeqe8wMjYK8QIQW3h7a",
     "type": "MD"
    }
   },
   "source": [
    "##### Вывод\n",
    "- Требования об ожидаемом количестве и аудитории участников удовлетворены - 6351 участник из *EU*;\n",
    "- Последние участники были зарегистрированы 21 декабря 2020 года, что согласуется с датой остановки набора новых пользователей в техзадании;"
   ]
  },
  {
   "cell_type": "markdown",
   "metadata": {
    "datalore": {
     "hide_input_from_viewers": true,
     "hide_output_from_viewers": true,
     "node_id": "zC5vQo0Tc908Ls1JSr7jYT",
     "type": "MD"
    }
   },
   "source": [
    "#### Ключевые метрики"
   ]
  },
  {
   "cell_type": "markdown",
   "metadata": {
    "datalore": {
     "hide_input_from_viewers": true,
     "hide_output_from_viewers": true,
     "node_id": "nCzTo9kfBihbR0zUiAPJ03",
     "type": "MD"
    }
   },
   "source": [
    "В ходе этого теста мы должны зафиксировать улучшение не менее, чем на 10%, таких метрик:\n",
    "- конверсии в просмотр карточек товаров — событие `product_page`,\n",
    "- просмотры корзины — `product_cart`,\n",
    "- покупки — `purchase`."
   ]
  },
  {
   "cell_type": "code",
   "execution_count": 129,
   "metadata": {
    "ExecuteTime": {
     "end_time": "2022-12-23T06:27:10.545980Z",
     "start_time": "2022-12-23T06:27:10.406984Z"
    },
    "datalore": {
     "hide_input_from_viewers": true,
     "hide_output_from_viewers": true,
     "node_id": "HmQlcZAZ3rnCqasKCMhP9j",
     "type": "CODE"
    }
   },
   "outputs": [
    {
     "data": {
      "text/plain": [
       "23420"
      ]
     },
     "execution_count": 129,
     "metadata": {},
     "output_type": "execute_result"
    }
   ],
   "source": [
    "# сохраняю события участников а/б-теста\n",
    "rec_events = events[\n",
    "        events['user_id'].isin(rec_users['user_id'])\n",
    "]\n",
    "rec_events.shape[0]"
   ]
  },
  {
   "cell_type": "markdown",
   "metadata": {
    "datalore": {
     "hide_input_from_viewers": true,
     "hide_output_from_viewers": true,
     "node_id": "u0Dqawzf8zORLRg0TMaIt6",
     "type": "MD"
    }
   },
   "source": [
    "Действия участников А/Б-теста сохранены в 23420 строках."
   ]
  },
  {
   "cell_type": "code",
   "execution_count": 130,
   "metadata": {
    "ExecuteTime": {
     "end_time": "2022-12-23T06:27:10.579469Z",
     "start_time": "2022-12-23T06:27:10.551982Z"
    },
    "datalore": {
     "hide_input_from_viewers": true,
     "hide_output_from_viewers": true,
     "node_id": "KmiNYdLpOO7gD8daZYoqTD",
     "type": "CODE"
    }
   },
   "outputs": [
    {
     "data": {
      "text/plain": [
       "array(['purchase', 'product_cart', 'product_page', 'login'], dtype=object)"
      ]
     },
     "execution_count": 130,
     "metadata": {},
     "output_type": "execute_result"
    }
   ],
   "source": [
    "rec_events['event_name'].unique()"
   ]
  },
  {
   "cell_type": "markdown",
   "metadata": {
    "datalore": {
     "hide_input_from_viewers": true,
     "hide_output_from_viewers": true,
     "node_id": "f2c8DXrL6nIOFBgc6LWCeA",
     "type": "MD"
    }
   },
   "source": [
    "##### Выводы:\n",
    "- В датасете имеются события, по которым будут рассчитаны ключевые метрики."
   ]
  },
  {
   "cell_type": "markdown",
   "metadata": {
    "datalore": {
     "hide_input_from_viewers": true,
     "hide_output_from_viewers": true,
     "node_id": "P23iPQPGR5U0WaGr1SY17K",
     "type": "MD"
    }
   },
   "source": [
    "#### Время проведения теста"
   ]
  },
  {
   "cell_type": "markdown",
   "metadata": {
    "datalore": {
     "hide_input_from_viewers": true,
     "hide_output_from_viewers": true,
     "node_id": "7KO8CUt9n9U0nFQKxpaagm",
     "type": "MD"
    }
   },
   "source": [
    "Требования из техзадания:\n",
    "- дата запуска: 2020-12-07;\n",
    "- дата остановки: 2021-01-04;"
   ]
  },
  {
   "cell_type": "code",
   "execution_count": 131,
   "metadata": {
    "ExecuteTime": {
     "end_time": "2022-12-23T06:27:13.797648Z",
     "start_time": "2022-12-23T06:27:10.588436Z"
    },
    "datalore": {
     "hide_input_from_viewers": true,
     "hide_output_from_viewers": true,
     "node_id": "2Sgqm3jywrkqFUyVaTEW3b",
     "type": "CODE"
    }
   },
   "outputs": [
    {
     "data": {
      "image/png": "[encoded data removed]",
      "text/plain": [
       "<Figure size 720x432 with 1 Axes>"
      ]
     },
     "metadata": {
      "needs_background": "light"
     },
     "output_type": "display_data"
    },
    {
     "data": {
      "text/plain": [
       "count                  440317\n",
       "unique                 267268\n",
       "top       2020-12-23 02:37:24\n",
       "freq                       10\n",
       "first     2020-12-07 00:00:33\n",
       "last      2020-12-30 23:36:33\n",
       "Name: event_dt, dtype: object"
      ]
     },
     "execution_count": 131,
     "metadata": {},
     "output_type": "execute_result"
    }
   ],
   "source": [
    "events['event_dt'].hist(figsize=(10, 6), bins=50)\n",
    "plt.title('Распределение времени событий')\n",
    "plt.ylabel('Количество событий')\n",
    "plt.xlabel('Дата события')\n",
    "plt.show()\n",
    "\n",
    "events['event_dt'].describe()"
   ]
  },
  {
   "cell_type": "markdown",
   "metadata": {
    "datalore": {
     "hide_input_from_viewers": true,
     "hide_output_from_viewers": true,
     "node_id": "y5zN5Hl2Dt59taXU3LrqCx",
     "type": "MD"
    }
   },
   "source": [
    "##### Выводы:\n",
    "- В основном датасете с действиями пользователей данные с 7 по 30 декабря 2020 года \n",
    "- Не хватает данных с 2020-12-31 по 2020-01-04;\n",
    "- Не все новые пользователи успели \"прожить\" 14 дней, достаточные для выявления нужного эффекта от изменений, следственно, может привести к искажению результатов."
   ]
  },
  {
   "cell_type": "markdown",
   "metadata": {
    "pycharm": {
     "name": "#%% md\n"
    }
   },
   "source": [
    "<div class=\"alert alert-success\">\n",
    "<b>Комментарий ревьюера v.1</b> \n",
    "    \n",
    "👍 Все верно. Мы можем дополнительно проверить, как лайфтайм влияет на переходы пользователей по воронке - поскольку мы изучаем конверсию, то нам важен первый переход пользователя - на какой день после регистрации он был совершен. Если первые действия были совершены в первые дни, то ранняя остановка теста не повлияет на результат\n",
    "\n",
    "</div>"
   ]
  },
  {
   "cell_type": "markdown",
   "metadata": {
    "datalore": {
     "hide_input_from_viewers": true,
     "hide_output_from_viewers": true,
     "node_id": "Bzmn9votpUR81RHUqxs8sN",
     "type": "MD"
    }
   },
   "source": [
    "### Совпадение с маркетинговыми активностями."
   ]
  },
  {
   "cell_type": "code",
   "execution_count": 132,
   "metadata": {
    "ExecuteTime": {
     "end_time": "2022-12-23T06:27:13.831650Z",
     "start_time": "2022-12-23T06:27:13.803652Z"
    },
    "datalore": {
     "hide_input_from_viewers": true,
     "hide_output_from_viewers": true,
     "node_id": "JUjSXLg0QCg2ImraIgCPpx",
     "type": "CODE"
    }
   },
   "outputs": [],
   "source": [
    "# ставлю маркер на кампании, нацеленные на EU\n",
    "marketing['in_eu'] = marketing['regions'].apply(\n",
    "    lambda x: True if 'EU' in x else False\n",
    ")"
   ]
  },
  {
   "cell_type": "code",
   "execution_count": 133,
   "metadata": {
    "ExecuteTime": {
     "end_time": "2022-12-23T06:27:18.187379Z",
     "start_time": "2022-12-23T06:27:13.847655Z"
    },
    "datalore": {
     "hide_input_from_viewers": true,
     "hide_output_from_viewers": true,
     "node_id": "W947e4lvtcWxsnEt6U1im6",
     "type": "CODE"
    }
   },
   "outputs": [
    {
     "data": {
      "application/vnd.plotly.v1+json": {
       "config": {
        "plotlyServerURL": "https://plot.ly"
       },
       "data": [
        {
         "alignmentgroup": "True",
         "base": [
          "2020-12-25T00:00:00"
         ],
         "hovertemplate": "start_dt=%{base}<br>finish_dt=%{x}<br>name=%{y}<extra></extra>",
         "legendgroup": "",
         "marker": {
          "color": "#636efa"
         },
         "name": "",
         "offsetgroup": "",
         "orientation": "h",
         "showlegend": false,
         "textposition": "auto",
         "type": "bar",
         "x": [
          777600000
         ],
         "xaxis": "x",
         "y": [
          "Christmas&New Year Promo"
         ],
         "yaxis": "y"
        }
       ],
       "layout": {
        "barmode": "overlay",
        "legend": {
         "tracegroupgap": 0
        },
        "template": {
         "data": {
          "bar": [
           {
            "error_x": {
             "color": "#2a3f5f"
            },
            "error_y": {
             "color": "#2a3f5f"
            },
            "marker": {
             "line": {
              "color": "#E5ECF6",
              "width": 0.5
             },
             "pattern": {
              "fillmode": "overlay",
              "size": 10,
              "solidity": 0.2
             }
            },
            "type": "bar"
           }
          ],
          "barpolar": [
           {
            "marker": {
             "line": {
              "color": "#E5ECF6",
              "width": 0.5
             },
             "pattern": {
              "fillmode": "overlay",
              "size": 10,
              "solidity": 0.2
             }
            },
            "type": "barpolar"
           }
          ],
          "carpet": [
           {
            "aaxis": {
             "endlinecolor": "#2a3f5f",
             "gridcolor": "white",
             "linecolor": "white",
             "minorgridcolor": "white",
             "startlinecolor": "#2a3f5f"
            },
            "baxis": {
             "endlinecolor": "#2a3f5f",
             "gridcolor": "white",
             "linecolor": "white",
             "minorgridcolor": "white",
             "startlinecolor": "#2a3f5f"
            },
            "type": "carpet"
           }
          ],
          "choropleth": [
           {
            "colorbar": {
             "outlinewidth": 0,
             "ticks": ""
            },
            "type": "choropleth"
           }
          ],
          "contour": [
           {
            "colorbar": {
             "outlinewidth": 0,
             "ticks": ""
            },
            "colorscale": [
             [
              0,
              "#0d0887"
             ],
             [
              0.1111111111111111,
              "#46039f"
             ],
             [
              0.2222222222222222,
              "#7201a8"
             ],
             [
              0.3333333333333333,
              "#9c179e"
             ],
             [
              0.4444444444444444,
              "#bd3786"
             ],
             [
              0.5555555555555556,
              "#d8576b"
             ],
             [
              0.6666666666666666,
              "#ed7953"
             ],
             [
              0.7777777777777778,
              "#fb9f3a"
             ],
             [
              0.8888888888888888,
              "#fdca26"
             ],
             [
              1,
              "#f0f921"
             ]
            ],
            "type": "contour"
           }
          ],
          "contourcarpet": [
           {
            "colorbar": {
             "outlinewidth": 0,
             "ticks": ""
            },
            "type": "contourcarpet"
           }
          ],
          "heatmap": [
           {
            "colorbar": {
             "outlinewidth": 0,
             "ticks": ""
            },
            "colorscale": [
             [
              0,
              "#0d0887"
             ],
             [
              0.1111111111111111,
              "#46039f"
             ],
             [
              0.2222222222222222,
              "#7201a8"
             ],
             [
              0.3333333333333333,
              "#9c179e"
             ],
             [
              0.4444444444444444,
              "#bd3786"
             ],
             [
              0.5555555555555556,
              "#d8576b"
             ],
             [
              0.6666666666666666,
              "#ed7953"
             ],
             [
              0.7777777777777778,
              "#fb9f3a"
             ],
             [
              0.8888888888888888,
              "#fdca26"
             ],
             [
              1,
              "#f0f921"
             ]
            ],
            "type": "heatmap"
           }
          ],
          "heatmapgl": [
           {
            "colorbar": {
             "outlinewidth": 0,
             "ticks": ""
            },
            "colorscale": [
             [
              0,
              "#0d0887"
             ],
             [
              0.1111111111111111,
              "#46039f"
             ],
             [
              0.2222222222222222,
              "#7201a8"
             ],
             [
              0.3333333333333333,
              "#9c179e"
             ],
             [
              0.4444444444444444,
              "#bd3786"
             ],
             [
              0.5555555555555556,
              "#d8576b"
             ],
             [
              0.6666666666666666,
              "#ed7953"
             ],
             [
              0.7777777777777778,
              "#fb9f3a"
             ],
             [
              0.8888888888888888,
              "#fdca26"
             ],
             [
              1,
              "#f0f921"
             ]
            ],
            "type": "heatmapgl"
           }
          ],
          "histogram": [
           {
            "marker": {
             "pattern": {
              "fillmode": "overlay",
              "size": 10,
              "solidity": 0.2
             }
            },
            "type": "histogram"
           }
          ],
          "histogram2d": [
           {
            "colorbar": {
             "outlinewidth": 0,
             "ticks": ""
            },
            "colorscale": [
             [
              0,
              "#0d0887"
             ],
             [
              0.1111111111111111,
              "#46039f"
             ],
             [
              0.2222222222222222,
              "#7201a8"
             ],
             [
              0.3333333333333333,
              "#9c179e"
             ],
             [
              0.4444444444444444,
              "#bd3786"
             ],
             [
              0.5555555555555556,
              "#d8576b"
             ],
             [
              0.6666666666666666,
              "#ed7953"
             ],
             [
              0.7777777777777778,
              "#fb9f3a"
             ],
             [
              0.8888888888888888,
              "#fdca26"
             ],
             [
              1,
              "#f0f921"
             ]
            ],
            "type": "histogram2d"
           }
          ],
          "histogram2dcontour": [
           {
            "colorbar": {
             "outlinewidth": 0,
             "ticks": ""
            },
            "colorscale": [
             [
              0,
              "#0d0887"
             ],
             [
              0.1111111111111111,
              "#46039f"
             ],
             [
              0.2222222222222222,
              "#7201a8"
             ],
             [
              0.3333333333333333,
              "#9c179e"
             ],
             [
              0.4444444444444444,
              "#bd3786"
             ],
             [
              0.5555555555555556,
              "#d8576b"
             ],
             [
              0.6666666666666666,
              "#ed7953"
             ],
             [
              0.7777777777777778,
              "#fb9f3a"
             ],
             [
              0.8888888888888888,
              "#fdca26"
             ],
             [
              1,
              "#f0f921"
             ]
            ],
            "type": "histogram2dcontour"
           }
          ],
          "mesh3d": [
           {
            "colorbar": {
             "outlinewidth": 0,
             "ticks": ""
            },
            "type": "mesh3d"
           }
          ],
          "parcoords": [
           {
            "line": {
             "colorbar": {
              "outlinewidth": 0,
              "ticks": ""
             }
            },
            "type": "parcoords"
           }
          ],
          "pie": [
           {
            "automargin": true,
            "type": "pie"
           }
          ],
          "scatter": [
           {
            "marker": {
             "colorbar": {
              "outlinewidth": 0,
              "ticks": ""
             }
            },
            "type": "scatter"
           }
          ],
          "scatter3d": [
           {
            "line": {
             "colorbar": {
              "outlinewidth": 0,
              "ticks": ""
             }
            },
            "marker": {
             "colorbar": {
              "outlinewidth": 0,
              "ticks": ""
             }
            },
            "type": "scatter3d"
           }
          ],
          "scattercarpet": [
           {
            "marker": {
             "colorbar": {
              "outlinewidth": 0,
              "ticks": ""
             }
            },
            "type": "scattercarpet"
           }
          ],
          "scattergeo": [
           {
            "marker": {
             "colorbar": {
              "outlinewidth": 0,
              "ticks": ""
             }
            },
            "type": "scattergeo"
           }
          ],
          "scattergl": [
           {
            "marker": {
             "colorbar": {
              "outlinewidth": 0,
              "ticks": ""
             }
            },
            "type": "scattergl"
           }
          ],
          "scattermapbox": [
           {
            "marker": {
             "colorbar": {
              "outlinewidth": 0,
              "ticks": ""
             }
            },
            "type": "scattermapbox"
           }
          ],
          "scatterpolar": [
           {
            "marker": {
             "colorbar": {
              "outlinewidth": 0,
              "ticks": ""
             }
            },
            "type": "scatterpolar"
           }
          ],
          "scatterpolargl": [
           {
            "marker": {
             "colorbar": {
              "outlinewidth": 0,
              "ticks": ""
             }
            },
            "type": "scatterpolargl"
           }
          ],
          "scatterternary": [
           {
            "marker": {
             "colorbar": {
              "outlinewidth": 0,
              "ticks": ""
             }
            },
            "type": "scatterternary"
           }
          ],
          "surface": [
           {
            "colorbar": {
             "outlinewidth": 0,
             "ticks": ""
            },
            "colorscale": [
             [
              0,
              "#0d0887"
             ],
             [
              0.1111111111111111,
              "#46039f"
             ],
             [
              0.2222222222222222,
              "#7201a8"
             ],
             [
              0.3333333333333333,
              "#9c179e"
             ],
             [
              0.4444444444444444,
              "#bd3786"
             ],
             [
              0.5555555555555556,
              "#d8576b"
             ],
             [
              0.6666666666666666,
              "#ed7953"
             ],
             [
              0.7777777777777778,
              "#fb9f3a"
             ],
             [
              0.8888888888888888,
              "#fdca26"
             ],
             [
              1,
              "#f0f921"
             ]
            ],
            "type": "surface"
           }
          ],
          "table": [
           {
            "cells": {
             "fill": {
              "color": "#EBF0F8"
             },
             "line": {
              "color": "white"
             }
            },
            "header": {
             "fill": {
              "color": "#C8D4E3"
             },
             "line": {
              "color": "white"
             }
            },
            "type": "table"
           }
          ]
         },
         "layout": {
          "annotationdefaults": {
           "arrowcolor": "#2a3f5f",
           "arrowhead": 0,
           "arrowwidth": 1
          },
          "autotypenumbers": "strict",
          "coloraxis": {
           "colorbar": {
            "outlinewidth": 0,
            "ticks": ""
           }
          },
          "colorscale": {
           "diverging": [
            [
             0,
             "#8e0152"
            ],
            [
             0.1,
             "#c51b7d"
            ],
            [
             0.2,
             "#de77ae"
            ],
            [
             0.3,
             "#f1b6da"
            ],
            [
             0.4,
             "#fde0ef"
            ],
            [
             0.5,
             "#f7f7f7"
            ],
            [
             0.6,
             "#e6f5d0"
            ],
            [
             0.7,
             "#b8e186"
            ],
            [
             0.8,
             "#7fbc41"
            ],
            [
             0.9,
             "#4d9221"
            ],
            [
             1,
             "#276419"
            ]
           ],
           "sequential": [
            [
             0,
             "#0d0887"
            ],
            [
             0.1111111111111111,
             "#46039f"
            ],
            [
             0.2222222222222222,
             "#7201a8"
            ],
            [
             0.3333333333333333,
             "#9c179e"
            ],
            [
             0.4444444444444444,
             "#bd3786"
            ],
            [
             0.5555555555555556,
             "#d8576b"
            ],
            [
             0.6666666666666666,
             "#ed7953"
            ],
            [
             0.7777777777777778,
             "#fb9f3a"
            ],
            [
             0.8888888888888888,
             "#fdca26"
            ],
            [
             1,
             "#f0f921"
            ]
           ],
           "sequentialminus": [
            [
             0,
             "#0d0887"
            ],
            [
             0.1111111111111111,
             "#46039f"
            ],
            [
             0.2222222222222222,
             "#7201a8"
            ],
            [
             0.3333333333333333,
             "#9c179e"
            ],
            [
             0.4444444444444444,
             "#bd3786"
            ],
            [
             0.5555555555555556,
             "#d8576b"
            ],
            [
             0.6666666666666666,
             "#ed7953"
            ],
            [
             0.7777777777777778,
             "#fb9f3a"
            ],
            [
             0.8888888888888888,
             "#fdca26"
            ],
            [
             1,
             "#f0f921"
            ]
           ]
          },
          "colorway": [
           "#636efa",
           "#EF553B",
           "#00cc96",
           "#ab63fa",
           "#FFA15A",
           "#19d3f3",
           "#FF6692",
           "#B6E880",
           "#FF97FF",
           "#FECB52"
          ],
          "font": {
           "color": "#2a3f5f"
          },
          "geo": {
           "bgcolor": "white",
           "lakecolor": "white",
           "landcolor": "#E5ECF6",
           "showlakes": true,
           "showland": true,
           "subunitcolor": "white"
          },
          "hoverlabel": {
           "align": "left"
          },
          "hovermode": "closest",
          "mapbox": {
           "style": "light"
          },
          "paper_bgcolor": "white",
          "plot_bgcolor": "#E5ECF6",
          "polar": {
           "angularaxis": {
            "gridcolor": "white",
            "linecolor": "white",
            "ticks": ""
           },
           "bgcolor": "#E5ECF6",
           "radialaxis": {
            "gridcolor": "white",
            "linecolor": "white",
            "ticks": ""
           }
          },
          "scene": {
           "xaxis": {
            "backgroundcolor": "#E5ECF6",
            "gridcolor": "white",
            "gridwidth": 2,
            "linecolor": "white",
            "showbackground": true,
            "ticks": "",
            "zerolinecolor": "white"
           },
           "yaxis": {
            "backgroundcolor": "#E5ECF6",
            "gridcolor": "white",
            "gridwidth": 2,
            "linecolor": "white",
            "showbackground": true,
            "ticks": "",
            "zerolinecolor": "white"
           },
           "zaxis": {
            "backgroundcolor": "#E5ECF6",
            "gridcolor": "white",
            "gridwidth": 2,
            "linecolor": "white",
            "showbackground": true,
            "ticks": "",
            "zerolinecolor": "white"
           }
          },
          "shapedefaults": {
           "line": {
            "color": "#2a3f5f"
           }
          },
          "ternary": {
           "aaxis": {
            "gridcolor": "white",
            "linecolor": "white",
            "ticks": ""
           },
           "baxis": {
            "gridcolor": "white",
            "linecolor": "white",
            "ticks": ""
           },
           "bgcolor": "#E5ECF6",
           "caxis": {
            "gridcolor": "white",
            "linecolor": "white",
            "ticks": ""
           }
          },
          "title": {
           "x": 0.05
          },
          "xaxis": {
           "automargin": true,
           "gridcolor": "white",
           "linecolor": "white",
           "ticks": "",
           "title": {
            "standoff": 15
           },
           "zerolinecolor": "white",
           "zerolinewidth": 2
          },
          "yaxis": {
           "automargin": true,
           "gridcolor": "white",
           "linecolor": "white",
           "ticks": "",
           "title": {
            "standoff": 15
           },
           "zerolinecolor": "white",
           "zerolinewidth": 2
          }
         }
        },
        "title": {
         "text": "Маркетинговые кампании"
        },
        "xaxis": {
         "anchor": "y",
         "domain": [
          0,
          1
         ],
         "title": {
          "text": "Время проведения маркетинговой кампании"
         },
         "type": "date"
        },
        "yaxis": {
         "anchor": "x",
         "autorange": "reversed",
         "domain": [
          0,
          1
         ],
         "title": {
          "text": "название кампании"
         }
        }
       }
      },
      "text/html": [
       "<div>                            <div id=\"c9732d4b-0061-46b2-b993-6e4f1ed59087\" class=\"plotly-graph-div\" style=\"height:525px; width:100%;\"></div>            <script type=\"text/javascript\">                require([\"plotly\"], function(Plotly) {                    window.PLOTLYENV=window.PLOTLYENV || {};                                    if (document.getElementById(\"c9732d4b-0061-46b2-b993-6e4f1ed59087\")) {                    Plotly.newPlot(                        \"c9732d4b-0061-46b2-b993-6e4f1ed59087\",                        [{\"alignmentgroup\":\"True\",\"base\":[\"2020-12-25T00:00:00\"],\"hovertemplate\":\"start_dt=%{base}<br>finish_dt=%{x}<br>name=%{y}<extra></extra>\",\"legendgroup\":\"\",\"marker\":{\"color\":\"#636efa\"},\"name\":\"\",\"offsetgroup\":\"\",\"orientation\":\"h\",\"showlegend\":false,\"textposition\":\"auto\",\"x\":[777600000.0],\"xaxis\":\"x\",\"y\":[\"Christmas&New Year Promo\"],\"yaxis\":\"y\",\"type\":\"bar\"}],                        {\"template\":{\"data\":{\"bar\":[{\"error_x\":{\"color\":\"#2a3f5f\"},\"error_y\":{\"color\":\"#2a3f5f\"},\"marker\":{\"line\":{\"color\":\"#E5ECF6\",\"width\":0.5},\"pattern\":{\"fillmode\":\"overlay\",\"size\":10,\"solidity\":0.2}},\"type\":\"bar\"}],\"barpolar\":[{\"marker\":{\"line\":{\"color\":\"#E5ECF6\",\"width\":0.5},\"pattern\":{\"fillmode\":\"overlay\",\"size\":10,\"solidity\":0.2}},\"type\":\"barpolar\"}],\"carpet\":[{\"aaxis\":{\"endlinecolor\":\"#2a3f5f\",\"gridcolor\":\"white\",\"linecolor\":\"white\",\"minorgridcolor\":\"white\",\"startlinecolor\":\"#2a3f5f\"},\"baxis\":{\"endlinecolor\":\"#2a3f5f\",\"gridcolor\":\"white\",\"linecolor\":\"white\",\"minorgridcolor\":\"white\",\"startlinecolor\":\"#2a3f5f\"},\"type\":\"carpet\"}],\"choropleth\":[{\"colorbar\":{\"outlinewidth\":0,\"ticks\":\"\"},\"type\":\"choropleth\"}],\"contour\":[{\"colorbar\":{\"outlinewidth\":0,\"ticks\":\"\"},\"colorscale\":[[0.0,\"#0d0887\"],[0.1111111111111111,\"#46039f\"],[0.2222222222222222,\"#7201a8\"],[0.3333333333333333,\"#9c179e\"],[0.4444444444444444,\"#bd3786\"],[0.5555555555555556,\"#d8576b\"],[0.6666666666666666,\"#ed7953\"],[0.7777777777777778,\"#fb9f3a\"],[0.8888888888888888,\"#fdca26\"],[1.0,\"#f0f921\"]],\"type\":\"contour\"}],\"contourcarpet\":[{\"colorbar\":{\"outlinewidth\":0,\"ticks\":\"\"},\"type\":\"contourcarpet\"}],\"heatmap\":[{\"colorbar\":{\"outlinewidth\":0,\"ticks\":\"\"},\"colorscale\":[[0.0,\"#0d0887\"],[0.1111111111111111,\"#46039f\"],[0.2222222222222222,\"#7201a8\"],[0.3333333333333333,\"#9c179e\"],[0.4444444444444444,\"#bd3786\"],[0.5555555555555556,\"#d8576b\"],[0.6666666666666666,\"#ed7953\"],[0.7777777777777778,\"#fb9f3a\"],[0.8888888888888888,\"#fdca26\"],[1.0,\"#f0f921\"]],\"type\":\"heatmap\"}],\"heatmapgl\":[{\"colorbar\":{\"outlinewidth\":0,\"ticks\":\"\"},\"colorscale\":[[0.0,\"#0d0887\"],[0.1111111111111111,\"#46039f\"],[0.2222222222222222,\"#7201a8\"],[0.3333333333333333,\"#9c179e\"],[0.4444444444444444,\"#bd3786\"],[0.5555555555555556,\"#d8576b\"],[0.6666666666666666,\"#ed7953\"],[0.7777777777777778,\"#fb9f3a\"],[0.8888888888888888,\"#fdca26\"],[1.0,\"#f0f921\"]],\"type\":\"heatmapgl\"}],\"histogram\":[{\"marker\":{\"pattern\":{\"fillmode\":\"overlay\",\"size\":10,\"solidity\":0.2}},\"type\":\"histogram\"}],\"histogram2d\":[{\"colorbar\":{\"outlinewidth\":0,\"ticks\":\"\"},\"colorscale\":[[0.0,\"#0d0887\"],[0.1111111111111111,\"#46039f\"],[0.2222222222222222,\"#7201a8\"],[0.3333333333333333,\"#9c179e\"],[0.4444444444444444,\"#bd3786\"],[0.5555555555555556,\"#d8576b\"],[0.6666666666666666,\"#ed7953\"],[0.7777777777777778,\"#fb9f3a\"],[0.8888888888888888,\"#fdca26\"],[1.0,\"#f0f921\"]],\"type\":\"histogram2d\"}],\"histogram2dcontour\":[{\"colorbar\":{\"outlinewidth\":0,\"ticks\":\"\"},\"colorscale\":[[0.0,\"#0d0887\"],[0.1111111111111111,\"#46039f\"],[0.2222222222222222,\"#7201a8\"],[0.3333333333333333,\"#9c179e\"],[0.4444444444444444,\"#bd3786\"],[0.5555555555555556,\"#d8576b\"],[0.6666666666666666,\"#ed7953\"],[0.7777777777777778,\"#fb9f3a\"],[0.8888888888888888,\"#fdca26\"],[1.0,\"#f0f921\"]],\"type\":\"histogram2dcontour\"}],\"mesh3d\":[{\"colorbar\":{\"outlinewidth\":0,\"ticks\":\"\"},\"type\":\"mesh3d\"}],\"parcoords\":[{\"line\":{\"colorbar\":{\"outlinewidth\":0,\"ticks\":\"\"}},\"type\":\"parcoords\"}],\"pie\":[{\"automargin\":true,\"type\":\"pie\"}],\"scatter\":[{\"marker\":{\"colorbar\":{\"outlinewidth\":0,\"ticks\":\"\"}},\"type\":\"scatter\"}],\"scatter3d\":[{\"line\":{\"colorbar\":{\"outlinewidth\":0,\"ticks\":\"\"}},\"marker\":{\"colorbar\":{\"outlinewidth\":0,\"ticks\":\"\"}},\"type\":\"scatter3d\"}],\"scattercarpet\":[{\"marker\":{\"colorbar\":{\"outlinewidth\":0,\"ticks\":\"\"}},\"type\":\"scattercarpet\"}],\"scattergeo\":[{\"marker\":{\"colorbar\":{\"outlinewidth\":0,\"ticks\":\"\"}},\"type\":\"scattergeo\"}],\"scattergl\":[{\"marker\":{\"colorbar\":{\"outlinewidth\":0,\"ticks\":\"\"}},\"type\":\"scattergl\"}],\"scattermapbox\":[{\"marker\":{\"colorbar\":{\"outlinewidth\":0,\"ticks\":\"\"}},\"type\":\"scattermapbox\"}],\"scatterpolar\":[{\"marker\":{\"colorbar\":{\"outlinewidth\":0,\"ticks\":\"\"}},\"type\":\"scatterpolar\"}],\"scatterpolargl\":[{\"marker\":{\"colorbar\":{\"outlinewidth\":0,\"ticks\":\"\"}},\"type\":\"scatterpolargl\"}],\"scatterternary\":[{\"marker\":{\"colorbar\":{\"outlinewidth\":0,\"ticks\":\"\"}},\"type\":\"scatterternary\"}],\"surface\":[{\"colorbar\":{\"outlinewidth\":0,\"ticks\":\"\"},\"colorscale\":[[0.0,\"#0d0887\"],[0.1111111111111111,\"#46039f\"],[0.2222222222222222,\"#7201a8\"],[0.3333333333333333,\"#9c179e\"],[0.4444444444444444,\"#bd3786\"],[0.5555555555555556,\"#d8576b\"],[0.6666666666666666,\"#ed7953\"],[0.7777777777777778,\"#fb9f3a\"],[0.8888888888888888,\"#fdca26\"],[1.0,\"#f0f921\"]],\"type\":\"surface\"}],\"table\":[{\"cells\":{\"fill\":{\"color\":\"#EBF0F8\"},\"line\":{\"color\":\"white\"}},\"header\":{\"fill\":{\"color\":\"#C8D4E3\"},\"line\":{\"color\":\"white\"}},\"type\":\"table\"}]},\"layout\":{\"annotationdefaults\":{\"arrowcolor\":\"#2a3f5f\",\"arrowhead\":0,\"arrowwidth\":1},\"autotypenumbers\":\"strict\",\"coloraxis\":{\"colorbar\":{\"outlinewidth\":0,\"ticks\":\"\"}},\"colorscale\":{\"diverging\":[[0,\"#8e0152\"],[0.1,\"#c51b7d\"],[0.2,\"#de77ae\"],[0.3,\"#f1b6da\"],[0.4,\"#fde0ef\"],[0.5,\"#f7f7f7\"],[0.6,\"#e6f5d0\"],[0.7,\"#b8e186\"],[0.8,\"#7fbc41\"],[0.9,\"#4d9221\"],[1,\"#276419\"]],\"sequential\":[[0.0,\"#0d0887\"],[0.1111111111111111,\"#46039f\"],[0.2222222222222222,\"#7201a8\"],[0.3333333333333333,\"#9c179e\"],[0.4444444444444444,\"#bd3786\"],[0.5555555555555556,\"#d8576b\"],[0.6666666666666666,\"#ed7953\"],[0.7777777777777778,\"#fb9f3a\"],[0.8888888888888888,\"#fdca26\"],[1.0,\"#f0f921\"]],\"sequentialminus\":[[0.0,\"#0d0887\"],[0.1111111111111111,\"#46039f\"],[0.2222222222222222,\"#7201a8\"],[0.3333333333333333,\"#9c179e\"],[0.4444444444444444,\"#bd3786\"],[0.5555555555555556,\"#d8576b\"],[0.6666666666666666,\"#ed7953\"],[0.7777777777777778,\"#fb9f3a\"],[0.8888888888888888,\"#fdca26\"],[1.0,\"#f0f921\"]]},\"colorway\":[\"#636efa\",\"#EF553B\",\"#00cc96\",\"#ab63fa\",\"#FFA15A\",\"#19d3f3\",\"#FF6692\",\"#B6E880\",\"#FF97FF\",\"#FECB52\"],\"font\":{\"color\":\"#2a3f5f\"},\"geo\":{\"bgcolor\":\"white\",\"lakecolor\":\"white\",\"landcolor\":\"#E5ECF6\",\"showlakes\":true,\"showland\":true,\"subunitcolor\":\"white\"},\"hoverlabel\":{\"align\":\"left\"},\"hovermode\":\"closest\",\"mapbox\":{\"style\":\"light\"},\"paper_bgcolor\":\"white\",\"plot_bgcolor\":\"#E5ECF6\",\"polar\":{\"angularaxis\":{\"gridcolor\":\"white\",\"linecolor\":\"white\",\"ticks\":\"\"},\"bgcolor\":\"#E5ECF6\",\"radialaxis\":{\"gridcolor\":\"white\",\"linecolor\":\"white\",\"ticks\":\"\"}},\"scene\":{\"xaxis\":{\"backgroundcolor\":\"#E5ECF6\",\"gridcolor\":\"white\",\"gridwidth\":2,\"linecolor\":\"white\",\"showbackground\":true,\"ticks\":\"\",\"zerolinecolor\":\"white\"},\"yaxis\":{\"backgroundcolor\":\"#E5ECF6\",\"gridcolor\":\"white\",\"gridwidth\":2,\"linecolor\":\"white\",\"showbackground\":true,\"ticks\":\"\",\"zerolinecolor\":\"white\"},\"zaxis\":{\"backgroundcolor\":\"#E5ECF6\",\"gridcolor\":\"white\",\"gridwidth\":2,\"linecolor\":\"white\",\"showbackground\":true,\"ticks\":\"\",\"zerolinecolor\":\"white\"}},\"shapedefaults\":{\"line\":{\"color\":\"#2a3f5f\"}},\"ternary\":{\"aaxis\":{\"gridcolor\":\"white\",\"linecolor\":\"white\",\"ticks\":\"\"},\"baxis\":{\"gridcolor\":\"white\",\"linecolor\":\"white\",\"ticks\":\"\"},\"bgcolor\":\"#E5ECF6\",\"caxis\":{\"gridcolor\":\"white\",\"linecolor\":\"white\",\"ticks\":\"\"}},\"title\":{\"x\":0.05},\"xaxis\":{\"automargin\":true,\"gridcolor\":\"white\",\"linecolor\":\"white\",\"ticks\":\"\",\"title\":{\"standoff\":15},\"zerolinecolor\":\"white\",\"zerolinewidth\":2},\"yaxis\":{\"automargin\":true,\"gridcolor\":\"white\",\"linecolor\":\"white\",\"ticks\":\"\",\"title\":{\"standoff\":15},\"zerolinecolor\":\"white\",\"zerolinewidth\":2}}},\"xaxis\":{\"anchor\":\"y\",\"domain\":[0.0,1.0],\"type\":\"date\",\"title\":{\"text\":\"\\u0412\\u0440\\u0435\\u043c\\u044f \\u043f\\u0440\\u043e\\u0432\\u0435\\u0434\\u0435\\u043d\\u0438\\u044f \\u043c\\u0430\\u0440\\u043a\\u0435\\u0442\\u0438\\u043d\\u0433\\u043e\\u0432\\u043e\\u0439 \\u043a\\u0430\\u043c\\u043f\\u0430\\u043d\\u0438\\u0438\"}},\"yaxis\":{\"anchor\":\"x\",\"domain\":[0.0,1.0],\"title\":{\"text\":\"\\u043d\\u0430\\u0437\\u0432\\u0430\\u043d\\u0438\\u0435 \\u043a\\u0430\\u043c\\u043f\\u0430\\u043d\\u0438\\u0438\"},\"autorange\":\"reversed\"},\"legend\":{\"tracegroupgap\":0},\"title\":{\"text\":\"\\u041c\\u0430\\u0440\\u043a\\u0435\\u0442\\u0438\\u043d\\u0433\\u043e\\u0432\\u044b\\u0435 \\u043a\\u0430\\u043c\\u043f\\u0430\\u043d\\u0438\\u0438\"},\"barmode\":\"overlay\"},                        {\"responsive\": true}                    ).then(function(){\n",
       "                            \n",
       "var gd = document.getElementById('c9732d4b-0061-46b2-b993-6e4f1ed59087');\n",
       "var x = new MutationObserver(function (mutations, observer) {{\n",
       "        var display = window.getComputedStyle(gd).display;\n",
       "        if (!display || display === 'none') {{\n",
       "            console.log([gd, 'removed!']);\n",
       "            Plotly.purge(gd);\n",
       "            observer.disconnect();\n",
       "        }}\n",
       "}});\n",
       "\n",
       "// Listen for the removal of the full notebook cells\n",
       "var notebookContainer = gd.closest('#notebook-container');\n",
       "if (notebookContainer) {{\n",
       "    x.observe(notebookContainer, {childList: true});\n",
       "}}\n",
       "\n",
       "// Listen for the clearing of the current output cell\n",
       "var outputEl = gd.closest('.output');\n",
       "if (outputEl) {{\n",
       "    x.observe(outputEl, {childList: true});\n",
       "}}\n",
       "\n",
       "                        })                };                });            </script>        </div>"
      ]
     },
     "metadata": {},
     "output_type": "display_data"
    }
   ],
   "source": [
    "# сохраняю минимальную дату регистрации участников теста\n",
    "min_reg_date = new_users['first_date'].min()\n",
    "\n",
    "# строю диаграмму Гантта и отфильтровываю кампании, запущенные\n",
    "# после минимальной даты регистрации\n",
    "fig = px.timeline(\n",
    "    marketing.query('in_eu == True and start_dt >= \"2020-12-01\"'), \n",
    "    x_start=\"start_dt\", \n",
    "    x_end=\"finish_dt\", \n",
    "    y=\"name\",\n",
    "    title='Маркетинговые кампании'\n",
    ")\n",
    "fig.update_yaxes(autorange=\"reversed\", title='название кампании')\n",
    "fig.update_xaxes(title='Время проведения маркетинговой кампании')\n",
    "fig.show()"
   ]
  },
  {
   "cell_type": "markdown",
   "metadata": {
    "datalore": {
     "hide_input_from_viewers": true,
     "hide_output_from_viewers": true,
     "node_id": "n6B89xSItiasUq9wuGUa41",
     "type": "MD"
    }
   },
   "source": [
    "**Выводы**:\n",
    "- Видим, что период, достаточный для проявления эффекта от изменений в рекомендательной системе, пересекается с маркетинговой кампанией, приуроченной Новому году;\n",
    "- Получается, что пользователи, незатронутые этой кампанией, зарегистрировались с 7 по 10 декабря."
   ]
  },
  {
   "cell_type": "markdown",
   "metadata": {
    "datalore": {
     "hide_input_from_viewers": true,
     "hide_output_from_viewers": true,
     "node_id": "krnPXasCGfMaumGyk4FY1B",
     "type": "MD"
    }
   },
   "source": [
    "### Проверка аудитории теста"
   ]
  },
  {
   "cell_type": "markdown",
   "metadata": {
    "datalore": {
     "hide_input_from_viewers": true,
     "hide_output_from_viewers": true,
     "node_id": "9A27Rp3f5jYAMzUthJr5vH",
     "type": "MD"
    }
   },
   "source": [
    "Ранее я проверил, что:\n",
    "- Нет участников, одновременно числящиеся в группах **А** и **В**;\n",
    "- 1602 пользователя участвуют в тестах по изменениям в рекомендательной системы и интерфейсе."
   ]
  },
  {
   "cell_type": "code",
   "execution_count": 134,
   "metadata": {
    "ExecuteTime": {
     "end_time": "2022-12-23T06:27:18.245568Z",
     "start_time": "2022-12-23T06:27:18.196379Z"
    },
    "datalore": {
     "hide_input_from_viewers": true,
     "hide_output_from_viewers": true,
     "node_id": "3qaMIS1TxJ3CVg3a8c9G4Q",
     "type": "CODE"
    }
   },
   "outputs": [],
   "source": [
    "# считаю соотношение тестовых групп\n",
    "number_of_participants = (\n",
    "    rec_participants\n",
    "            .groupby('group', as_index=False)\n",
    "            .agg({'user_id' : 'nunique'})\n",
    ")\n",
    "number_of_participants['percent'] = number_of_participants['user_id'] * 100 / number_of_participants['user_id'].sum()"
   ]
  },
  {
   "cell_type": "code",
   "execution_count": 135,
   "metadata": {
    "ExecuteTime": {
     "end_time": "2022-12-23T06:27:18.725153Z",
     "start_time": "2022-12-23T06:27:18.247071Z"
    },
    "datalore": {
     "hide_input_from_viewers": true,
     "hide_output_from_viewers": true,
     "node_id": "XZRPy04UWqYd4S5p9HOPFc",
     "type": "CODE"
    }
   },
   "outputs": [
    {
     "data": {
      "image/png": "[encoded data removed]",
      "text/plain": [
       "<Figure size 576x360 with 1 Axes>"
      ]
     },
     "metadata": {
      "needs_background": "light"
     },
     "output_type": "display_data"
    }
   ],
   "source": [
    "sns.set_palette('deep')\n",
    "plt.figure(figsize=(8, 5))\n",
    "ax = sns.barplot(\n",
    "    data=number_of_participants,\n",
    "    x='group',\n",
    "    y='percent'\n",
    ")\n",
    "plt.xlabel('Группа участников')\n",
    "plt.ylabel('Количество участников')\n",
    "plt.title('Количество участников в группах А и В')\n",
    "ax.bar_label(ax.containers[0], fmt='%.1f%%')\n",
    "sns.despine()\n",
    "plt.show()"
   ]
  },
  {
   "cell_type": "markdown",
   "metadata": {
    "datalore": {
     "hide_input_from_viewers": true,
     "hide_output_from_viewers": true,
     "node_id": "UqAAyKE00QAPABAuO7iuNN",
     "type": "MD"
    }
   },
   "source": [
    "Разделение участников по группам А и В прошло не поровну:\n",
    "- В группе *А* - **57,1%**;\n",
    "- В группе *В* - **42,9%**."
   ]
  },
  {
   "cell_type": "code",
   "execution_count": 136,
   "metadata": {
    "ExecuteTime": {
     "end_time": "2022-12-23T06:27:18.794799Z",
     "start_time": "2022-12-23T06:27:18.730196Z"
    },
    "datalore": {
     "hide_input_from_viewers": true,
     "hide_output_from_viewers": true,
     "node_id": "Wswmmr6yJryuZhslw2zdRw",
     "type": "CODE"
    }
   },
   "outputs": [],
   "source": [
    "# добавляю столбцы с группой пользователя\n",
    "rec_users = rec_users.merge(\n",
    "    rec_participants[['user_id', 'group']],\n",
    "    on='user_id'\n",
    ")\n",
    "rec_events = rec_events.merge(\n",
    "    rec_participants[['user_id', 'group']],\n",
    "    on='user_id'\n",
    ")"
   ]
  },
  {
   "cell_type": "code",
   "execution_count": 137,
   "metadata": {
    "ExecuteTime": {
     "end_time": "2022-12-23T06:27:18.890760Z",
     "start_time": "2022-12-23T06:27:18.802764Z"
    },
    "datalore": {
     "hide_input_from_viewers": true,
     "hide_output_from_viewers": true,
     "node_id": "bgejgZYMAsQJQIOdsD9Qhu",
     "type": "CODE"
    }
   },
   "outputs": [],
   "source": [
    "users_agg = pd.melt(\n",
    "    (rec_events # считаю пользователей, совершившие события\n",
    "            .groupby('group')\n",
    "            .agg(events=('user_id', 'nunique'))\n",
    "            ).join(\n",
    "                rec_users # считаю всех новых пользователей\n",
    "                    .groupby('group')\n",
    "                    .agg(all=('user_id', 'nunique'))\n",
    "            ).T.reset_index()\n",
    "             .rename(columns={'index' : 'users'}),\n",
    "    # переплавливаю таблицу в длинный формат\n",
    "    id_vars=['users'],\n",
    "    var_name='group',\n",
    "    value_name='users_cnt'\n",
    ")"
   ]
  },
  {
   "cell_type": "code",
   "execution_count": 138,
   "metadata": {
    "ExecuteTime": {
     "end_time": "2022-12-23T06:27:19.698239Z",
     "start_time": "2022-12-23T06:27:18.895763Z"
    },
    "datalore": {
     "hide_input_from_viewers": true,
     "hide_output_from_viewers": true,
     "node_id": "Mcbo1gT4u3s0Jxcg78wD5S",
     "type": "CODE"
    }
   },
   "outputs": [
    {
     "data": {
      "text/plain": [
       "Text(0.5, 1.0, 'Аудитория')"
      ]
     },
     "execution_count": 138,
     "metadata": {},
     "output_type": "execute_result"
    },
    {
     "data": {
      "image/png": "[encoded data removed]",
      "text/plain": [
       "<Figure size 432x432 with 1 Axes>"
      ]
     },
     "metadata": {
      "needs_background": "light"
     },
     "output_type": "display_data"
    }
   ],
   "source": [
    "plt.figure(figsize=(6, 6))\n",
    "ax = sns.barplot(\n",
    "    data=users_agg,\n",
    "    x='group',\n",
    "    y='users_cnt',\n",
    "    hue='users'\n",
    ")\n",
    "for container in ax.containers:\n",
    "    ax.bar_label(container)\n",
    "plt.title('Аудитория')"
   ]
  },
  {
   "cell_type": "markdown",
   "metadata": {
    "datalore": {
     "hide_input_from_viewers": true,
     "hide_output_from_viewers": true,
     "node_id": "YeV6avFleg7OS6uMLFHSA6",
     "type": "MD"
    }
   },
   "source": [
    "В течение эксперимента не все участники пользовались нашим продуктом:\n",
    "- 71,7% пользователей из группы А совершили хотя бы одно действие;\n",
    "- 32,3% пользователей из группы В совершили хотя бы одно действие.\n",
    "\n",
    "Вероятной причиной, по которой только 2/3 участников группы В осталась безучастной, является одновременное тестирование изменений интерфейса и рекомендательной системы."
   ]
  },
  {
   "cell_type": "code",
   "execution_count": 139,
   "metadata": {
    "ExecuteTime": {
     "end_time": "2022-12-23T06:27:20.457787Z",
     "start_time": "2022-12-23T06:27:19.704244Z"
    },
    "datalore": {
     "hide_input_from_viewers": true,
     "hide_output_from_viewers": true,
     "node_id": "OLuZtNdB1C7NV2NkbZPuT4",
     "type": "CODE"
    }
   },
   "outputs": [
    {
     "data": {
      "image/png": "[encoded data removed]",
      "text/plain": [
       "<Figure size 432x360 with 1 Axes>"
      ]
     },
     "metadata": {
      "needs_background": "light"
     },
     "output_type": "display_data"
    }
   ],
   "source": [
    "plt.figure(figsize=(6, 5))\n",
    "ax = sns.countplot(\n",
    "    data=participants[\n",
    "        participants['user_id'].isin(rec_users['user_id'])\n",
    "    ],\n",
    "    x='group',\n",
    "    hue='ab_test'\n",
    ")\n",
    "for container in ax.containers:\n",
    "    ax.bar_label(container)\n",
    "sns.despine()\n",
    "plt.title('Количество пользователи, одновременно принимающие участие в двух экспериментах')\n",
    "plt.ylabel('Количество пользователей')\n",
    "plt.xlabel('')\n",
    "plt.show()"
   ]
  },
  {
   "cell_type": "markdown",
   "metadata": {
    "datalore": {
     "hide_input_from_viewers": true,
     "hide_output_from_viewers": true,
     "node_id": "iaorzRu03tUabGBuIg5SSm",
     "type": "MD"
    }
   },
   "source": [
    "В *группе В* относительно больше пользователей, участвующих еще в параллельном эксперименте `interface_eu_test`:\n",
    "- 22,5% в группе А;\n",
    "- 28,8% в группе В."
   ]
  },
  {
   "cell_type": "code",
   "execution_count": 140,
   "metadata": {},
   "outputs": [
    {
     "data": {
      "text/html": [
       "<div>\n",
       "<style scoped>\n",
       "    .dataframe tbody tr th:only-of-type {\n",
       "        vertical-align: middle;\n",
       "    }\n",
       "\n",
       "    .dataframe tbody tr th {\n",
       "        vertical-align: top;\n",
       "    }\n",
       "\n",
       "    .dataframe thead th {\n",
       "        text-align: right;\n",
       "    }\n",
       "</style>\n",
       "<table border=\"1\" class=\"dataframe\">\n",
       "  <thead>\n",
       "    <tr style=\"text-align: right;\">\n",
       "      <th></th>\n",
       "      <th>group</th>\n",
       "      <th>total_users_within_rec_test</th>\n",
       "      <th>users_B_from_second_test</th>\n",
       "      <th>proportion</th>\n",
       "    </tr>\n",
       "  </thead>\n",
       "  <tbody>\n",
       "    <tr>\n",
       "      <th>0</th>\n",
       "      <td>A</td>\n",
       "      <td>3824</td>\n",
       "      <td>439</td>\n",
       "      <td>0.114801</td>\n",
       "    </tr>\n",
       "    <tr>\n",
       "      <th>1</th>\n",
       "      <td>B</td>\n",
       "      <td>2877</td>\n",
       "      <td>344</td>\n",
       "      <td>0.119569</td>\n",
       "    </tr>\n",
       "  </tbody>\n",
       "</table>\n",
       "</div>"
      ],
      "text/plain": [
       "  group  total_users_within_rec_test  users_B_from_second_test  proportion\n",
       "0     A                         3824                       439    0.114801\n",
       "1     B                         2877                       344    0.119569"
      ]
     },
     "execution_count": 140,
     "metadata": {},
     "output_type": "execute_result"
    }
   ],
   "source": [
    "# ячейка ревьюера:\n",
    "\n",
    "# посмотрим на пользователей из группы В второго теста - они взаимодействовали с измененным интерфейсом.\n",
    "iet_B_users = participants.query('group == \"B\" and ab_test == \"interface_eu_test\"').user_id.unique()\n",
    "\n",
    "# выделим пользователей исследуемого теста:\n",
    "rst_users = participants.query('ab_test == \"recommender_system_test\"')\n",
    "\n",
    "# посмотрим на долю iet_B_users в группах А и В теста recommender_system_test\n",
    "(rst_users\n",
    "       .groupby('group')\n",
    "       .agg(total_users_within_rec_test = ('user_id' , 'nunique'))\n",
    "       .reset_index()\n",
    "       .merge((rst_users\n",
    "                .query('user_id in @iet_B_users')\n",
    "                .groupby('group')\n",
    "                .agg(users_B_from_second_test = ('user_id' , 'nunique'))\n",
    "                .reset_index()\n",
    "              ), on = 'group')\n",
    "       .assign(proportion = lambda x: x['users_B_from_second_test'] / x['total_users_within_rec_test'])\n",
    ")"
   ]
  },
  {
   "cell_type": "code",
   "execution_count": 141,
   "metadata": {},
   "outputs": [
    {
     "data": {
      "text/html": [
       "<div>\n",
       "<style scoped>\n",
       "    .dataframe tbody tr th:only-of-type {\n",
       "        vertical-align: middle;\n",
       "    }\n",
       "\n",
       "    .dataframe tbody tr th {\n",
       "        vertical-align: top;\n",
       "    }\n",
       "\n",
       "    .dataframe thead th {\n",
       "        text-align: right;\n",
       "    }\n",
       "</style>\n",
       "<table border=\"1\" class=\"dataframe\">\n",
       "  <thead>\n",
       "    <tr style=\"text-align: right;\">\n",
       "      <th></th>\n",
       "      <th>region</th>\n",
       "      <th>rec_test_participant</th>\n",
       "      <th>users_cnt</th>\n",
       "      <th>users_share</th>\n",
       "    </tr>\n",
       "  </thead>\n",
       "  <tbody>\n",
       "    <tr>\n",
       "      <th>0</th>\n",
       "      <td>EU</td>\n",
       "      <td>False</td>\n",
       "      <td>39919</td>\n",
       "      <td>0.86274</td>\n",
       "    </tr>\n",
       "    <tr>\n",
       "      <th>1</th>\n",
       "      <td>EU</td>\n",
       "      <td>True</td>\n",
       "      <td>6351</td>\n",
       "      <td>0.13726</td>\n",
       "    </tr>\n",
       "  </tbody>\n",
       "</table>\n",
       "</div>"
      ],
      "text/plain": [
       "  region  rec_test_participant  users_cnt  users_share\n",
       "0     EU                 False      39919      0.86274\n",
       "1     EU                  True       6351      0.13726"
      ]
     },
     "execution_count": 141,
     "metadata": {},
     "output_type": "execute_result"
    }
   ],
   "source": [
    "(new_users\n",
    "     .assign(\n",
    "         rec_test_participant = lambda x: x['user_id'].isin(\n",
    "             participants.query('ab_test == \"recommender_system_test\"')['user_id'])\n",
    "     ).query('region == \"EU\"')\n",
    "     .groupby(['region', 'rec_test_participant'], as_index=False)\n",
    "     .agg(users_cnt=('user_id', 'nunique'))\n",
    "     .assign(users_share = lambda x: x['users_cnt'] / x['users_cnt'].sum())\n",
    ")\n"
   ]
  },
  {
   "cell_type": "markdown",
   "metadata": {},
   "source": [
    "Аудитория данного эксперимента - 13,7% из новых пользователей, зарегистрированных с 7 декабря по 21 декабря в Евросоюзе."
   ]
  },
  {
   "cell_type": "code",
   "execution_count": 142,
   "metadata": {},
   "outputs": [
    {
     "data": {
      "text/html": [
       "<div>\n",
       "<style scoped>\n",
       "    .dataframe tbody tr th:only-of-type {\n",
       "        vertical-align: middle;\n",
       "    }\n",
       "\n",
       "    .dataframe tbody tr th {\n",
       "        vertical-align: top;\n",
       "    }\n",
       "\n",
       "    .dataframe thead th {\n",
       "        text-align: right;\n",
       "    }\n",
       "</style>\n",
       "<table border=\"1\" class=\"dataframe\">\n",
       "  <thead>\n",
       "    <tr style=\"text-align: right;\">\n",
       "      <th></th>\n",
       "      <th>region</th>\n",
       "      <th>rec_test_participant</th>\n",
       "      <th>users_cnt</th>\n",
       "      <th>users_share</th>\n",
       "    </tr>\n",
       "  </thead>\n",
       "  <tbody>\n",
       "    <tr>\n",
       "      <th>0</th>\n",
       "      <td>EU</td>\n",
       "      <td>False</td>\n",
       "      <td>35989</td>\n",
       "      <td>0.85</td>\n",
       "    </tr>\n",
       "    <tr>\n",
       "      <th>1</th>\n",
       "      <td>EU</td>\n",
       "      <td>True</td>\n",
       "      <td>6351</td>\n",
       "      <td>0.15</td>\n",
       "    </tr>\n",
       "  </tbody>\n",
       "</table>\n",
       "</div>"
      ],
      "text/plain": [
       "  region  rec_test_participant  users_cnt  users_share\n",
       "0     EU                 False      35989         0.85\n",
       "1     EU                  True       6351         0.15"
      ]
     },
     "execution_count": 142,
     "metadata": {},
     "output_type": "execute_result"
    }
   ],
   "source": [
    "# ячейка ревьюера:\n",
    "(new_users\n",
    "     .query('first_date <= \"2020-12-21\"')\n",
    "     .assign(\n",
    "         rec_test_participant = lambda x: x['user_id'].isin(\n",
    "             participants.query('ab_test == \"recommender_system_test\"')['user_id'])\n",
    "     ).query('region == \"EU\"')\n",
    "     .groupby(['region', 'rec_test_participant'], as_index=False)\n",
    "     .agg(users_cnt=('user_id', 'nunique'))\n",
    "     .assign(users_share = lambda x: x['users_cnt'] / x['users_cnt'].sum())\n",
    ")"
   ]
  },
  {
   "cell_type": "markdown",
   "metadata": {},
   "source": [
    "Оставляю события, произошедшие в первые две недели после регистрации:"
   ]
  },
  {
   "cell_type": "markdown",
   "metadata": {
    "datalore": {
     "hide_input_from_viewers": true,
     "hide_output_from_viewers": true,
     "node_id": "CQORQLe9cihSTL3Pf0siQP",
     "type": "MD"
    }
   },
   "source": [
    "### Выводы по оценке корректности проведения теста:\n",
    "\n",
    "1. *Соответствие данных требованиям технического задания*\n",
    "    - Требования об ожидаемом количестве и аудитории участников удовлетворены - 6351 участник из *EU*;\n",
    "    - Последние участники были зарегистрированы 21 декабря 2020 года, что согласуется с датой остановки набора новых пользователей в техзадании;\n",
    "    - В датасете имеются события, по которым будут рассчитаны ключевые метрики;\n",
    "2. *Время проведения теста* \n",
    "    - В основном датасете с действиями пользователей данные с 7 по 30 декабря 2020 года \n",
    "    - Не хватает данных с 2020-12-31 по 2020-01-04;\n",
    "    - Не все новые пользователи успели \"прожить\" 14 дней, достаточные для выявления нужного эффекта от изменений, следственно, может привести к искажению результатов.\n",
    "3. *Пересечения с другими активностями*\n",
    "    - Маркетинговая кампания `Christmas&New Year Promo` , прошедшая с 25 декабря 2020 года по 3 января 2021 года, пересекается с периодом проявления эффекта от изменений пользователей, которые зарегистрировались 11 декабря по 21 декабря 2020 года;\n",
    "    - 1602 пользователя участвовали одновременно еще в одном тесте `interface_eu_test`.\n",
    "4. *Аудитория теста*\n",
    "    - это 13,7% пользователей из Евросоюза;\n",
    "    - Нет участников, одновременно числящиеся в группах **А** и **В**;\n",
    "    - Лишь часть аудитории совершали какое-либо действие в продукте:\n",
    "        - **71,7%** пользователей из группы *А*;\n",
    "        - **32,3%** пользователей из группы *В*.\n",
    "    - 1602 пользователя участвуют в тестах по изменениям в рекомендательной системы и интерфейсе;\n",
    "        - их доля в группе *А* - **22,5%**;\n",
    "        - в группе *В* - **28,8%**.\n",
    "    - Разделение участников по группам А и В прошло не поровну:\n",
    "        - В группе *А* - **57,1%**;\n",
    "        - В группе *В* - **42,9%.**"
   ]
  },
  {
   "cell_type": "markdown",
   "metadata": {
    "datalore": {
     "hide_input_from_viewers": true,
     "hide_output_from_viewers": true,
     "node_id": "Fieoff8IMmHQjAcr8hsk7G",
     "type": "MD"
    }
   },
   "source": [
    "## Исследовательский анализ данных"
   ]
  },
  {
   "cell_type": "code",
   "execution_count": 143,
   "metadata": {},
   "outputs": [],
   "source": [
    "rec_events = rec_events.merge(\n",
    "    rec_users[['user_id', 'first_date']],\n",
    "    on='user_id'\n",
    ")\n",
    "\n",
    "# добавляю столбец с количеством дней, прошедших после регистрации\n",
    "rec_events['lifetime'] = (np.floor(\n",
    "    (rec_events['event_dt'] - rec_events['first_date']) / np.timedelta64(1, 'D'))\n",
    ").astype(int)\n",
    "\n",
    "# оставляю события, произошедшие в первые 14 дней после момента регистрации\n",
    "rec_events = rec_events.query('lifetime <= 13')"
   ]
  },
  {
   "cell_type": "markdown",
   "metadata": {
    "datalore": {
     "hide_input_from_viewers": true,
     "hide_output_from_viewers": true,
     "node_id": "KqG2KLjMovUXnXdPvTIEuf",
     "type": "MD"
    }
   },
   "source": [
    "### Количество событий на одного пользователя"
   ]
  },
  {
   "cell_type": "code",
   "execution_count": 144,
   "metadata": {
    "ExecuteTime": {
     "end_time": "2022-12-23T06:27:21.441721Z",
     "start_time": "2022-12-23T06:27:20.462787Z"
    },
    "datalore": {
     "hide_input_from_viewers": true,
     "hide_output_from_viewers": true,
     "node_id": "4Iikuh4t11rPNOA5Pn1oX1",
     "type": "CODE"
    }
   },
   "outputs": [
    {
     "data": {
      "image/png": "[encoded data removed]",
      "text/plain": [
       "<Figure size 720x360 with 1 Axes>"
      ]
     },
     "metadata": {
      "needs_background": "light"
     },
     "output_type": "display_data"
    }
   ],
   "source": [
    "plt.figure(figsize=(10, 5))\n",
    "sns.boxplot(\n",
    "    data=events\n",
    "            .groupby(['user_id'])\n",
    "            .agg({'event_dt' : 'count'}),\n",
    "    x='event_dt'\n",
    ")\n",
    "    \n",
    "plt.title('Количество событий на пользователя')\n",
    "plt.xlabel('Количество событий на пользователя')\n",
    "plt.xticks((range(20)))\n",
    "plt.xlim(0, 20)\n",
    "sns.despine()\n",
    "plt.show()"
   ]
  },
  {
   "cell_type": "markdown",
   "metadata": {
    "datalore": {
     "hide_input_from_viewers": true,
     "hide_output_from_viewers": true,
     "node_id": "9BehZtNljMqDIWw7nG5PCO",
     "type": "MD"
    }
   },
   "source": [
    "75% пользователей выполняют до 9 событий."
   ]
  },
  {
   "cell_type": "code",
   "execution_count": 145,
   "metadata": {
    "ExecuteTime": {
     "end_time": "2022-12-23T06:27:26.095202Z",
     "start_time": "2022-12-23T06:27:21.448199Z"
    },
    "datalore": {
     "hide_input_from_viewers": true,
     "hide_output_from_viewers": true,
     "node_id": "6IoXXfOZh6OKEKAAOx6MJw",
     "type": "CODE"
    }
   },
   "outputs": [
    {
     "data": {
      "image/png": "[encoded data removed]",
      "text/plain": [
       "<Figure size 720x792 with 4 Axes>"
      ]
     },
     "metadata": {
      "needs_background": "light"
     },
     "output_type": "display_data"
    }
   ],
   "source": [
    "number_of_events = (\n",
    "        events\n",
    "            .groupby(['user_id', 'event_name'], as_index=False)\n",
    "            .agg({'event_dt' : 'count'})\n",
    "    )\n",
    "\n",
    "plt.figure(figsize=(10, 11))\n",
    "for i, event in enumerate(number_of_events['event_name'].unique()):\n",
    "        ax=plt.subplot(2, 2, i+1, sharey=(plt.subplot(2, 2, 1)))\n",
    "        sns.histplot(\n",
    "                data=number_of_events.query('event_name == @event'),\n",
    "                x='event_dt',\n",
    "                ax=ax)\n",
    "    \n",
    "        plt.title(f'Событие - {event}')\n",
    "        plt.xlabel('Количество событий на пользователя')\n",
    "        plt.ylabel('Частота')\n",
    "        sns.despine()\n",
    "\n",
    "plt.suptitle('Распределение количества событий на одного пользователя')\n",
    "plt.show()"
   ]
  },
  {
   "cell_type": "markdown",
   "metadata": {
    "datalore": {
     "hide_input_from_viewers": true,
     "hide_output_from_viewers": true,
     "node_id": "Lg2YEAU94nqU6PNe2texch",
     "type": "MD"
    }
   },
   "source": [
    "**Выводы**:\n",
    "- Распределения событий выглядят нормальными;\n",
    "- Большинство пользователей совершило до 6 действий каждого типа;\n",
    "- Треть вошедших в сервис пользователей совершают покупку."
   ]
  },
  {
   "cell_type": "code",
   "execution_count": 146,
   "metadata": {
    "ExecuteTime": {
     "end_time": "2022-12-23T06:27:29.447549Z",
     "start_time": "2022-12-23T06:27:26.102175Z"
    },
    "datalore": {
     "hide_input_from_viewers": true,
     "hide_output_from_viewers": true,
     "node_id": "lUTL1Pl8m2L6QTr7NzHZjT",
     "type": "CODE"
    }
   },
   "outputs": [
    {
     "data": {
      "image/png": "[encoded data removed]",
      "text/plain": [
       "<Figure size 720x792 with 4 Axes>"
      ]
     },
     "metadata": {
      "needs_background": "light"
     },
     "output_type": "display_data"
    }
   ],
   "source": [
    "number_of_events = (\n",
    "        rec_events\n",
    "            .groupby(['group', 'user_id','event_name'], as_index=False)\n",
    "            .agg({'event_dt' : 'count'})\n",
    "    )\n",
    "\n",
    "plt.figure(figsize=(10, 11))\n",
    "for i, event in enumerate(number_of_events['event_name'].unique()):\n",
    "        ax=plt.subplot(2, 2, i+1, sharey=(plt.subplot(2, 2, 1)))\n",
    "        sns.histplot(\n",
    "                data=number_of_events.query('event_name == @event'),\n",
    "                x='event_dt',\n",
    "                hue='group',\n",
    "                multiple='stack',\n",
    "                ax=ax\n",
    "        )\n",
    "    \n",
    "        plt.title(f'Событие - {event}')\n",
    "        plt.xlabel('Количество событий на пользователя')\n",
    "        plt.ylabel('Частота')\n",
    "        sns.despine()\n",
    "\n",
    "plt.suptitle('Распределение количества событий на одного пользователя')\n",
    "plt.show()"
   ]
  },
  {
   "cell_type": "markdown",
   "metadata": {
    "datalore": {
     "hide_input_from_viewers": true,
     "hide_output_from_viewers": true,
     "node_id": "8MYgzdo1kQoP05XvnZOwye",
     "type": "MD"
    }
   },
   "source": [
    "**Выводы**:\n",
    "- Распределения имеют нормальный вид;\n",
    "- Большинство пользователей совершают до 6 событий;\n",
    "- *Просмотр корзины* и *покупка* случаются примерно в три раза реже, чем действие `login`;\n",
    "- Перечисленные три факта говорят нам о том, что участники теста почти не отличаются от всей генеральной"
   ]
  },
  {
   "cell_type": "markdown",
   "metadata": {
    "datalore": {
     "hide_input_from_viewers": true,
     "hide_output_from_viewers": true,
     "node_id": "bLYGMdVl4CpT1uMwjDF0Sf",
     "type": "MD"
    }
   },
   "source": [
    "### Количество событий по дням"
   ]
  },
  {
   "cell_type": "code",
   "execution_count": 147,
   "metadata": {
    "ExecuteTime": {
     "end_time": "2022-12-23T06:27:42.738984Z",
     "start_time": "2022-12-23T06:27:29.452555Z"
    },
    "datalore": {
     "hide_input_from_viewers": true,
     "hide_output_from_viewers": true,
     "node_id": "RMt8tCmmduVTD0ahab5djt",
     "type": "CODE"
    }
   },
   "outputs": [],
   "source": [
    "# добавляю столбец с днем декабря\n",
    "events['day_of_december'] = events['event_dt'].dt.strftime('%d')"
   ]
  },
  {
   "cell_type": "code",
   "execution_count": 148,
   "metadata": {
    "ExecuteTime": {
     "end_time": "2022-12-23T06:27:48.019958Z",
     "start_time": "2022-12-23T06:27:42.744878Z"
    },
    "datalore": {
     "hide_input_from_viewers": true,
     "hide_output_from_viewers": true,
     "node_id": "4PemlakKKytwUa3VPd5oaf",
     "type": "CODE"
    }
   },
   "outputs": [
    {
     "data": {
      "image/png": "[encoded data removed]",
      "text/plain": [
       "<Figure size 864x720 with 4 Axes>"
      ]
     },
     "metadata": {
      "needs_background": "light"
     },
     "output_type": "display_data"
    }
   ],
   "source": [
    "plt.figure(figsize=(12, 10)) \n",
    "for i, event in enumerate(events['event_name'].unique()):\n",
    "    ax=plt.subplot(2, 2, i+1, sharey=(plt.subplot(2, 2, 1)))\n",
    "    sns.countplot(\n",
    "        data=events.query('event_name == @event'),\n",
    "        x='day_of_december',\n",
    "        ax=ax,\n",
    "        palette='crest'\n",
    "    )\n",
    "    plt.title(f'Событие - {event}')\n",
    "    plt.xlabel('')\n",
    "    plt.ylabel('Частота')\n",
    "    sns.despine()\n",
    "plt.suptitle('Распределение событий за день')\n",
    "plt.show()"
   ]
  },
  {
   "cell_type": "markdown",
   "metadata": {
    "datalore": {
     "hide_input_from_viewers": true,
     "hide_output_from_viewers": true,
     "node_id": "z2CatMu0BTr8eDfIyPo2jf",
     "type": "MD"
    }
   },
   "source": [
    "**Выводы**:\n",
    "- Количество событий увеличивается с начала наблюдений, достигая своего максимума 21 декабря, затем частота уменьшается до конца декабря;\n",
    "- Также видим два пика активности 14 и 21 декабря."
   ]
  },
  {
   "cell_type": "code",
   "execution_count": 149,
   "metadata": {},
   "outputs": [],
   "source": [
    "rec_events['day_of_december'] = rec_events['event_dt'].dt.strftime('%d')"
   ]
  },
  {
   "cell_type": "code",
   "execution_count": 150,
   "metadata": {},
   "outputs": [
    {
     "data": {
      "image/png": "[encoded data removed]",
      "text/plain": [
       "<Figure size 864x720 with 4 Axes>"
      ]
     },
     "metadata": {
      "needs_background": "light"
     },
     "output_type": "display_data"
    }
   ],
   "source": [
    "plt.figure(figsize=(12, 10)) \n",
    "for i, event in enumerate(rec_events['event_name'].unique()):\n",
    "    ax=plt.subplot(2, 2, i+1, sharey=(plt.subplot(2, 2, 1)))\n",
    "    sns.countplot(\n",
    "        data=rec_events\n",
    "                .query('event_name == @event')\n",
    "                .sort_values('day_of_december'),\n",
    "        x='day_of_december',\n",
    "        hue='group',\n",
    "        ax=ax\n",
    "    )\n",
    "    plt.title(f'Событие - {event}')\n",
    "    plt.xlabel('')\n",
    "    plt.ylabel('Частота')\n",
    "    sns.despine()\n",
    "plt.suptitle('Распределение событий за день')\n",
    "plt.show()"
   ]
  },
  {
   "cell_type": "markdown",
   "metadata": {
    "datalore": {
     "hide_input_from_viewers": true,
     "hide_output_from_viewers": true,
     "node_id": "dUgKMWf75Noc45aZKPGBDL",
     "type": "MD"
    }
   },
   "source": [
    "**Выводы**:\n",
    "- График событий участников теста во многом не отличается от графика всех пользователей;\n",
    "- Как и события по пользователям, действий, совершеннных участниками группой *В*, меньше."
   ]
  },
  {
   "cell_type": "markdown",
   "metadata": {},
   "source": [
    "### Коэффициент удержания"
   ]
  },
  {
   "cell_type": "code",
   "execution_count": 151,
   "metadata": {},
   "outputs": [
    {
     "data": {
      "image/png": "[encoded data removed]",
      "text/plain": [
       "<Figure size 576x432 with 2 Axes>"
      ]
     },
     "metadata": {
      "needs_background": "light"
     },
     "output_type": "display_data"
    }
   ],
   "source": [
    "plt.figure(figsize=(8, 6))\n",
    "ax = sns.heatmap(\n",
    "    data=rec_events\n",
    "        .assign(first_date = lambda x: x['first_date'].dt.date)\n",
    "        .pivot_table(\n",
    "                index='first_date',\n",
    "                columns='lifetime',\n",
    "                values='user_id',\n",
    "                aggfunc='nunique')\n",
    "        .apply(lambda x: x / x[0], axis=1)\n",
    ")\n",
    "ax.set(\n",
    "    title='Коэффициент удержания',\n",
    "    ylabel='Дата регистрации',\n",
    "    xlabel='Лайфтайм'\n",
    ")\n",
    "plt.show()"
   ]
  },
  {
   "cell_type": "markdown",
   "metadata": {},
   "source": [
    "**Выводы:**\n",
    "- В первые три дня 40% пользователей возвращаются в сервис;\n",
    "- Затем до первой недели эта метрика держится выше 20%."
   ]
  },
  {
   "cell_type": "code",
   "execution_count": 152,
   "metadata": {},
   "outputs": [],
   "source": [
    "# готовлю данные для графика\n",
    "# пользователи\n",
    "users_temp = (\n",
    "    rec_users\n",
    "         .assign(first_date_dec = lambda x: x['first_date'].dt.strftime('%d'))\n",
    "         .groupby(['first_date_dec', 'group'], as_index=False)\n",
    "         .agg(users_cnt = ('user_id', 'nunique'))\n",
    ")\n",
    "# события\n",
    "events_temp = (rec_events\n",
    "                 .assign(event_date_dec = lambda x: x['event_dt'].dt.strftime('%d'))\n",
    "                 .groupby(['event_date_dec', 'group'], as_index=False)\n",
    "                 .agg(events_cnt = ('event_dt', 'count')))"
   ]
  },
  {
   "cell_type": "code",
   "execution_count": 153,
   "metadata": {},
   "outputs": [
    {
     "data": {
      "image/png": "[encoded data removed]",
      "text/plain": [
       "<Figure size 1008x432 with 2 Axes>"
      ]
     },
     "metadata": {
      "needs_background": "light"
     },
     "output_type": "display_data"
    }
   ],
   "source": [
    "fig, ax1 = plt.subplots(1, 1, figsize=(14, 6))\n",
    "\n",
    "sns.lineplot(\n",
    "    data=rec_users\n",
    "         .assign(first_date_dec = lambda x: x['first_date'].dt.strftime('%d'))\n",
    "         .groupby(['first_date_dec'], as_index=False)\n",
    "         .agg(users_cnt = ('user_id', 'nunique')),\n",
    "    x='first_date_dec',\n",
    "    y='users_cnt',\n",
    "    marker='o',\n",
    "    label=f'Количество зарегистрованных пользователей',\n",
    "    ax=ax1,\n",
    "    color='#2677bb'\n",
    ")\n",
    "ax1.set(\n",
    "    title='Динамика событий и регистрации новых пользователей',\n",
    "    ylabel='Количество пользователей',\n",
    "    xlabel='Декабрь'\n",
    ")\n",
    "ax1.legend(loc='upper right', bbox_to_anchor=(1, 0.95))\n",
    "\n",
    "ax2 = ax1.twinx()\n",
    "\n",
    "sns.lineplot(\n",
    "    data=rec_events\n",
    "                 .assign(event_date_dec = lambda x: x['event_dt'].dt.strftime('%d'))\n",
    "                 .groupby(['event_date_dec'], as_index=False)\n",
    "                 .agg(events_cnt = ('event_dt', 'count')),\n",
    "    x='event_date_dec',\n",
    "    y='events_cnt',\n",
    "    marker='o',\n",
    "    ax=ax2,\n",
    "    color='#f67944',\n",
    "    label='Среднее количество событий'\n",
    ")\n",
    "ax2.set(ylabel='Количество событий')\n",
    "ax2.legend(loc='upper right', bbox_to_anchor=(1, 0.83))\n",
    "plt.grid()\n",
    "plt.show()"
   ]
  },
  {
   "cell_type": "markdown",
   "metadata": {},
   "source": [
    "**Выводы**:\n",
    "- 40% пользователей активно пользуются продуктом в первые три дня после регистрации, поэтому мы видим отложенный рост в количестве событий после такого же роста, только в наборе новых пользователей. Яркий пример этому - резкие скачки в наборе пользователей 11-12 декабря и количестве событий 13-14 декабря;\n",
    "- Также после резкого падения набора новых пользователей мы не видим такого же падения в активности, так как в дело вступает накопительная активность пользователей зарегистрированных в последние 2-3 дня;\n",
    "- После остановки регистрации новых участников теста число событий уменьшилось примерно в 10 раз за 8 дней."
   ]
  },
  {
   "cell_type": "markdown",
   "metadata": {
    "datalore": {
     "hide_input_from_viewers": true,
     "hide_output_from_viewers": true,
     "node_id": "LhbvpwOpKsuOnsao9cSWz8",
     "type": "MD"
    }
   },
   "source": [
    "### Анализ конверсии"
   ]
  },
  {
   "cell_type": "markdown",
   "metadata": {
    "datalore": {
     "hide_input_from_viewers": true,
     "hide_output_from_viewers": true,
     "node_id": "yp3pZltj52UVt4Rl9ZH7RB",
     "type": "MD"
    }
   },
   "source": [
    "Последовательность в воронке можно выстроить так:\n",
    "1. `login` - вход в систему;\n",
    "2. `product_page` - просмотр товара;\n",
    "3. `product_cart` - просмотр корзины;\n",
    "4. `purchase` - покупка."
   ]
  },
  {
   "cell_type": "code",
   "execution_count": 154,
   "metadata": {
    "ExecuteTime": {
     "end_time": "2022-12-23T06:27:52.998706Z",
     "start_time": "2022-12-23T06:27:52.936743Z"
    },
    "datalore": {
     "hide_input_from_viewers": true,
     "hide_output_from_viewers": true,
     "node_id": "CJ8hyACQ894cXL29x6dPL2",
     "type": "CODE"
    }
   },
   "outputs": [],
   "source": [
    "funnel_data = rec_events.pivot_table(\n",
    "    index='event_name',\n",
    "    columns='group',\n",
    "    values='user_id',\n",
    "    aggfunc='nunique'\n",
    ").loc[['login', 'product_page', 'product_cart', 'purchase']]\\\n",
    " .reset_index()"
   ]
  },
  {
   "cell_type": "code",
   "execution_count": 155,
   "metadata": {
    "ExecuteTime": {
     "end_time": "2022-12-23T06:27:53.092143Z",
     "start_time": "2022-12-23T06:27:53.004711Z"
    },
    "datalore": {
     "hide_input_from_viewers": true,
     "hide_output_from_viewers": true,
     "node_id": "azjDGbA4a8ctPP4TnVOTwX",
     "type": "CODE"
    }
   },
   "outputs": [
    {
     "data": {
      "application/vnd.plotly.v1+json": {
       "config": {
        "plotlyServerURL": "https://plot.ly"
       },
       "data": [
        {
         "name": "A",
         "textinfo": "value+percent initial",
         "type": "funnel",
         "x": [
          2604,
          1685,
          782,
          833
         ],
         "y": [
          "login",
          "product_page",
          "product_cart",
          "purchase"
         ]
        },
        {
         "name": "B",
         "textinfo": "value+percent initial",
         "type": "funnel",
         "x": [
          876,
          493,
          244,
          249
         ],
         "y": [
          "login",
          "product_page",
          "product_cart",
          "purchase"
         ]
        }
       ],
       "layout": {
        "template": {
         "data": {
          "bar": [
           {
            "error_x": {
             "color": "#2a3f5f"
            },
            "error_y": {
             "color": "#2a3f5f"
            },
            "marker": {
             "line": {
              "color": "#E5ECF6",
              "width": 0.5
             },
             "pattern": {
              "fillmode": "overlay",
              "size": 10,
              "solidity": 0.2
             }
            },
            "type": "bar"
           }
          ],
          "barpolar": [
           {
            "marker": {
             "line": {
              "color": "#E5ECF6",
              "width": 0.5
             },
             "pattern": {
              "fillmode": "overlay",
              "size": 10,
              "solidity": 0.2
             }
            },
            "type": "barpolar"
           }
          ],
          "carpet": [
           {
            "aaxis": {
             "endlinecolor": "#2a3f5f",
             "gridcolor": "white",
             "linecolor": "white",
             "minorgridcolor": "white",
             "startlinecolor": "#2a3f5f"
            },
            "baxis": {
             "endlinecolor": "#2a3f5f",
             "gridcolor": "white",
             "linecolor": "white",
             "minorgridcolor": "white",
             "startlinecolor": "#2a3f5f"
            },
            "type": "carpet"
           }
          ],
          "choropleth": [
           {
            "colorbar": {
             "outlinewidth": 0,
             "ticks": ""
            },
            "type": "choropleth"
           }
          ],
          "contour": [
           {
            "colorbar": {
             "outlinewidth": 0,
             "ticks": ""
            },
            "colorscale": [
             [
              0,
              "#0d0887"
             ],
             [
              0.1111111111111111,
              "#46039f"
             ],
             [
              0.2222222222222222,
              "#7201a8"
             ],
             [
              0.3333333333333333,
              "#9c179e"
             ],
             [
              0.4444444444444444,
              "#bd3786"
             ],
             [
              0.5555555555555556,
              "#d8576b"
             ],
             [
              0.6666666666666666,
              "#ed7953"
             ],
             [
              0.7777777777777778,
              "#fb9f3a"
             ],
             [
              0.8888888888888888,
              "#fdca26"
             ],
             [
              1,
              "#f0f921"
             ]
            ],
            "type": "contour"
           }
          ],
          "contourcarpet": [
           {
            "colorbar": {
             "outlinewidth": 0,
             "ticks": ""
            },
            "type": "contourcarpet"
           }
          ],
          "heatmap": [
           {
            "colorbar": {
             "outlinewidth": 0,
             "ticks": ""
            },
            "colorscale": [
             [
              0,
              "#0d0887"
             ],
             [
              0.1111111111111111,
              "#46039f"
             ],
             [
              0.2222222222222222,
              "#7201a8"
             ],
             [
              0.3333333333333333,
              "#9c179e"
             ],
             [
              0.4444444444444444,
              "#bd3786"
             ],
             [
              0.5555555555555556,
              "#d8576b"
             ],
             [
              0.6666666666666666,
              "#ed7953"
             ],
             [
              0.7777777777777778,
              "#fb9f3a"
             ],
             [
              0.8888888888888888,
              "#fdca26"
             ],
             [
              1,
              "#f0f921"
             ]
            ],
            "type": "heatmap"
           }
          ],
          "heatmapgl": [
           {
            "colorbar": {
             "outlinewidth": 0,
             "ticks": ""
            },
            "colorscale": [
             [
              0,
              "#0d0887"
             ],
             [
              0.1111111111111111,
              "#46039f"
             ],
             [
              0.2222222222222222,
              "#7201a8"
             ],
             [
              0.3333333333333333,
              "#9c179e"
             ],
             [
              0.4444444444444444,
              "#bd3786"
             ],
             [
              0.5555555555555556,
              "#d8576b"
             ],
             [
              0.6666666666666666,
              "#ed7953"
             ],
             [
              0.7777777777777778,
              "#fb9f3a"
             ],
             [
              0.8888888888888888,
              "#fdca26"
             ],
             [
              1,
              "#f0f921"
             ]
            ],
            "type": "heatmapgl"
           }
          ],
          "histogram": [
           {
            "marker": {
             "pattern": {
              "fillmode": "overlay",
              "size": 10,
              "solidity": 0.2
             }
            },
            "type": "histogram"
           }
          ],
          "histogram2d": [
           {
            "colorbar": {
             "outlinewidth": 0,
             "ticks": ""
            },
            "colorscale": [
             [
              0,
              "#0d0887"
             ],
             [
              0.1111111111111111,
              "#46039f"
             ],
             [
              0.2222222222222222,
              "#7201a8"
             ],
             [
              0.3333333333333333,
              "#9c179e"
             ],
             [
              0.4444444444444444,
              "#bd3786"
             ],
             [
              0.5555555555555556,
              "#d8576b"
             ],
             [
              0.6666666666666666,
              "#ed7953"
             ],
             [
              0.7777777777777778,
              "#fb9f3a"
             ],
             [
              0.8888888888888888,
              "#fdca26"
             ],
             [
              1,
              "#f0f921"
             ]
            ],
            "type": "histogram2d"
           }
          ],
          "histogram2dcontour": [
           {
            "colorbar": {
             "outlinewidth": 0,
             "ticks": ""
            },
            "colorscale": [
             [
              0,
              "#0d0887"
             ],
             [
              0.1111111111111111,
              "#46039f"
             ],
             [
              0.2222222222222222,
              "#7201a8"
             ],
             [
              0.3333333333333333,
              "#9c179e"
             ],
             [
              0.4444444444444444,
              "#bd3786"
             ],
             [
              0.5555555555555556,
              "#d8576b"
             ],
             [
              0.6666666666666666,
              "#ed7953"
             ],
             [
              0.7777777777777778,
              "#fb9f3a"
             ],
             [
              0.8888888888888888,
              "#fdca26"
             ],
             [
              1,
              "#f0f921"
             ]
            ],
            "type": "histogram2dcontour"
           }
          ],
          "mesh3d": [
           {
            "colorbar": {
             "outlinewidth": 0,
             "ticks": ""
            },
            "type": "mesh3d"
           }
          ],
          "parcoords": [
           {
            "line": {
             "colorbar": {
              "outlinewidth": 0,
              "ticks": ""
             }
            },
            "type": "parcoords"
           }
          ],
          "pie": [
           {
            "automargin": true,
            "type": "pie"
           }
          ],
          "scatter": [
           {
            "marker": {
             "colorbar": {
              "outlinewidth": 0,
              "ticks": ""
             }
            },
            "type": "scatter"
           }
          ],
          "scatter3d": [
           {
            "line": {
             "colorbar": {
              "outlinewidth": 0,
              "ticks": ""
             }
            },
            "marker": {
             "colorbar": {
              "outlinewidth": 0,
              "ticks": ""
             }
            },
            "type": "scatter3d"
           }
          ],
          "scattercarpet": [
           {
            "marker": {
             "colorbar": {
              "outlinewidth": 0,
              "ticks": ""
             }
            },
            "type": "scattercarpet"
           }
          ],
          "scattergeo": [
           {
            "marker": {
             "colorbar": {
              "outlinewidth": 0,
              "ticks": ""
             }
            },
            "type": "scattergeo"
           }
          ],
          "scattergl": [
           {
            "marker": {
             "colorbar": {
              "outlinewidth": 0,
              "ticks": ""
             }
            },
            "type": "scattergl"
           }
          ],
          "scattermapbox": [
           {
            "marker": {
             "colorbar": {
              "outlinewidth": 0,
              "ticks": ""
             }
            },
            "type": "scattermapbox"
           }
          ],
          "scatterpolar": [
           {
            "marker": {
             "colorbar": {
              "outlinewidth": 0,
              "ticks": ""
             }
            },
            "type": "scatterpolar"
           }
          ],
          "scatterpolargl": [
           {
            "marker": {
             "colorbar": {
              "outlinewidth": 0,
              "ticks": ""
             }
            },
            "type": "scatterpolargl"
           }
          ],
          "scatterternary": [
           {
            "marker": {
             "colorbar": {
              "outlinewidth": 0,
              "ticks": ""
             }
            },
            "type": "scatterternary"
           }
          ],
          "surface": [
           {
            "colorbar": {
             "outlinewidth": 0,
             "ticks": ""
            },
            "colorscale": [
             [
              0,
              "#0d0887"
             ],
             [
              0.1111111111111111,
              "#46039f"
             ],
             [
              0.2222222222222222,
              "#7201a8"
             ],
             [
              0.3333333333333333,
              "#9c179e"
             ],
             [
              0.4444444444444444,
              "#bd3786"
             ],
             [
              0.5555555555555556,
              "#d8576b"
             ],
             [
              0.6666666666666666,
              "#ed7953"
             ],
             [
              0.7777777777777778,
              "#fb9f3a"
             ],
             [
              0.8888888888888888,
              "#fdca26"
             ],
             [
              1,
              "#f0f921"
             ]
            ],
            "type": "surface"
           }
          ],
          "table": [
           {
            "cells": {
             "fill": {
              "color": "#EBF0F8"
             },
             "line": {
              "color": "white"
             }
            },
            "header": {
             "fill": {
              "color": "#C8D4E3"
             },
             "line": {
              "color": "white"
             }
            },
            "type": "table"
           }
          ]
         },
         "layout": {
          "annotationdefaults": {
           "arrowcolor": "#2a3f5f",
           "arrowhead": 0,
           "arrowwidth": 1
          },
          "autotypenumbers": "strict",
          "coloraxis": {
           "colorbar": {
            "outlinewidth": 0,
            "ticks": ""
           }
          },
          "colorscale": {
           "diverging": [
            [
             0,
             "#8e0152"
            ],
            [
             0.1,
             "#c51b7d"
            ],
            [
             0.2,
             "#de77ae"
            ],
            [
             0.3,
             "#f1b6da"
            ],
            [
             0.4,
             "#fde0ef"
            ],
            [
             0.5,
             "#f7f7f7"
            ],
            [
             0.6,
             "#e6f5d0"
            ],
            [
             0.7,
             "#b8e186"
            ],
            [
             0.8,
             "#7fbc41"
            ],
            [
             0.9,
             "#4d9221"
            ],
            [
             1,
             "#276419"
            ]
           ],
           "sequential": [
            [
             0,
             "#0d0887"
            ],
            [
             0.1111111111111111,
             "#46039f"
            ],
            [
             0.2222222222222222,
             "#7201a8"
            ],
            [
             0.3333333333333333,
             "#9c179e"
            ],
            [
             0.4444444444444444,
             "#bd3786"
            ],
            [
             0.5555555555555556,
             "#d8576b"
            ],
            [
             0.6666666666666666,
             "#ed7953"
            ],
            [
             0.7777777777777778,
             "#fb9f3a"
            ],
            [
             0.8888888888888888,
             "#fdca26"
            ],
            [
             1,
             "#f0f921"
            ]
           ],
           "sequentialminus": [
            [
             0,
             "#0d0887"
            ],
            [
             0.1111111111111111,
             "#46039f"
            ],
            [
             0.2222222222222222,
             "#7201a8"
            ],
            [
             0.3333333333333333,
             "#9c179e"
            ],
            [
             0.4444444444444444,
             "#bd3786"
            ],
            [
             0.5555555555555556,
             "#d8576b"
            ],
            [
             0.6666666666666666,
             "#ed7953"
            ],
            [
             0.7777777777777778,
             "#fb9f3a"
            ],
            [
             0.8888888888888888,
             "#fdca26"
            ],
            [
             1,
             "#f0f921"
            ]
           ]
          },
          "colorway": [
           "#636efa",
           "#EF553B",
           "#00cc96",
           "#ab63fa",
           "#FFA15A",
           "#19d3f3",
           "#FF6692",
           "#B6E880",
           "#FF97FF",
           "#FECB52"
          ],
          "font": {
           "color": "#2a3f5f"
          },
          "geo": {
           "bgcolor": "white",
           "lakecolor": "white",
           "landcolor": "#E5ECF6",
           "showlakes": true,
           "showland": true,
           "subunitcolor": "white"
          },
          "hoverlabel": {
           "align": "left"
          },
          "hovermode": "closest",
          "mapbox": {
           "style": "light"
          },
          "paper_bgcolor": "white",
          "plot_bgcolor": "#E5ECF6",
          "polar": {
           "angularaxis": {
            "gridcolor": "white",
            "linecolor": "white",
            "ticks": ""
           },
           "bgcolor": "#E5ECF6",
           "radialaxis": {
            "gridcolor": "white",
            "linecolor": "white",
            "ticks": ""
           }
          },
          "scene": {
           "xaxis": {
            "backgroundcolor": "#E5ECF6",
            "gridcolor": "white",
            "gridwidth": 2,
            "linecolor": "white",
            "showbackground": true,
            "ticks": "",
            "zerolinecolor": "white"
           },
           "yaxis": {
            "backgroundcolor": "#E5ECF6",
            "gridcolor": "white",
            "gridwidth": 2,
            "linecolor": "white",
            "showbackground": true,
            "ticks": "",
            "zerolinecolor": "white"
           },
           "zaxis": {
            "backgroundcolor": "#E5ECF6",
            "gridcolor": "white",
            "gridwidth": 2,
            "linecolor": "white",
            "showbackground": true,
            "ticks": "",
            "zerolinecolor": "white"
           }
          },
          "shapedefaults": {
           "line": {
            "color": "#2a3f5f"
           }
          },
          "ternary": {
           "aaxis": {
            "gridcolor": "white",
            "linecolor": "white",
            "ticks": ""
           },
           "baxis": {
            "gridcolor": "white",
            "linecolor": "white",
            "ticks": ""
           },
           "bgcolor": "#E5ECF6",
           "caxis": {
            "gridcolor": "white",
            "linecolor": "white",
            "ticks": ""
           }
          },
          "title": {
           "x": 0.05
          },
          "xaxis": {
           "automargin": true,
           "gridcolor": "white",
           "linecolor": "white",
           "ticks": "",
           "title": {
            "standoff": 15
           },
           "zerolinecolor": "white",
           "zerolinewidth": 2
          },
          "yaxis": {
           "automargin": true,
           "gridcolor": "white",
           "linecolor": "white",
           "ticks": "",
           "title": {
            "standoff": 15
           },
           "zerolinecolor": "white",
           "zerolinewidth": 2
          }
         }
        },
        "title": {
         "text": "Воронка конверсии"
        },
        "yaxis": {
         "title": {
          "text": "Тип события"
         }
        }
       }
      },
      "text/html": [
       "<div>                            <div id=\"4af3950f-5a3c-4c1b-9e67-57f345f58706\" class=\"plotly-graph-div\" style=\"height:525px; width:100%;\"></div>            <script type=\"text/javascript\">                require([\"plotly\"], function(Plotly) {                    window.PLOTLYENV=window.PLOTLYENV || {};                                    if (document.getElementById(\"4af3950f-5a3c-4c1b-9e67-57f345f58706\")) {                    Plotly.newPlot(                        \"4af3950f-5a3c-4c1b-9e67-57f345f58706\",                        [{\"name\":\"A\",\"textinfo\":\"value+percent initial\",\"x\":[2604,1685,782,833],\"y\":[\"login\",\"product_page\",\"product_cart\",\"purchase\"],\"type\":\"funnel\"},{\"name\":\"B\",\"textinfo\":\"value+percent initial\",\"x\":[876,493,244,249],\"y\":[\"login\",\"product_page\",\"product_cart\",\"purchase\"],\"type\":\"funnel\"}],                        {\"template\":{\"data\":{\"bar\":[{\"error_x\":{\"color\":\"#2a3f5f\"},\"error_y\":{\"color\":\"#2a3f5f\"},\"marker\":{\"line\":{\"color\":\"#E5ECF6\",\"width\":0.5},\"pattern\":{\"fillmode\":\"overlay\",\"size\":10,\"solidity\":0.2}},\"type\":\"bar\"}],\"barpolar\":[{\"marker\":{\"line\":{\"color\":\"#E5ECF6\",\"width\":0.5},\"pattern\":{\"fillmode\":\"overlay\",\"size\":10,\"solidity\":0.2}},\"type\":\"barpolar\"}],\"carpet\":[{\"aaxis\":{\"endlinecolor\":\"#2a3f5f\",\"gridcolor\":\"white\",\"linecolor\":\"white\",\"minorgridcolor\":\"white\",\"startlinecolor\":\"#2a3f5f\"},\"baxis\":{\"endlinecolor\":\"#2a3f5f\",\"gridcolor\":\"white\",\"linecolor\":\"white\",\"minorgridcolor\":\"white\",\"startlinecolor\":\"#2a3f5f\"},\"type\":\"carpet\"}],\"choropleth\":[{\"colorbar\":{\"outlinewidth\":0,\"ticks\":\"\"},\"type\":\"choropleth\"}],\"contour\":[{\"colorbar\":{\"outlinewidth\":0,\"ticks\":\"\"},\"colorscale\":[[0.0,\"#0d0887\"],[0.1111111111111111,\"#46039f\"],[0.2222222222222222,\"#7201a8\"],[0.3333333333333333,\"#9c179e\"],[0.4444444444444444,\"#bd3786\"],[0.5555555555555556,\"#d8576b\"],[0.6666666666666666,\"#ed7953\"],[0.7777777777777778,\"#fb9f3a\"],[0.8888888888888888,\"#fdca26\"],[1.0,\"#f0f921\"]],\"type\":\"contour\"}],\"contourcarpet\":[{\"colorbar\":{\"outlinewidth\":0,\"ticks\":\"\"},\"type\":\"contourcarpet\"}],\"heatmap\":[{\"colorbar\":{\"outlinewidth\":0,\"ticks\":\"\"},\"colorscale\":[[0.0,\"#0d0887\"],[0.1111111111111111,\"#46039f\"],[0.2222222222222222,\"#7201a8\"],[0.3333333333333333,\"#9c179e\"],[0.4444444444444444,\"#bd3786\"],[0.5555555555555556,\"#d8576b\"],[0.6666666666666666,\"#ed7953\"],[0.7777777777777778,\"#fb9f3a\"],[0.8888888888888888,\"#fdca26\"],[1.0,\"#f0f921\"]],\"type\":\"heatmap\"}],\"heatmapgl\":[{\"colorbar\":{\"outlinewidth\":0,\"ticks\":\"\"},\"colorscale\":[[0.0,\"#0d0887\"],[0.1111111111111111,\"#46039f\"],[0.2222222222222222,\"#7201a8\"],[0.3333333333333333,\"#9c179e\"],[0.4444444444444444,\"#bd3786\"],[0.5555555555555556,\"#d8576b\"],[0.6666666666666666,\"#ed7953\"],[0.7777777777777778,\"#fb9f3a\"],[0.8888888888888888,\"#fdca26\"],[1.0,\"#f0f921\"]],\"type\":\"heatmapgl\"}],\"histogram\":[{\"marker\":{\"pattern\":{\"fillmode\":\"overlay\",\"size\":10,\"solidity\":0.2}},\"type\":\"histogram\"}],\"histogram2d\":[{\"colorbar\":{\"outlinewidth\":0,\"ticks\":\"\"},\"colorscale\":[[0.0,\"#0d0887\"],[0.1111111111111111,\"#46039f\"],[0.2222222222222222,\"#7201a8\"],[0.3333333333333333,\"#9c179e\"],[0.4444444444444444,\"#bd3786\"],[0.5555555555555556,\"#d8576b\"],[0.6666666666666666,\"#ed7953\"],[0.7777777777777778,\"#fb9f3a\"],[0.8888888888888888,\"#fdca26\"],[1.0,\"#f0f921\"]],\"type\":\"histogram2d\"}],\"histogram2dcontour\":[{\"colorbar\":{\"outlinewidth\":0,\"ticks\":\"\"},\"colorscale\":[[0.0,\"#0d0887\"],[0.1111111111111111,\"#46039f\"],[0.2222222222222222,\"#7201a8\"],[0.3333333333333333,\"#9c179e\"],[0.4444444444444444,\"#bd3786\"],[0.5555555555555556,\"#d8576b\"],[0.6666666666666666,\"#ed7953\"],[0.7777777777777778,\"#fb9f3a\"],[0.8888888888888888,\"#fdca26\"],[1.0,\"#f0f921\"]],\"type\":\"histogram2dcontour\"}],\"mesh3d\":[{\"colorbar\":{\"outlinewidth\":0,\"ticks\":\"\"},\"type\":\"mesh3d\"}],\"parcoords\":[{\"line\":{\"colorbar\":{\"outlinewidth\":0,\"ticks\":\"\"}},\"type\":\"parcoords\"}],\"pie\":[{\"automargin\":true,\"type\":\"pie\"}],\"scatter\":[{\"marker\":{\"colorbar\":{\"outlinewidth\":0,\"ticks\":\"\"}},\"type\":\"scatter\"}],\"scatter3d\":[{\"line\":{\"colorbar\":{\"outlinewidth\":0,\"ticks\":\"\"}},\"marker\":{\"colorbar\":{\"outlinewidth\":0,\"ticks\":\"\"}},\"type\":\"scatter3d\"}],\"scattercarpet\":[{\"marker\":{\"colorbar\":{\"outlinewidth\":0,\"ticks\":\"\"}},\"type\":\"scattercarpet\"}],\"scattergeo\":[{\"marker\":{\"colorbar\":{\"outlinewidth\":0,\"ticks\":\"\"}},\"type\":\"scattergeo\"}],\"scattergl\":[{\"marker\":{\"colorbar\":{\"outlinewidth\":0,\"ticks\":\"\"}},\"type\":\"scattergl\"}],\"scattermapbox\":[{\"marker\":{\"colorbar\":{\"outlinewidth\":0,\"ticks\":\"\"}},\"type\":\"scattermapbox\"}],\"scatterpolar\":[{\"marker\":{\"colorbar\":{\"outlinewidth\":0,\"ticks\":\"\"}},\"type\":\"scatterpolar\"}],\"scatterpolargl\":[{\"marker\":{\"colorbar\":{\"outlinewidth\":0,\"ticks\":\"\"}},\"type\":\"scatterpolargl\"}],\"scatterternary\":[{\"marker\":{\"colorbar\":{\"outlinewidth\":0,\"ticks\":\"\"}},\"type\":\"scatterternary\"}],\"surface\":[{\"colorbar\":{\"outlinewidth\":0,\"ticks\":\"\"},\"colorscale\":[[0.0,\"#0d0887\"],[0.1111111111111111,\"#46039f\"],[0.2222222222222222,\"#7201a8\"],[0.3333333333333333,\"#9c179e\"],[0.4444444444444444,\"#bd3786\"],[0.5555555555555556,\"#d8576b\"],[0.6666666666666666,\"#ed7953\"],[0.7777777777777778,\"#fb9f3a\"],[0.8888888888888888,\"#fdca26\"],[1.0,\"#f0f921\"]],\"type\":\"surface\"}],\"table\":[{\"cells\":{\"fill\":{\"color\":\"#EBF0F8\"},\"line\":{\"color\":\"white\"}},\"header\":{\"fill\":{\"color\":\"#C8D4E3\"},\"line\":{\"color\":\"white\"}},\"type\":\"table\"}]},\"layout\":{\"annotationdefaults\":{\"arrowcolor\":\"#2a3f5f\",\"arrowhead\":0,\"arrowwidth\":1},\"autotypenumbers\":\"strict\",\"coloraxis\":{\"colorbar\":{\"outlinewidth\":0,\"ticks\":\"\"}},\"colorscale\":{\"diverging\":[[0,\"#8e0152\"],[0.1,\"#c51b7d\"],[0.2,\"#de77ae\"],[0.3,\"#f1b6da\"],[0.4,\"#fde0ef\"],[0.5,\"#f7f7f7\"],[0.6,\"#e6f5d0\"],[0.7,\"#b8e186\"],[0.8,\"#7fbc41\"],[0.9,\"#4d9221\"],[1,\"#276419\"]],\"sequential\":[[0.0,\"#0d0887\"],[0.1111111111111111,\"#46039f\"],[0.2222222222222222,\"#7201a8\"],[0.3333333333333333,\"#9c179e\"],[0.4444444444444444,\"#bd3786\"],[0.5555555555555556,\"#d8576b\"],[0.6666666666666666,\"#ed7953\"],[0.7777777777777778,\"#fb9f3a\"],[0.8888888888888888,\"#fdca26\"],[1.0,\"#f0f921\"]],\"sequentialminus\":[[0.0,\"#0d0887\"],[0.1111111111111111,\"#46039f\"],[0.2222222222222222,\"#7201a8\"],[0.3333333333333333,\"#9c179e\"],[0.4444444444444444,\"#bd3786\"],[0.5555555555555556,\"#d8576b\"],[0.6666666666666666,\"#ed7953\"],[0.7777777777777778,\"#fb9f3a\"],[0.8888888888888888,\"#fdca26\"],[1.0,\"#f0f921\"]]},\"colorway\":[\"#636efa\",\"#EF553B\",\"#00cc96\",\"#ab63fa\",\"#FFA15A\",\"#19d3f3\",\"#FF6692\",\"#B6E880\",\"#FF97FF\",\"#FECB52\"],\"font\":{\"color\":\"#2a3f5f\"},\"geo\":{\"bgcolor\":\"white\",\"lakecolor\":\"white\",\"landcolor\":\"#E5ECF6\",\"showlakes\":true,\"showland\":true,\"subunitcolor\":\"white\"},\"hoverlabel\":{\"align\":\"left\"},\"hovermode\":\"closest\",\"mapbox\":{\"style\":\"light\"},\"paper_bgcolor\":\"white\",\"plot_bgcolor\":\"#E5ECF6\",\"polar\":{\"angularaxis\":{\"gridcolor\":\"white\",\"linecolor\":\"white\",\"ticks\":\"\"},\"bgcolor\":\"#E5ECF6\",\"radialaxis\":{\"gridcolor\":\"white\",\"linecolor\":\"white\",\"ticks\":\"\"}},\"scene\":{\"xaxis\":{\"backgroundcolor\":\"#E5ECF6\",\"gridcolor\":\"white\",\"gridwidth\":2,\"linecolor\":\"white\",\"showbackground\":true,\"ticks\":\"\",\"zerolinecolor\":\"white\"},\"yaxis\":{\"backgroundcolor\":\"#E5ECF6\",\"gridcolor\":\"white\",\"gridwidth\":2,\"linecolor\":\"white\",\"showbackground\":true,\"ticks\":\"\",\"zerolinecolor\":\"white\"},\"zaxis\":{\"backgroundcolor\":\"#E5ECF6\",\"gridcolor\":\"white\",\"gridwidth\":2,\"linecolor\":\"white\",\"showbackground\":true,\"ticks\":\"\",\"zerolinecolor\":\"white\"}},\"shapedefaults\":{\"line\":{\"color\":\"#2a3f5f\"}},\"ternary\":{\"aaxis\":{\"gridcolor\":\"white\",\"linecolor\":\"white\",\"ticks\":\"\"},\"baxis\":{\"gridcolor\":\"white\",\"linecolor\":\"white\",\"ticks\":\"\"},\"bgcolor\":\"#E5ECF6\",\"caxis\":{\"gridcolor\":\"white\",\"linecolor\":\"white\",\"ticks\":\"\"}},\"title\":{\"x\":0.05},\"xaxis\":{\"automargin\":true,\"gridcolor\":\"white\",\"linecolor\":\"white\",\"ticks\":\"\",\"title\":{\"standoff\":15},\"zerolinecolor\":\"white\",\"zerolinewidth\":2},\"yaxis\":{\"automargin\":true,\"gridcolor\":\"white\",\"linecolor\":\"white\",\"ticks\":\"\",\"title\":{\"standoff\":15},\"zerolinecolor\":\"white\",\"zerolinewidth\":2}}},\"yaxis\":{\"title\":{\"text\":\"\\u0422\\u0438\\u043f \\u0441\\u043e\\u0431\\u044b\\u0442\\u0438\\u044f\"}},\"title\":{\"text\":\"\\u0412\\u043e\\u0440\\u043e\\u043d\\u043a\\u0430 \\u043a\\u043e\\u043d\\u0432\\u0435\\u0440\\u0441\\u0438\\u0438\"}},                        {\"responsive\": true}                    ).then(function(){\n",
       "                            \n",
       "var gd = document.getElementById('4af3950f-5a3c-4c1b-9e67-57f345f58706');\n",
       "var x = new MutationObserver(function (mutations, observer) {{\n",
       "        var display = window.getComputedStyle(gd).display;\n",
       "        if (!display || display === 'none') {{\n",
       "            console.log([gd, 'removed!']);\n",
       "            Plotly.purge(gd);\n",
       "            observer.disconnect();\n",
       "        }}\n",
       "}});\n",
       "\n",
       "// Listen for the removal of the full notebook cells\n",
       "var notebookContainer = gd.closest('#notebook-container');\n",
       "if (notebookContainer) {{\n",
       "    x.observe(notebookContainer, {childList: true});\n",
       "}}\n",
       "\n",
       "// Listen for the clearing of the current output cell\n",
       "var outputEl = gd.closest('.output');\n",
       "if (outputEl) {{\n",
       "    x.observe(outputEl, {childList: true});\n",
       "}}\n",
       "\n",
       "                        })                };                });            </script>        </div>"
      ]
     },
     "metadata": {},
     "output_type": "display_data"
    }
   ],
   "source": [
    "fig = go.Figure()\n",
    "\n",
    "fig.add_trace(go.Funnel(\n",
    "    name = 'A',\n",
    "    y = funnel_data['event_name'],\n",
    "    x = funnel_data['A'],\n",
    "    textinfo = \"value+percent initial\")\n",
    ")\n",
    "\n",
    "fig.add_trace(go.Funnel(\n",
    "    name = 'B',\n",
    "    y = funnel_data['event_name'],\n",
    "    x = funnel_data['B'],\n",
    "    textinfo = \"value+percent initial\")\n",
    ")\n",
    "fig.update_layout(\n",
    "    yaxis_title='Тип события',\n",
    "    title='Воронка конверсии'\n",
    ")\n",
    "fig.show()"
   ]
  },
  {
   "cell_type": "markdown",
   "metadata": {
    "datalore": {
     "hide_input_from_viewers": true,
     "hide_output_from_viewers": true,
     "node_id": "hVbR5wBIxZG5rycI3VE4Ow",
     "type": "MD"
    }
   },
   "source": [
    "**Выводы**:\n",
    "- Падение конверсии *группы В* на стадии *просмотра товара* упала на 9%;\n",
    "- Разница в конверсиях на стадиях *просмотра корзины* и *покупки* на уровне погрешности, так как в техзадании указано, что ждут улучшение на 10% и не менее. Чтобы зафиксировать разницу меньше 10%, необходимо планировать эксперимент с большим количеством участников.\n",
    "\n",
    "Возможной причиной понижения конверсии *просмотра товара* могут быть одновременные изменения и в рекомендательной системе, и в интерфейсе."
   ]
  },
  {
   "cell_type": "markdown",
   "metadata": {
    "datalore": {
     "hide_input_from_viewers": true,
     "hide_output_from_viewers": true,
     "node_id": "1nHXOQJHjagr1dgIX94I1W",
     "type": "MD"
    }
   },
   "source": [
    "### Выводы по исследовательскому анализу данных:\n",
    "\n",
    "- 75% пользователей совершают до 9 событий;\n",
    "- Большинство пользователей совершило до 6 действия каждого типа;\n",
    "- Распределения участников теста не отличаются от общего распределения;\n",
    "- Количество событий увеличивается с начала наблюдений, достигая своего максимума 21 декабря, затем частота уменьшается до конца декабря;\n",
    "- Также видим два пика активности 14 и 21 декабря.\n",
    "- В общем, участники группы В совершают действия приблизительно в три раза реже, возможной причиной которого могут быть одновременные изменения в рекомендательной системе и интерфейсе;\n",
    "- В первые три дня 40% пользователей возвращаются обратно, на *7-й лайфтайм* - **20% пользователей**;\n",
    "- Число событий в примерно в 10 раз за 8 дней после остановки набора новых пользователей.\n",
    "\n",
    "Пересечение с новогодней маркетинговой активностью, существенная часть (почти четверть) аудитории данного А/В-теста — перечисленные факты имеют существенное влияние на результаты этого эксперимента."
   ]
  },
  {
   "cell_type": "markdown",
   "metadata": {
    "datalore": {
     "hide_input_from_viewers": true,
     "hide_output_from_viewers": true,
     "node_id": "UhFSEBRrxGMTjRnQO6jHTd",
     "type": "MD"
    }
   },
   "source": [
    "## А/В-тестирование"
   ]
  },
  {
   "cell_type": "markdown",
   "metadata": {
    "datalore": {
     "hide_input_from_viewers": true,
     "hide_output_from_viewers": true,
     "node_id": "Ylu85nmCWgVFpFs19NkGZ4",
     "type": "MD"
    }
   },
   "source": [
    "В техзадании проговорено, что в первые две недели после регистрации покажут улучшение ключевых метрик не менее, чем на 10%:\n",
    "- конверсии в просмотр карточек товаров;\n",
    "- просмотры корзины;\n",
    "- покупки."
   ]
  },
  {
   "cell_type": "markdown",
   "metadata": {
    "datalore": {
     "hide_input_from_viewers": true,
     "hide_output_from_viewers": true,
     "node_id": "ZUeeI7FqqG9KKQ2phy64LN",
     "type": "MD"
    }
   },
   "source": [
    "### Расчет метрик"
   ]
  },
  {
   "cell_type": "code",
   "execution_count": 156,
   "metadata": {
    "ExecuteTime": {
     "end_time": "2022-12-23T06:27:53.203499Z",
     "start_time": "2022-12-23T06:27:53.097143Z"
    },
    "datalore": {
     "hide_input_from_viewers": true,
     "hide_output_from_viewers": true,
     "node_id": "sg9S8SAdI4ZyUAidRVmMG4",
     "type": "CODE"
    }
   },
   "outputs": [],
   "source": [
    "rec_events = rec_events.drop(columns=['day_of_december'])"
   ]
  },
  {
   "cell_type": "code",
   "execution_count": 157,
   "metadata": {
    "ExecuteTime": {
     "end_time": "2022-12-23T06:27:53.267493Z",
     "start_time": "2022-12-23T06:27:53.210496Z"
    },
    "datalore": {
     "hide_input_from_viewers": true,
     "hide_output_from_viewers": true,
     "node_id": "4UNm5hOphFSlENmQlBN5YC",
     "type": "CODE"
    }
   },
   "outputs": [],
   "source": [
    "main_funnel = (rec_events\n",
    "    .pivot_table(\n",
    "        index='event_name',\n",
    "        columns='group',\n",
    "        values='user_id',\n",
    "        aggfunc='nunique')\n",
    ").loc[['login', 'product_page', 'product_cart', 'purchase']]"
   ]
  },
  {
   "cell_type": "code",
   "execution_count": 158,
   "metadata": {
    "ExecuteTime": {
     "end_time": "2022-12-23T06:27:53.315495Z",
     "start_time": "2022-12-23T06:27:53.272499Z"
    },
    "datalore": {
     "hide_input_from_viewers": true,
     "hide_output_from_viewers": true,
     "node_id": "IP9UtJXmjKoLpVtHtVNu1r",
     "type": "CODE"
    }
   },
   "outputs": [
    {
     "data": {
      "application/vnd.plotly.v1+json": {
       "config": {
        "plotlyServerURL": "https://plot.ly"
       },
       "data": [
        {
         "name": "A",
         "textinfo": "value+percent initial",
         "type": "funnel",
         "x": [
          2604,
          1685,
          782,
          833
         ],
         "y": [
          "login",
          "product_page",
          "product_cart",
          "purchase"
         ]
        },
        {
         "name": "B",
         "textinfo": "value+percent initial",
         "type": "funnel",
         "x": [
          876,
          493,
          244,
          249
         ],
         "y": [
          "login",
          "product_page",
          "product_cart",
          "purchase"
         ]
        }
       ],
       "layout": {
        "template": {
         "data": {
          "bar": [
           {
            "error_x": {
             "color": "#2a3f5f"
            },
            "error_y": {
             "color": "#2a3f5f"
            },
            "marker": {
             "line": {
              "color": "#E5ECF6",
              "width": 0.5
             },
             "pattern": {
              "fillmode": "overlay",
              "size": 10,
              "solidity": 0.2
             }
            },
            "type": "bar"
           }
          ],
          "barpolar": [
           {
            "marker": {
             "line": {
              "color": "#E5ECF6",
              "width": 0.5
             },
             "pattern": {
              "fillmode": "overlay",
              "size": 10,
              "solidity": 0.2
             }
            },
            "type": "barpolar"
           }
          ],
          "carpet": [
           {
            "aaxis": {
             "endlinecolor": "#2a3f5f",
             "gridcolor": "white",
             "linecolor": "white",
             "minorgridcolor": "white",
             "startlinecolor": "#2a3f5f"
            },
            "baxis": {
             "endlinecolor": "#2a3f5f",
             "gridcolor": "white",
             "linecolor": "white",
             "minorgridcolor": "white",
             "startlinecolor": "#2a3f5f"
            },
            "type": "carpet"
           }
          ],
          "choropleth": [
           {
            "colorbar": {
             "outlinewidth": 0,
             "ticks": ""
            },
            "type": "choropleth"
           }
          ],
          "contour": [
           {
            "colorbar": {
             "outlinewidth": 0,
             "ticks": ""
            },
            "colorscale": [
             [
              0,
              "#0d0887"
             ],
             [
              0.1111111111111111,
              "#46039f"
             ],
             [
              0.2222222222222222,
              "#7201a8"
             ],
             [
              0.3333333333333333,
              "#9c179e"
             ],
             [
              0.4444444444444444,
              "#bd3786"
             ],
             [
              0.5555555555555556,
              "#d8576b"
             ],
             [
              0.6666666666666666,
              "#ed7953"
             ],
             [
              0.7777777777777778,
              "#fb9f3a"
             ],
             [
              0.8888888888888888,
              "#fdca26"
             ],
             [
              1,
              "#f0f921"
             ]
            ],
            "type": "contour"
           }
          ],
          "contourcarpet": [
           {
            "colorbar": {
             "outlinewidth": 0,
             "ticks": ""
            },
            "type": "contourcarpet"
           }
          ],
          "heatmap": [
           {
            "colorbar": {
             "outlinewidth": 0,
             "ticks": ""
            },
            "colorscale": [
             [
              0,
              "#0d0887"
             ],
             [
              0.1111111111111111,
              "#46039f"
             ],
             [
              0.2222222222222222,
              "#7201a8"
             ],
             [
              0.3333333333333333,
              "#9c179e"
             ],
             [
              0.4444444444444444,
              "#bd3786"
             ],
             [
              0.5555555555555556,
              "#d8576b"
             ],
             [
              0.6666666666666666,
              "#ed7953"
             ],
             [
              0.7777777777777778,
              "#fb9f3a"
             ],
             [
              0.8888888888888888,
              "#fdca26"
             ],
             [
              1,
              "#f0f921"
             ]
            ],
            "type": "heatmap"
           }
          ],
          "heatmapgl": [
           {
            "colorbar": {
             "outlinewidth": 0,
             "ticks": ""
            },
            "colorscale": [
             [
              0,
              "#0d0887"
             ],
             [
              0.1111111111111111,
              "#46039f"
             ],
             [
              0.2222222222222222,
              "#7201a8"
             ],
             [
              0.3333333333333333,
              "#9c179e"
             ],
             [
              0.4444444444444444,
              "#bd3786"
             ],
             [
              0.5555555555555556,
              "#d8576b"
             ],
             [
              0.6666666666666666,
              "#ed7953"
             ],
             [
              0.7777777777777778,
              "#fb9f3a"
             ],
             [
              0.8888888888888888,
              "#fdca26"
             ],
             [
              1,
              "#f0f921"
             ]
            ],
            "type": "heatmapgl"
           }
          ],
          "histogram": [
           {
            "marker": {
             "pattern": {
              "fillmode": "overlay",
              "size": 10,
              "solidity": 0.2
             }
            },
            "type": "histogram"
           }
          ],
          "histogram2d": [
           {
            "colorbar": {
             "outlinewidth": 0,
             "ticks": ""
            },
            "colorscale": [
             [
              0,
              "#0d0887"
             ],
             [
              0.1111111111111111,
              "#46039f"
             ],
             [
              0.2222222222222222,
              "#7201a8"
             ],
             [
              0.3333333333333333,
              "#9c179e"
             ],
             [
              0.4444444444444444,
              "#bd3786"
             ],
             [
              0.5555555555555556,
              "#d8576b"
             ],
             [
              0.6666666666666666,
              "#ed7953"
             ],
             [
              0.7777777777777778,
              "#fb9f3a"
             ],
             [
              0.8888888888888888,
              "#fdca26"
             ],
             [
              1,
              "#f0f921"
             ]
            ],
            "type": "histogram2d"
           }
          ],
          "histogram2dcontour": [
           {
            "colorbar": {
             "outlinewidth": 0,
             "ticks": ""
            },
            "colorscale": [
             [
              0,
              "#0d0887"
             ],
             [
              0.1111111111111111,
              "#46039f"
             ],
             [
              0.2222222222222222,
              "#7201a8"
             ],
             [
              0.3333333333333333,
              "#9c179e"
             ],
             [
              0.4444444444444444,
              "#bd3786"
             ],
             [
              0.5555555555555556,
              "#d8576b"
             ],
             [
              0.6666666666666666,
              "#ed7953"
             ],
             [
              0.7777777777777778,
              "#fb9f3a"
             ],
             [
              0.8888888888888888,
              "#fdca26"
             ],
             [
              1,
              "#f0f921"
             ]
            ],
            "type": "histogram2dcontour"
           }
          ],
          "mesh3d": [
           {
            "colorbar": {
             "outlinewidth": 0,
             "ticks": ""
            },
            "type": "mesh3d"
           }
          ],
          "parcoords": [
           {
            "line": {
             "colorbar": {
              "outlinewidth": 0,
              "ticks": ""
             }
            },
            "type": "parcoords"
           }
          ],
          "pie": [
           {
            "automargin": true,
            "type": "pie"
           }
          ],
          "scatter": [
           {
            "marker": {
             "colorbar": {
              "outlinewidth": 0,
              "ticks": ""
             }
            },
            "type": "scatter"
           }
          ],
          "scatter3d": [
           {
            "line": {
             "colorbar": {
              "outlinewidth": 0,
              "ticks": ""
             }
            },
            "marker": {
             "colorbar": {
              "outlinewidth": 0,
              "ticks": ""
             }
            },
            "type": "scatter3d"
           }
          ],
          "scattercarpet": [
           {
            "marker": {
             "colorbar": {
              "outlinewidth": 0,
              "ticks": ""
             }
            },
            "type": "scattercarpet"
           }
          ],
          "scattergeo": [
           {
            "marker": {
             "colorbar": {
              "outlinewidth": 0,
              "ticks": ""
             }
            },
            "type": "scattergeo"
           }
          ],
          "scattergl": [
           {
            "marker": {
             "colorbar": {
              "outlinewidth": 0,
              "ticks": ""
             }
            },
            "type": "scattergl"
           }
          ],
          "scattermapbox": [
           {
            "marker": {
             "colorbar": {
              "outlinewidth": 0,
              "ticks": ""
             }
            },
            "type": "scattermapbox"
           }
          ],
          "scatterpolar": [
           {
            "marker": {
             "colorbar": {
              "outlinewidth": 0,
              "ticks": ""
             }
            },
            "type": "scatterpolar"
           }
          ],
          "scatterpolargl": [
           {
            "marker": {
             "colorbar": {
              "outlinewidth": 0,
              "ticks": ""
             }
            },
            "type": "scatterpolargl"
           }
          ],
          "scatterternary": [
           {
            "marker": {
             "colorbar": {
              "outlinewidth": 0,
              "ticks": ""
             }
            },
            "type": "scatterternary"
           }
          ],
          "surface": [
           {
            "colorbar": {
             "outlinewidth": 0,
             "ticks": ""
            },
            "colorscale": [
             [
              0,
              "#0d0887"
             ],
             [
              0.1111111111111111,
              "#46039f"
             ],
             [
              0.2222222222222222,
              "#7201a8"
             ],
             [
              0.3333333333333333,
              "#9c179e"
             ],
             [
              0.4444444444444444,
              "#bd3786"
             ],
             [
              0.5555555555555556,
              "#d8576b"
             ],
             [
              0.6666666666666666,
              "#ed7953"
             ],
             [
              0.7777777777777778,
              "#fb9f3a"
             ],
             [
              0.8888888888888888,
              "#fdca26"
             ],
             [
              1,
              "#f0f921"
             ]
            ],
            "type": "surface"
           }
          ],
          "table": [
           {
            "cells": {
             "fill": {
              "color": "#EBF0F8"
             },
             "line": {
              "color": "white"
             }
            },
            "header": {
             "fill": {
              "color": "#C8D4E3"
             },
             "line": {
              "color": "white"
             }
            },
            "type": "table"
           }
          ]
         },
         "layout": {
          "annotationdefaults": {
           "arrowcolor": "#2a3f5f",
           "arrowhead": 0,
           "arrowwidth": 1
          },
          "autotypenumbers": "strict",
          "coloraxis": {
           "colorbar": {
            "outlinewidth": 0,
            "ticks": ""
           }
          },
          "colorscale": {
           "diverging": [
            [
             0,
             "#8e0152"
            ],
            [
             0.1,
             "#c51b7d"
            ],
            [
             0.2,
             "#de77ae"
            ],
            [
             0.3,
             "#f1b6da"
            ],
            [
             0.4,
             "#fde0ef"
            ],
            [
             0.5,
             "#f7f7f7"
            ],
            [
             0.6,
             "#e6f5d0"
            ],
            [
             0.7,
             "#b8e186"
            ],
            [
             0.8,
             "#7fbc41"
            ],
            [
             0.9,
             "#4d9221"
            ],
            [
             1,
             "#276419"
            ]
           ],
           "sequential": [
            [
             0,
             "#0d0887"
            ],
            [
             0.1111111111111111,
             "#46039f"
            ],
            [
             0.2222222222222222,
             "#7201a8"
            ],
            [
             0.3333333333333333,
             "#9c179e"
            ],
            [
             0.4444444444444444,
             "#bd3786"
            ],
            [
             0.5555555555555556,
             "#d8576b"
            ],
            [
             0.6666666666666666,
             "#ed7953"
            ],
            [
             0.7777777777777778,
             "#fb9f3a"
            ],
            [
             0.8888888888888888,
             "#fdca26"
            ],
            [
             1,
             "#f0f921"
            ]
           ],
           "sequentialminus": [
            [
             0,
             "#0d0887"
            ],
            [
             0.1111111111111111,
             "#46039f"
            ],
            [
             0.2222222222222222,
             "#7201a8"
            ],
            [
             0.3333333333333333,
             "#9c179e"
            ],
            [
             0.4444444444444444,
             "#bd3786"
            ],
            [
             0.5555555555555556,
             "#d8576b"
            ],
            [
             0.6666666666666666,
             "#ed7953"
            ],
            [
             0.7777777777777778,
             "#fb9f3a"
            ],
            [
             0.8888888888888888,
             "#fdca26"
            ],
            [
             1,
             "#f0f921"
            ]
           ]
          },
          "colorway": [
           "#636efa",
           "#EF553B",
           "#00cc96",
           "#ab63fa",
           "#FFA15A",
           "#19d3f3",
           "#FF6692",
           "#B6E880",
           "#FF97FF",
           "#FECB52"
          ],
          "font": {
           "color": "#2a3f5f"
          },
          "geo": {
           "bgcolor": "white",
           "lakecolor": "white",
           "landcolor": "#E5ECF6",
           "showlakes": true,
           "showland": true,
           "subunitcolor": "white"
          },
          "hoverlabel": {
           "align": "left"
          },
          "hovermode": "closest",
          "mapbox": {
           "style": "light"
          },
          "paper_bgcolor": "white",
          "plot_bgcolor": "#E5ECF6",
          "polar": {
           "angularaxis": {
            "gridcolor": "white",
            "linecolor": "white",
            "ticks": ""
           },
           "bgcolor": "#E5ECF6",
           "radialaxis": {
            "gridcolor": "white",
            "linecolor": "white",
            "ticks": ""
           }
          },
          "scene": {
           "xaxis": {
            "backgroundcolor": "#E5ECF6",
            "gridcolor": "white",
            "gridwidth": 2,
            "linecolor": "white",
            "showbackground": true,
            "ticks": "",
            "zerolinecolor": "white"
           },
           "yaxis": {
            "backgroundcolor": "#E5ECF6",
            "gridcolor": "white",
            "gridwidth": 2,
            "linecolor": "white",
            "showbackground": true,
            "ticks": "",
            "zerolinecolor": "white"
           },
           "zaxis": {
            "backgroundcolor": "#E5ECF6",
            "gridcolor": "white",
            "gridwidth": 2,
            "linecolor": "white",
            "showbackground": true,
            "ticks": "",
            "zerolinecolor": "white"
           }
          },
          "shapedefaults": {
           "line": {
            "color": "#2a3f5f"
           }
          },
          "ternary": {
           "aaxis": {
            "gridcolor": "white",
            "linecolor": "white",
            "ticks": ""
           },
           "baxis": {
            "gridcolor": "white",
            "linecolor": "white",
            "ticks": ""
           },
           "bgcolor": "#E5ECF6",
           "caxis": {
            "gridcolor": "white",
            "linecolor": "white",
            "ticks": ""
           }
          },
          "title": {
           "x": 0.05
          },
          "xaxis": {
           "automargin": true,
           "gridcolor": "white",
           "linecolor": "white",
           "ticks": "",
           "title": {
            "standoff": 15
           },
           "zerolinecolor": "white",
           "zerolinewidth": 2
          },
          "yaxis": {
           "automargin": true,
           "gridcolor": "white",
           "linecolor": "white",
           "ticks": "",
           "title": {
            "standoff": 15
           },
           "zerolinecolor": "white",
           "zerolinewidth": 2
          }
         }
        },
        "title": {
         "text": "Воронка конверсии в первые 14 дней после регистрации"
        },
        "yaxis": {
         "title": {
          "text": "Тип события"
         }
        }
       }
      },
      "text/html": [
       "<div>                            <div id=\"66934477-ce49-4fea-97c9-9260052d923f\" class=\"plotly-graph-div\" style=\"height:525px; width:100%;\"></div>            <script type=\"text/javascript\">                require([\"plotly\"], function(Plotly) {                    window.PLOTLYENV=window.PLOTLYENV || {};                                    if (document.getElementById(\"66934477-ce49-4fea-97c9-9260052d923f\")) {                    Plotly.newPlot(                        \"66934477-ce49-4fea-97c9-9260052d923f\",                        [{\"name\":\"A\",\"textinfo\":\"value+percent initial\",\"x\":[2604,1685,782,833],\"y\":[\"login\",\"product_page\",\"product_cart\",\"purchase\"],\"type\":\"funnel\"},{\"name\":\"B\",\"textinfo\":\"value+percent initial\",\"x\":[876,493,244,249],\"y\":[\"login\",\"product_page\",\"product_cart\",\"purchase\"],\"type\":\"funnel\"}],                        {\"template\":{\"data\":{\"bar\":[{\"error_x\":{\"color\":\"#2a3f5f\"},\"error_y\":{\"color\":\"#2a3f5f\"},\"marker\":{\"line\":{\"color\":\"#E5ECF6\",\"width\":0.5},\"pattern\":{\"fillmode\":\"overlay\",\"size\":10,\"solidity\":0.2}},\"type\":\"bar\"}],\"barpolar\":[{\"marker\":{\"line\":{\"color\":\"#E5ECF6\",\"width\":0.5},\"pattern\":{\"fillmode\":\"overlay\",\"size\":10,\"solidity\":0.2}},\"type\":\"barpolar\"}],\"carpet\":[{\"aaxis\":{\"endlinecolor\":\"#2a3f5f\",\"gridcolor\":\"white\",\"linecolor\":\"white\",\"minorgridcolor\":\"white\",\"startlinecolor\":\"#2a3f5f\"},\"baxis\":{\"endlinecolor\":\"#2a3f5f\",\"gridcolor\":\"white\",\"linecolor\":\"white\",\"minorgridcolor\":\"white\",\"startlinecolor\":\"#2a3f5f\"},\"type\":\"carpet\"}],\"choropleth\":[{\"colorbar\":{\"outlinewidth\":0,\"ticks\":\"\"},\"type\":\"choropleth\"}],\"contour\":[{\"colorbar\":{\"outlinewidth\":0,\"ticks\":\"\"},\"colorscale\":[[0.0,\"#0d0887\"],[0.1111111111111111,\"#46039f\"],[0.2222222222222222,\"#7201a8\"],[0.3333333333333333,\"#9c179e\"],[0.4444444444444444,\"#bd3786\"],[0.5555555555555556,\"#d8576b\"],[0.6666666666666666,\"#ed7953\"],[0.7777777777777778,\"#fb9f3a\"],[0.8888888888888888,\"#fdca26\"],[1.0,\"#f0f921\"]],\"type\":\"contour\"}],\"contourcarpet\":[{\"colorbar\":{\"outlinewidth\":0,\"ticks\":\"\"},\"type\":\"contourcarpet\"}],\"heatmap\":[{\"colorbar\":{\"outlinewidth\":0,\"ticks\":\"\"},\"colorscale\":[[0.0,\"#0d0887\"],[0.1111111111111111,\"#46039f\"],[0.2222222222222222,\"#7201a8\"],[0.3333333333333333,\"#9c179e\"],[0.4444444444444444,\"#bd3786\"],[0.5555555555555556,\"#d8576b\"],[0.6666666666666666,\"#ed7953\"],[0.7777777777777778,\"#fb9f3a\"],[0.8888888888888888,\"#fdca26\"],[1.0,\"#f0f921\"]],\"type\":\"heatmap\"}],\"heatmapgl\":[{\"colorbar\":{\"outlinewidth\":0,\"ticks\":\"\"},\"colorscale\":[[0.0,\"#0d0887\"],[0.1111111111111111,\"#46039f\"],[0.2222222222222222,\"#7201a8\"],[0.3333333333333333,\"#9c179e\"],[0.4444444444444444,\"#bd3786\"],[0.5555555555555556,\"#d8576b\"],[0.6666666666666666,\"#ed7953\"],[0.7777777777777778,\"#fb9f3a\"],[0.8888888888888888,\"#fdca26\"],[1.0,\"#f0f921\"]],\"type\":\"heatmapgl\"}],\"histogram\":[{\"marker\":{\"pattern\":{\"fillmode\":\"overlay\",\"size\":10,\"solidity\":0.2}},\"type\":\"histogram\"}],\"histogram2d\":[{\"colorbar\":{\"outlinewidth\":0,\"ticks\":\"\"},\"colorscale\":[[0.0,\"#0d0887\"],[0.1111111111111111,\"#46039f\"],[0.2222222222222222,\"#7201a8\"],[0.3333333333333333,\"#9c179e\"],[0.4444444444444444,\"#bd3786\"],[0.5555555555555556,\"#d8576b\"],[0.6666666666666666,\"#ed7953\"],[0.7777777777777778,\"#fb9f3a\"],[0.8888888888888888,\"#fdca26\"],[1.0,\"#f0f921\"]],\"type\":\"histogram2d\"}],\"histogram2dcontour\":[{\"colorbar\":{\"outlinewidth\":0,\"ticks\":\"\"},\"colorscale\":[[0.0,\"#0d0887\"],[0.1111111111111111,\"#46039f\"],[0.2222222222222222,\"#7201a8\"],[0.3333333333333333,\"#9c179e\"],[0.4444444444444444,\"#bd3786\"],[0.5555555555555556,\"#d8576b\"],[0.6666666666666666,\"#ed7953\"],[0.7777777777777778,\"#fb9f3a\"],[0.8888888888888888,\"#fdca26\"],[1.0,\"#f0f921\"]],\"type\":\"histogram2dcontour\"}],\"mesh3d\":[{\"colorbar\":{\"outlinewidth\":0,\"ticks\":\"\"},\"type\":\"mesh3d\"}],\"parcoords\":[{\"line\":{\"colorbar\":{\"outlinewidth\":0,\"ticks\":\"\"}},\"type\":\"parcoords\"}],\"pie\":[{\"automargin\":true,\"type\":\"pie\"}],\"scatter\":[{\"marker\":{\"colorbar\":{\"outlinewidth\":0,\"ticks\":\"\"}},\"type\":\"scatter\"}],\"scatter3d\":[{\"line\":{\"colorbar\":{\"outlinewidth\":0,\"ticks\":\"\"}},\"marker\":{\"colorbar\":{\"outlinewidth\":0,\"ticks\":\"\"}},\"type\":\"scatter3d\"}],\"scattercarpet\":[{\"marker\":{\"colorbar\":{\"outlinewidth\":0,\"ticks\":\"\"}},\"type\":\"scattercarpet\"}],\"scattergeo\":[{\"marker\":{\"colorbar\":{\"outlinewidth\":0,\"ticks\":\"\"}},\"type\":\"scattergeo\"}],\"scattergl\":[{\"marker\":{\"colorbar\":{\"outlinewidth\":0,\"ticks\":\"\"}},\"type\":\"scattergl\"}],\"scattermapbox\":[{\"marker\":{\"colorbar\":{\"outlinewidth\":0,\"ticks\":\"\"}},\"type\":\"scattermapbox\"}],\"scatterpolar\":[{\"marker\":{\"colorbar\":{\"outlinewidth\":0,\"ticks\":\"\"}},\"type\":\"scatterpolar\"}],\"scatterpolargl\":[{\"marker\":{\"colorbar\":{\"outlinewidth\":0,\"ticks\":\"\"}},\"type\":\"scatterpolargl\"}],\"scatterternary\":[{\"marker\":{\"colorbar\":{\"outlinewidth\":0,\"ticks\":\"\"}},\"type\":\"scatterternary\"}],\"surface\":[{\"colorbar\":{\"outlinewidth\":0,\"ticks\":\"\"},\"colorscale\":[[0.0,\"#0d0887\"],[0.1111111111111111,\"#46039f\"],[0.2222222222222222,\"#7201a8\"],[0.3333333333333333,\"#9c179e\"],[0.4444444444444444,\"#bd3786\"],[0.5555555555555556,\"#d8576b\"],[0.6666666666666666,\"#ed7953\"],[0.7777777777777778,\"#fb9f3a\"],[0.8888888888888888,\"#fdca26\"],[1.0,\"#f0f921\"]],\"type\":\"surface\"}],\"table\":[{\"cells\":{\"fill\":{\"color\":\"#EBF0F8\"},\"line\":{\"color\":\"white\"}},\"header\":{\"fill\":{\"color\":\"#C8D4E3\"},\"line\":{\"color\":\"white\"}},\"type\":\"table\"}]},\"layout\":{\"annotationdefaults\":{\"arrowcolor\":\"#2a3f5f\",\"arrowhead\":0,\"arrowwidth\":1},\"autotypenumbers\":\"strict\",\"coloraxis\":{\"colorbar\":{\"outlinewidth\":0,\"ticks\":\"\"}},\"colorscale\":{\"diverging\":[[0,\"#8e0152\"],[0.1,\"#c51b7d\"],[0.2,\"#de77ae\"],[0.3,\"#f1b6da\"],[0.4,\"#fde0ef\"],[0.5,\"#f7f7f7\"],[0.6,\"#e6f5d0\"],[0.7,\"#b8e186\"],[0.8,\"#7fbc41\"],[0.9,\"#4d9221\"],[1,\"#276419\"]],\"sequential\":[[0.0,\"#0d0887\"],[0.1111111111111111,\"#46039f\"],[0.2222222222222222,\"#7201a8\"],[0.3333333333333333,\"#9c179e\"],[0.4444444444444444,\"#bd3786\"],[0.5555555555555556,\"#d8576b\"],[0.6666666666666666,\"#ed7953\"],[0.7777777777777778,\"#fb9f3a\"],[0.8888888888888888,\"#fdca26\"],[1.0,\"#f0f921\"]],\"sequentialminus\":[[0.0,\"#0d0887\"],[0.1111111111111111,\"#46039f\"],[0.2222222222222222,\"#7201a8\"],[0.3333333333333333,\"#9c179e\"],[0.4444444444444444,\"#bd3786\"],[0.5555555555555556,\"#d8576b\"],[0.6666666666666666,\"#ed7953\"],[0.7777777777777778,\"#fb9f3a\"],[0.8888888888888888,\"#fdca26\"],[1.0,\"#f0f921\"]]},\"colorway\":[\"#636efa\",\"#EF553B\",\"#00cc96\",\"#ab63fa\",\"#FFA15A\",\"#19d3f3\",\"#FF6692\",\"#B6E880\",\"#FF97FF\",\"#FECB52\"],\"font\":{\"color\":\"#2a3f5f\"},\"geo\":{\"bgcolor\":\"white\",\"lakecolor\":\"white\",\"landcolor\":\"#E5ECF6\",\"showlakes\":true,\"showland\":true,\"subunitcolor\":\"white\"},\"hoverlabel\":{\"align\":\"left\"},\"hovermode\":\"closest\",\"mapbox\":{\"style\":\"light\"},\"paper_bgcolor\":\"white\",\"plot_bgcolor\":\"#E5ECF6\",\"polar\":{\"angularaxis\":{\"gridcolor\":\"white\",\"linecolor\":\"white\",\"ticks\":\"\"},\"bgcolor\":\"#E5ECF6\",\"radialaxis\":{\"gridcolor\":\"white\",\"linecolor\":\"white\",\"ticks\":\"\"}},\"scene\":{\"xaxis\":{\"backgroundcolor\":\"#E5ECF6\",\"gridcolor\":\"white\",\"gridwidth\":2,\"linecolor\":\"white\",\"showbackground\":true,\"ticks\":\"\",\"zerolinecolor\":\"white\"},\"yaxis\":{\"backgroundcolor\":\"#E5ECF6\",\"gridcolor\":\"white\",\"gridwidth\":2,\"linecolor\":\"white\",\"showbackground\":true,\"ticks\":\"\",\"zerolinecolor\":\"white\"},\"zaxis\":{\"backgroundcolor\":\"#E5ECF6\",\"gridcolor\":\"white\",\"gridwidth\":2,\"linecolor\":\"white\",\"showbackground\":true,\"ticks\":\"\",\"zerolinecolor\":\"white\"}},\"shapedefaults\":{\"line\":{\"color\":\"#2a3f5f\"}},\"ternary\":{\"aaxis\":{\"gridcolor\":\"white\",\"linecolor\":\"white\",\"ticks\":\"\"},\"baxis\":{\"gridcolor\":\"white\",\"linecolor\":\"white\",\"ticks\":\"\"},\"bgcolor\":\"#E5ECF6\",\"caxis\":{\"gridcolor\":\"white\",\"linecolor\":\"white\",\"ticks\":\"\"}},\"title\":{\"x\":0.05},\"xaxis\":{\"automargin\":true,\"gridcolor\":\"white\",\"linecolor\":\"white\",\"ticks\":\"\",\"title\":{\"standoff\":15},\"zerolinecolor\":\"white\",\"zerolinewidth\":2},\"yaxis\":{\"automargin\":true,\"gridcolor\":\"white\",\"linecolor\":\"white\",\"ticks\":\"\",\"title\":{\"standoff\":15},\"zerolinecolor\":\"white\",\"zerolinewidth\":2}}},\"yaxis\":{\"title\":{\"text\":\"\\u0422\\u0438\\u043f \\u0441\\u043e\\u0431\\u044b\\u0442\\u0438\\u044f\"}},\"title\":{\"text\":\"\\u0412\\u043e\\u0440\\u043e\\u043d\\u043a\\u0430 \\u043a\\u043e\\u043d\\u0432\\u0435\\u0440\\u0441\\u0438\\u0438 \\u0432 \\u043f\\u0435\\u0440\\u0432\\u044b\\u0435 14 \\u0434\\u043d\\u0435\\u0439 \\u043f\\u043e\\u0441\\u043b\\u0435 \\u0440\\u0435\\u0433\\u0438\\u0441\\u0442\\u0440\\u0430\\u0446\\u0438\\u0438\"}},                        {\"responsive\": true}                    ).then(function(){\n",
       "                            \n",
       "var gd = document.getElementById('66934477-ce49-4fea-97c9-9260052d923f');\n",
       "var x = new MutationObserver(function (mutations, observer) {{\n",
       "        var display = window.getComputedStyle(gd).display;\n",
       "        if (!display || display === 'none') {{\n",
       "            console.log([gd, 'removed!']);\n",
       "            Plotly.purge(gd);\n",
       "            observer.disconnect();\n",
       "        }}\n",
       "}});\n",
       "\n",
       "// Listen for the removal of the full notebook cells\n",
       "var notebookContainer = gd.closest('#notebook-container');\n",
       "if (notebookContainer) {{\n",
       "    x.observe(notebookContainer, {childList: true});\n",
       "}}\n",
       "\n",
       "// Listen for the clearing of the current output cell\n",
       "var outputEl = gd.closest('.output');\n",
       "if (outputEl) {{\n",
       "    x.observe(outputEl, {childList: true});\n",
       "}}\n",
       "\n",
       "                        })                };                });            </script>        </div>"
      ]
     },
     "metadata": {},
     "output_type": "display_data"
    }
   ],
   "source": [
    "fig = go.Figure()\n",
    "\n",
    "fig.add_trace(go.Funnel(\n",
    "    name = 'A',\n",
    "    y = main_funnel.index,\n",
    "    x = main_funnel['A'],\n",
    "    textinfo = \"value+percent initial\")\n",
    ")\n",
    "\n",
    "fig.add_trace(go.Funnel(\n",
    "    name = 'B',\n",
    "    y = main_funnel.index,\n",
    "    x = main_funnel['B'],\n",
    "    textinfo = \"value+percent initial\")\n",
    ")\n",
    "fig.update_layout(\n",
    "    yaxis_title='Тип события',\n",
    "    title='Воронка конверсии в первые 14 дней после регистрации'\n",
    ")\n",
    "fig.show()"
   ]
  },
  {
   "cell_type": "markdown",
   "metadata": {
    "datalore": {
     "hide_input_from_viewers": true,
     "hide_output_from_viewers": true,
     "node_id": "lXKPMQL6lEgvEOgbNLAFDA",
     "type": "MD"
    }
   },
   "source": [
    "**Выводы:**\n",
    "- На стадии *просмотра товара* у группы В видим падение конверсии на 9%;\n",
    "- На стадиях *просмотра корзины* и *покупки* у группы В конверсия на 2% и 3% меньше соответственно;\n",
    "- Совершили покупку все пользователи, которые просмотрели корзину;\n",
    "- На этапе покупки у контрольной группы конверсия на 1% больше, чем на этапе `product_cart`, что может свидетельствовать о необязательности в воронке стадии *просмотра корзины*."
   ]
  },
  {
   "cell_type": "markdown",
   "metadata": {
    "datalore": {
     "hide_input_from_viewers": true,
     "hide_output_from_viewers": true,
     "node_id": "CHV9UY7h5teUz2m9gsJ0wr",
     "type": "MD"
    }
   },
   "source": [
    "### Объявление функции для расчета z-критерия"
   ]
  },
  {
   "cell_type": "code",
   "execution_count": 159,
   "metadata": {
    "ExecuteTime": {
     "end_time": "2022-12-23T06:27:53.347492Z",
     "start_time": "2022-12-23T06:27:53.321495Z"
    },
    "datalore": {
     "hide_input_from_viewers": true,
     "hide_output_from_viewers": true,
     "node_id": "1AsSLstKb89ThP2N49Kj2l",
     "type": "CODE"
    }
   },
   "outputs": [],
   "source": [
    "# объявляю функцию для расчета z-критерия\n",
    "def z_value(group_1_successes, # число успешных событий первой группы\n",
    "            group_1_trials, # число всех событий первой группы\n",
    "            group_2_successes, # число успешных событий второй группы\n",
    "            group_2_trials, # число всех событий второй группы\n",
    "            alpha # задаю критический уровень статистический значимости\n",
    "):\n",
    "\n",
    "    p1 = group_1_successes / group_1_trials\n",
    "    \n",
    "    p2 = group_2_successes / group_2_trials\n",
    "\n",
    "    p_comb = (group_1_successes + group_2_successes\n",
    "         ) / (group_1_trials + group_2_trials)\n",
    "\n",
    "    diff = p1 - p2\n",
    "\n",
    "    z_value = diff / math.sqrt(\n",
    "        p_comb * \n",
    "        (1 - p_comb) * \n",
    "        (1 / group_1_trials + 1 / group_2_trials)\n",
    "    )\n",
    "\n",
    "\n",
    "    distr = st.norm(0, 1)\n",
    "\n",
    "    p_value = (1 - distr.cdf(abs(z_value))) * 2\n",
    "\n",
    "    print(f'P-уровень значимости : {p_value}')\n",
    "\n",
    "    if p_value < alpha:\n",
    "        print('Нулевая гипотеза отвергнута')\n",
    "    else:\n",
    "        print('Нет оснований отвергнуть нулевую гипотезу')"
   ]
  },
  {
   "cell_type": "markdown",
   "metadata": {
    "datalore": {
     "hide_input_from_viewers": true,
     "hide_output_from_viewers": true,
     "node_id": "Uqy44AMdH67JLcexlc02QA",
     "type": "MD"
    }
   },
   "source": [
    "### Проведение статистических тестов"
   ]
  },
  {
   "cell_type": "markdown",
   "metadata": {
    "datalore": {
     "hide_input_from_viewers": true,
     "hide_output_from_viewers": true,
     "node_id": "SCtAr1NzaUSjvsoDv1Gj3S",
     "type": "MD"
    }
   },
   "source": [
    "Необходимо проверить статистическую разницу долей z-критерием:\n",
    "- конверсии в просмотр карточек товаров — событие product_page,\n",
    "- просмотры корзины — product_cart,\n",
    "- покупки — purchase."
   ]
  },
  {
   "cell_type": "markdown",
   "metadata": {
    "datalore": {
     "hide_input_from_viewers": true,
     "hide_output_from_viewers": true,
     "node_id": "YC0Hctr0E15wUS9k2Lqi8Y",
     "type": "MD"
    }
   },
   "source": [
    "1. Проверяю конверсию в просмотр карточек товаров *z-критерием*:\n",
    "- `H 0` : пропорции пользователей групп А и В, которые совершили действие `product_page`, **равны**;\n",
    "- `H A` : пропорции групп **отличаются**."
   ]
  },
  {
   "cell_type": "code",
   "execution_count": 160,
   "metadata": {
    "ExecuteTime": {
     "end_time": "2022-12-23T06:27:53.379493Z",
     "start_time": "2022-12-23T06:27:53.352495Z"
    },
    "datalore": {
     "hide_input_from_viewers": true,
     "hide_output_from_viewers": true,
     "node_id": "iuvHbAKFipHX7QWALfXfTD",
     "type": "CODE"
    }
   },
   "outputs": [
    {
     "name": "stdout",
     "output_type": "stream",
     "text": [
      "P-уровень значимости : 8.195976000324734e-06\n",
      "Нулевая гипотеза отвергнута\n"
     ]
    }
   ],
   "source": [
    "z_value(\n",
    "    # число пользователей группы А, совершивших событие product_page\n",
    "    main_funnel.loc['product_page', 'A'], \n",
    "    # число пользователей группы A, совершивших событие login\n",
    "    main_funnel.loc['login', 'A'], \n",
    "    # число пользователей группы B, совершивших событие product_page\n",
    "    main_funnel.loc['product_page', 'B'], \n",
    "    # число пользователей группы B, совершивших событие login\n",
    "    main_funnel.loc['login', 'B'],\n",
    "    # задаю пороговый уровень статистической значимости\n",
    "    alpha=0.05\n",
    ")"
   ]
  },
  {
   "cell_type": "markdown",
   "metadata": {
    "datalore": {
     "hide_input_from_viewers": true,
     "hide_output_from_viewers": true,
     "node_id": "d1Bh1E09Cd8mLO8GZtFMwP",
     "type": "MD"
    }
   },
   "source": [
    "Результаты статистического теста дают нам основания сказать, что у группы В конверсия в просмотры карточек хуже."
   ]
  },
  {
   "cell_type": "markdown",
   "metadata": {
    "datalore": {
     "hide_input_from_viewers": true,
     "hide_output_from_viewers": true,
     "node_id": "BzGZNYSGTWyfGfWcGx952I",
     "type": "MD"
    }
   },
   "source": [
    "2. Проверяю конверсию в просмотр корзины:\n",
    "- `H 0` : пропорции пользователей групп А и В, которые совершили действие `product_cart`, **равны**;\n",
    "- `H A` : пропорции групп **отличаются**."
   ]
  },
  {
   "cell_type": "code",
   "execution_count": 161,
   "metadata": {
    "ExecuteTime": {
     "end_time": "2022-12-23T06:27:53.410495Z",
     "start_time": "2022-12-23T06:27:53.388495Z"
    },
    "datalore": {
     "hide_input_from_viewers": true,
     "hide_output_from_viewers": true,
     "node_id": "KlC7f6mI8LYaFV1FbwN2Z4",
     "type": "CODE"
    }
   },
   "outputs": [
    {
     "name": "stdout",
     "output_type": "stream",
     "text": [
      "P-уровень значимости : 0.2215941567364419\n",
      "Нет оснований отвергнуть нулевую гипотезу\n"
     ]
    }
   ],
   "source": [
    "z_value(\n",
    "    # число пользователей группы А, совершивших событие product_page\n",
    "    main_funnel.loc['product_cart', 'A'], \n",
    "    # число пользователей группы A, совершивших событие login\n",
    "    main_funnel.loc['login', 'A'], \n",
    "    # число пользователей группы B, совершивших событие product_page\n",
    "    main_funnel.loc['product_cart', 'B'], \n",
    "    # число пользователей группы B, совершивших событие login\n",
    "    main_funnel.loc['login', 'B'],\n",
    "    # задаю пороговый уровень статистической значимости\n",
    "    alpha=0.05\n",
    ")"
   ]
  },
  {
   "cell_type": "markdown",
   "metadata": {
    "datalore": {
     "hide_input_from_viewers": true,
     "hide_output_from_viewers": true,
     "node_id": "gTuWw2rIdMmX41WdlR3IAU",
     "type": "MD"
    }
   },
   "source": [
    "Z-критерий показал, что различия в конверсиях статистически не существенны."
   ]
  },
  {
   "cell_type": "markdown",
   "metadata": {
    "datalore": {
     "hide_input_from_viewers": true,
     "hide_output_from_viewers": true,
     "node_id": "vRpsGdYv44rpYc3ZiZopmU",
     "type": "MD"
    }
   },
   "source": [
    "3. Проверяю конверсию в покупки:\n",
    "- `H 0` : пропорции пользователей групп А и В, которые совершили действие `purchase`, **равны**;\n",
    "- `H A` : пропорции групп **отличаются**."
   ]
  },
  {
   "cell_type": "code",
   "execution_count": 162,
   "metadata": {
    "ExecuteTime": {
     "end_time": "2022-12-23T06:27:53.442496Z",
     "start_time": "2022-12-23T06:27:53.417496Z"
    },
    "datalore": {
     "hide_input_from_viewers": true,
     "hide_output_from_viewers": true,
     "node_id": "EUvJZ3fQPmuT9B5wsJT3bN",
     "type": "CODE"
    }
   },
   "outputs": [
    {
     "name": "stdout",
     "output_type": "stream",
     "text": [
      "P-уровень значимости : 0.04864766695042433\n",
      "Нулевая гипотеза отвергнута\n"
     ]
    }
   ],
   "source": [
    "z_value(\n",
    "    # число пользователей группы А, совершивших событие purchase\n",
    "    main_funnel.loc['purchase', 'A'], \n",
    "    # число пользователей группы A, совершивших событие login\n",
    "    main_funnel.loc['login', 'A'], \n",
    "    # число пользователей группы B, совершивших событие purchase\n",
    "    main_funnel.loc['purchase', 'B'], \n",
    "    # число пользователей группы B, совершивших событие login\n",
    "    main_funnel.loc['login', 'B'],\n",
    "    # задаю пороговый уровень статистической значимости\n",
    "    alpha=0.05\n",
    ")"
   ]
  },
  {
   "cell_type": "markdown",
   "metadata": {
    "datalore": {
     "hide_input_from_viewers": true,
     "hide_output_from_viewers": true,
     "node_id": "ZVViAlwYglLgo6FOYaAF7z",
     "type": "MD"
    }
   },
   "source": [
    "Падение конверсии в покупки у группы В статистически значимо, хотя `p-value` приближается к значению `alpha`."
   ]
  },
  {
   "cell_type": "markdown",
   "metadata": {
    "datalore": {
     "hide_input_from_viewers": true,
     "hide_output_from_viewers": true,
     "node_id": "1fjevS8ff5M1QByPgtfaKh",
     "type": "MD"
    }
   },
   "source": [
    "### Вывод"
   ]
  },
  {
   "cell_type": "markdown",
   "metadata": {
    "datalore": {
     "hide_input_from_viewers": true,
     "hide_output_from_viewers": true,
     "node_id": "FVVVCpUpDxrnMNMnwoxQFL",
     "type": "MD"
    }
   },
   "source": [
    "1. До действия `login` дошли только:\n",
    "- 71,7% от общего количества участников или 2604 пользователей из группы *А*;\n",
    "- 32,3% от общего количества участников или 877  пользователей из группы *В*.\n",
    "3. Конверсия в просмотры карточек товаров составила:\n",
    "- группа *А* - 65% (1685 пользователей);\n",
    "- группа *В* - 56% (493 пользователей).\n",
    "\n",
    "***Эта разница статистически значима.***\n",
    "\n",
    "4. Конверсия в просмотры корзины:\n",
    "- группа *А* - 30% (782 пользователей);\n",
    "- группа *В* - 28% (244 пользователей).\n",
    "\n",
    "***Нет оснований утверждать, что эта разница статистически значима.***\n",
    "\n",
    "5. Конверсия в покупки:\n",
    "- группа *А* - 32% (833 пользователей);\n",
    "- группа *В* - 28% (249 пользователей).\n",
    "\n",
    "***Эта разница статистически значима.***"
   ]
  },
  {
   "cell_type": "markdown",
   "metadata": {
    "datalore": {
     "hide_input_from_viewers": true,
     "hide_output_from_viewers": true,
     "node_id": "lfxmD7N8jqo9MTmQ4Vsl2d",
     "type": "MD"
    }
   },
   "source": [
    "Хоть и тесты показали, что ухудшение ключевых метрик в группе *В* статистически значимо, по моему мнению, тест был проведен некорректно по нескольким причинам:\n",
    "- Пересечение с новогодней маркетинговой активностью, которое могло исказить действия пользователей, зарегистрированные после 11 декабря;\n",
    "- Неравномерное разделение участников на контрольную (*А*) и тестовую (*В*) группу;\n",
    "- Почти четверть пользователей, участвовали в еще одном эксперименте по изменению интерфейса, что могло сильно повлиять на прохождение пользователей по воронке."
   ]
  }
 ],
 "metadata": {
  "ExecuteTimeLog": [
   {
    "duration": 14353,
    "start_time": "2022-12-23T17:53:43.601Z"
   },
   {
    "duration": 191,
    "start_time": "2022-12-23T17:53:57.957Z"
   },
   {
    "duration": 0,
    "start_time": "2022-12-23T17:53:58.152Z"
   },
   {
    "duration": 0,
    "start_time": "2022-12-23T17:53:58.153Z"
   },
   {
    "duration": 0,
    "start_time": "2022-12-23T17:53:58.154Z"
   },
   {
    "duration": 0,
    "start_time": "2022-12-23T17:53:58.155Z"
   },
   {
    "duration": 0,
    "start_time": "2022-12-23T17:53:58.156Z"
   },
   {
    "duration": 0,
    "start_time": "2022-12-23T17:53:58.158Z"
   },
   {
    "duration": 0,
    "start_time": "2022-12-23T17:53:58.159Z"
   },
   {
    "duration": 0,
    "start_time": "2022-12-23T17:53:58.160Z"
   },
   {
    "duration": 0,
    "start_time": "2022-12-23T17:53:58.161Z"
   },
   {
    "duration": 0,
    "start_time": "2022-12-23T17:53:58.162Z"
   },
   {
    "duration": 0,
    "start_time": "2022-12-23T17:53:58.163Z"
   },
   {
    "duration": 0,
    "start_time": "2022-12-23T17:53:58.164Z"
   },
   {
    "duration": 0,
    "start_time": "2022-12-23T17:53:58.165Z"
   },
   {
    "duration": 0,
    "start_time": "2022-12-23T17:53:58.166Z"
   },
   {
    "duration": 0,
    "start_time": "2022-12-23T17:53:58.167Z"
   },
   {
    "duration": 0,
    "start_time": "2022-12-23T17:53:58.168Z"
   },
   {
    "duration": 0,
    "start_time": "2022-12-23T17:53:58.169Z"
   },
   {
    "duration": 0,
    "start_time": "2022-12-23T17:53:58.170Z"
   },
   {
    "duration": 0,
    "start_time": "2022-12-23T17:53:58.171Z"
   },
   {
    "duration": 0,
    "start_time": "2022-12-23T17:53:58.172Z"
   },
   {
    "duration": 0,
    "start_time": "2022-12-23T17:53:58.173Z"
   },
   {
    "duration": 0,
    "start_time": "2022-12-23T17:53:58.174Z"
   },
   {
    "duration": 0,
    "start_time": "2022-12-23T17:53:58.175Z"
   },
   {
    "duration": 0,
    "start_time": "2022-12-23T17:53:58.177Z"
   },
   {
    "duration": 0,
    "start_time": "2022-12-23T17:53:58.178Z"
   },
   {
    "duration": 0,
    "start_time": "2022-12-23T17:53:58.179Z"
   },
   {
    "duration": 0,
    "start_time": "2022-12-23T17:53:58.180Z"
   },
   {
    "duration": 0,
    "start_time": "2022-12-23T17:53:58.181Z"
   },
   {
    "duration": 0,
    "start_time": "2022-12-23T17:53:58.182Z"
   },
   {
    "duration": 0,
    "start_time": "2022-12-23T17:53:58.235Z"
   },
   {
    "duration": 0,
    "start_time": "2022-12-23T17:53:58.237Z"
   },
   {
    "duration": 0,
    "start_time": "2022-12-23T17:53:58.238Z"
   },
   {
    "duration": 0,
    "start_time": "2022-12-23T17:53:58.239Z"
   },
   {
    "duration": 0,
    "start_time": "2022-12-23T17:53:58.240Z"
   },
   {
    "duration": 0,
    "start_time": "2022-12-23T17:53:58.241Z"
   },
   {
    "duration": 0,
    "start_time": "2022-12-23T17:53:58.242Z"
   },
   {
    "duration": 0,
    "start_time": "2022-12-23T17:53:58.243Z"
   },
   {
    "duration": 0,
    "start_time": "2022-12-23T17:53:58.244Z"
   },
   {
    "duration": 0,
    "start_time": "2022-12-23T17:53:58.245Z"
   },
   {
    "duration": 0,
    "start_time": "2022-12-23T17:53:58.246Z"
   },
   {
    "duration": 0,
    "start_time": "2022-12-23T17:53:58.247Z"
   },
   {
    "duration": 0,
    "start_time": "2022-12-23T17:53:58.248Z"
   },
   {
    "duration": 0,
    "start_time": "2022-12-23T17:53:58.250Z"
   },
   {
    "duration": 0,
    "start_time": "2022-12-23T17:53:58.251Z"
   },
   {
    "duration": 0,
    "start_time": "2022-12-23T17:53:58.252Z"
   },
   {
    "duration": 0,
    "start_time": "2022-12-23T17:53:58.253Z"
   },
   {
    "duration": 0,
    "start_time": "2022-12-23T17:53:58.254Z"
   },
   {
    "duration": 0,
    "start_time": "2022-12-23T17:53:58.255Z"
   },
   {
    "duration": 0,
    "start_time": "2022-12-23T17:53:58.256Z"
   },
   {
    "duration": 0,
    "start_time": "2022-12-23T17:53:58.257Z"
   },
   {
    "duration": 0,
    "start_time": "2022-12-23T17:53:58.258Z"
   },
   {
    "duration": 0,
    "start_time": "2022-12-23T17:53:58.259Z"
   },
   {
    "duration": 0,
    "start_time": "2022-12-23T17:53:58.260Z"
   },
   {
    "duration": 0,
    "start_time": "2022-12-23T17:53:58.261Z"
   },
   {
    "duration": 0,
    "start_time": "2022-12-23T17:53:58.262Z"
   },
   {
    "duration": 0,
    "start_time": "2022-12-23T17:53:58.263Z"
   },
   {
    "duration": 0,
    "start_time": "2022-12-23T17:53:58.264Z"
   },
   {
    "duration": 0,
    "start_time": "2022-12-23T17:53:58.265Z"
   },
   {
    "duration": 0,
    "start_time": "2022-12-23T17:53:58.266Z"
   },
   {
    "duration": 0,
    "start_time": "2022-12-23T17:53:58.267Z"
   },
   {
    "duration": 0,
    "start_time": "2022-12-23T17:53:58.268Z"
   },
   {
    "duration": 0,
    "start_time": "2022-12-23T17:53:58.269Z"
   },
   {
    "duration": 0,
    "start_time": "2022-12-23T17:53:58.270Z"
   },
   {
    "duration": 0,
    "start_time": "2022-12-23T17:53:58.271Z"
   },
   {
    "duration": 0,
    "start_time": "2022-12-23T17:53:58.272Z"
   },
   {
    "duration": 0,
    "start_time": "2022-12-23T17:53:58.335Z"
   },
   {
    "duration": 0,
    "start_time": "2022-12-23T17:53:58.336Z"
   },
   {
    "duration": 0,
    "start_time": "2022-12-23T17:53:58.337Z"
   },
   {
    "duration": 0,
    "start_time": "2022-12-23T17:53:58.339Z"
   },
   {
    "duration": 0,
    "start_time": "2022-12-23T17:53:58.340Z"
   },
   {
    "duration": 0,
    "start_time": "2022-12-23T17:53:58.341Z"
   },
   {
    "duration": 0,
    "start_time": "2022-12-23T17:53:58.342Z"
   },
   {
    "duration": 647,
    "start_time": "2022-12-23T17:54:36.616Z"
   },
   {
    "duration": 62,
    "start_time": "2022-12-23T17:54:42.866Z"
   },
   {
    "duration": 83,
    "start_time": "2022-12-23T17:54:47.140Z"
   },
   {
    "duration": 6148,
    "start_time": "2022-12-23T17:55:03.353Z"
   },
   {
    "duration": 491,
    "start_time": "2022-12-23T17:55:09.503Z"
   },
   {
    "duration": 17,
    "start_time": "2022-12-23T17:55:09.995Z"
   },
   {
    "duration": 76,
    "start_time": "2022-12-23T17:55:10.014Z"
   },
   {
    "duration": 60,
    "start_time": "2022-12-23T17:55:10.093Z"
   },
   {
    "duration": 53,
    "start_time": "2022-12-23T17:55:10.155Z"
   },
   {
    "duration": 27,
    "start_time": "2022-12-23T17:55:10.210Z"
   },
   {
    "duration": 264,
    "start_time": "2022-12-23T17:55:10.238Z"
   },
   {
    "duration": 24,
    "start_time": "2022-12-23T17:55:10.503Z"
   },
   {
    "duration": 592,
    "start_time": "2022-12-23T17:55:10.534Z"
   },
   {
    "duration": 278,
    "start_time": "2022-12-23T17:55:11.127Z"
   },
   {
    "duration": 28,
    "start_time": "2022-12-23T17:55:11.406Z"
   },
   {
    "duration": 7,
    "start_time": "2022-12-23T17:55:11.435Z"
   },
   {
    "duration": 16,
    "start_time": "2022-12-23T17:55:11.445Z"
   },
   {
    "duration": 9,
    "start_time": "2022-12-23T17:55:11.463Z"
   },
   {
    "duration": 6,
    "start_time": "2022-12-23T17:55:11.474Z"
   },
   {
    "duration": 9,
    "start_time": "2022-12-23T17:55:11.482Z"
   },
   {
    "duration": 172,
    "start_time": "2022-12-23T17:55:11.492Z"
   },
   {
    "duration": 8,
    "start_time": "2022-12-23T17:55:11.665Z"
   },
   {
    "duration": 22,
    "start_time": "2022-12-23T17:55:11.675Z"
   },
   {
    "duration": 21,
    "start_time": "2022-12-23T17:55:11.698Z"
   },
   {
    "duration": 32,
    "start_time": "2022-12-23T17:55:11.721Z"
   },
   {
    "duration": 18,
    "start_time": "2022-12-23T17:55:11.755Z"
   },
   {
    "duration": 30,
    "start_time": "2022-12-23T17:55:11.774Z"
   },
   {
    "duration": 29,
    "start_time": "2022-12-23T17:55:11.805Z"
   },
   {
    "duration": 21,
    "start_time": "2022-12-23T17:55:11.835Z"
   },
   {
    "duration": 15,
    "start_time": "2022-12-23T17:55:11.858Z"
   },
   {
    "duration": 9,
    "start_time": "2022-12-23T17:55:11.874Z"
   },
   {
    "duration": 14,
    "start_time": "2022-12-23T17:55:11.884Z"
   },
   {
    "duration": 336,
    "start_time": "2022-12-23T17:55:11.900Z"
   },
   {
    "duration": 69,
    "start_time": "2022-12-23T17:55:12.238Z"
   },
   {
    "duration": 8,
    "start_time": "2022-12-23T17:55:12.309Z"
   },
   {
    "duration": 18,
    "start_time": "2022-12-23T17:55:12.318Z"
   },
   {
    "duration": 9,
    "start_time": "2022-12-23T17:55:12.338Z"
   },
   {
    "duration": 15,
    "start_time": "2022-12-23T17:55:12.349Z"
   },
   {
    "duration": 24,
    "start_time": "2022-12-23T17:55:12.366Z"
   },
   {
    "duration": 25,
    "start_time": "2022-12-23T17:55:12.392Z"
   },
   {
    "duration": 20,
    "start_time": "2022-12-23T17:55:12.420Z"
   },
   {
    "duration": 26,
    "start_time": "2022-12-23T17:55:12.442Z"
   },
   {
    "duration": 25,
    "start_time": "2022-12-23T17:55:12.469Z"
   },
   {
    "duration": 16,
    "start_time": "2022-12-23T17:55:12.500Z"
   },
   {
    "duration": 52,
    "start_time": "2022-12-23T17:55:12.517Z"
   },
   {
    "duration": 126,
    "start_time": "2022-12-23T17:55:12.572Z"
   },
   {
    "duration": 35,
    "start_time": "2022-12-23T17:55:12.700Z"
   },
   {
    "duration": 13,
    "start_time": "2022-12-23T17:55:12.737Z"
   },
   {
    "duration": 18,
    "start_time": "2022-12-23T17:55:12.751Z"
   },
   {
    "duration": 408,
    "start_time": "2022-12-23T17:55:12.770Z"
   },
   {
    "duration": 34,
    "start_time": "2022-12-23T17:55:13.180Z"
   },
   {
    "duration": 25,
    "start_time": "2022-12-23T17:55:13.216Z"
   },
   {
    "duration": 450,
    "start_time": "2022-12-23T17:55:13.242Z"
   },
   {
    "duration": 3,
    "start_time": "2022-12-23T17:55:13.694Z"
   },
   {
    "duration": 618,
    "start_time": "2022-12-23T17:55:13.699Z"
   },
   {
    "duration": 11,
    "start_time": "2022-12-23T17:55:14.319Z"
   },
   {
    "duration": 272,
    "start_time": "2022-12-23T17:55:14.334Z"
   },
   {
    "duration": 37,
    "start_time": "2022-12-23T17:55:14.607Z"
   },
   {
    "duration": 25,
    "start_time": "2022-12-23T17:55:14.646Z"
   },
   {
    "duration": 291,
    "start_time": "2022-12-23T17:55:14.673Z"
   },
   {
    "duration": 271,
    "start_time": "2022-12-23T17:55:14.966Z"
   },
   {
    "duration": 401,
    "start_time": "2022-12-23T17:55:15.239Z"
   },
   {
    "duration": 1385,
    "start_time": "2022-12-23T17:55:15.642Z"
   },
   {
    "duration": 1160,
    "start_time": "2022-12-23T17:55:17.029Z"
   },
   {
    "duration": 1566,
    "start_time": "2022-12-23T17:55:18.191Z"
   },
   {
    "duration": 1427,
    "start_time": "2022-12-23T17:55:19.758Z"
   },
   {
    "duration": 96,
    "start_time": "2022-12-23T17:55:21.187Z"
   },
   {
    "duration": 1660,
    "start_time": "2022-12-23T17:55:21.284Z"
   },
   {
    "duration": 13,
    "start_time": "2022-12-23T17:55:22.946Z"
   },
   {
    "duration": 26,
    "start_time": "2022-12-23T17:55:22.961Z"
   },
   {
    "duration": 46,
    "start_time": "2022-12-23T17:55:22.989Z"
   },
   {
    "duration": 21,
    "start_time": "2022-12-23T17:55:23.037Z"
   },
   {
    "duration": 13,
    "start_time": "2022-12-23T17:55:23.059Z"
   },
   {
    "duration": 20,
    "start_time": "2022-12-23T17:55:23.073Z"
   },
   {
    "duration": 17,
    "start_time": "2022-12-23T17:55:23.094Z"
   },
   {
    "duration": 16,
    "start_time": "2022-12-23T17:55:23.113Z"
   },
   {
    "duration": 24,
    "start_time": "2022-12-23T17:55:23.131Z"
   },
   {
    "duration": 9,
    "start_time": "2022-12-23T18:23:00.809Z"
   },
   {
    "duration": 16,
    "start_time": "2022-12-23T18:23:50.027Z"
   },
   {
    "duration": 12,
    "start_time": "2022-12-23T18:23:53.765Z"
   },
   {
    "duration": 75,
    "start_time": "2022-12-23T18:26:48.114Z"
   },
   {
    "duration": 41,
    "start_time": "2022-12-23T18:26:57.514Z"
   },
   {
    "duration": 42,
    "start_time": "2022-12-23T18:27:21.669Z"
   },
   {
    "duration": 186,
    "start_time": "2022-12-23T18:29:27.430Z"
   },
   {
    "duration": 48,
    "start_time": "2022-12-23T18:29:46.773Z"
   },
   {
    "duration": 11,
    "start_time": "2022-12-23T18:32:30.517Z"
   },
   {
    "duration": 11,
    "start_time": "2022-12-23T18:33:37.926Z"
   },
   {
    "duration": 31,
    "start_time": "2022-12-23T18:33:59.070Z"
   },
   {
    "duration": 69,
    "start_time": "2022-12-23T19:12:50.856Z"
   },
   {
    "duration": 5,
    "start_time": "2022-12-23T19:12:56.358Z"
   },
   {
    "duration": 6,
    "start_time": "2022-12-23T19:12:58.093Z"
   },
   {
    "duration": 5,
    "start_time": "2022-12-23T19:13:01.331Z"
   },
   {
    "duration": 154,
    "start_time": "2022-12-23T19:16:32.393Z"
   },
   {
    "duration": 0,
    "start_time": "2022-12-23T19:16:32.549Z"
   },
   {
    "duration": 0,
    "start_time": "2022-12-23T19:16:32.550Z"
   },
   {
    "duration": 0,
    "start_time": "2022-12-23T19:16:32.552Z"
   },
   {
    "duration": 0,
    "start_time": "2022-12-23T19:16:32.553Z"
   },
   {
    "duration": 0,
    "start_time": "2022-12-23T19:16:32.555Z"
   },
   {
    "duration": 0,
    "start_time": "2022-12-23T19:16:32.557Z"
   },
   {
    "duration": 0,
    "start_time": "2022-12-23T19:16:32.558Z"
   },
   {
    "duration": 0,
    "start_time": "2022-12-23T19:16:32.560Z"
   },
   {
    "duration": 0,
    "start_time": "2022-12-23T19:16:32.561Z"
   },
   {
    "duration": 0,
    "start_time": "2022-12-23T19:16:32.563Z"
   },
   {
    "duration": 0,
    "start_time": "2022-12-23T19:16:32.564Z"
   },
   {
    "duration": 1,
    "start_time": "2022-12-23T19:16:32.565Z"
   },
   {
    "duration": 0,
    "start_time": "2022-12-23T19:16:32.567Z"
   },
   {
    "duration": 0,
    "start_time": "2022-12-23T19:16:32.636Z"
   },
   {
    "duration": 0,
    "start_time": "2022-12-23T19:16:32.637Z"
   },
   {
    "duration": 0,
    "start_time": "2022-12-23T19:16:32.640Z"
   },
   {
    "duration": 0,
    "start_time": "2022-12-23T19:16:32.641Z"
   },
   {
    "duration": 0,
    "start_time": "2022-12-23T19:16:32.643Z"
   },
   {
    "duration": 0,
    "start_time": "2022-12-23T19:16:32.644Z"
   },
   {
    "duration": 0,
    "start_time": "2022-12-23T19:16:32.645Z"
   },
   {
    "duration": 0,
    "start_time": "2022-12-23T19:16:32.647Z"
   },
   {
    "duration": 0,
    "start_time": "2022-12-23T19:16:32.648Z"
   },
   {
    "duration": 0,
    "start_time": "2022-12-23T19:16:32.649Z"
   },
   {
    "duration": 0,
    "start_time": "2022-12-23T19:16:32.650Z"
   },
   {
    "duration": 0,
    "start_time": "2022-12-23T19:16:32.652Z"
   },
   {
    "duration": 0,
    "start_time": "2022-12-23T19:16:32.653Z"
   },
   {
    "duration": 0,
    "start_time": "2022-12-23T19:16:32.654Z"
   },
   {
    "duration": 80,
    "start_time": "2022-12-23T19:16:32.659Z"
   },
   {
    "duration": 0,
    "start_time": "2022-12-23T19:16:32.741Z"
   },
   {
    "duration": 0,
    "start_time": "2022-12-23T19:16:32.742Z"
   },
   {
    "duration": 0,
    "start_time": "2022-12-23T19:16:32.743Z"
   },
   {
    "duration": 0,
    "start_time": "2022-12-23T19:16:32.745Z"
   },
   {
    "duration": 0,
    "start_time": "2022-12-23T19:16:32.746Z"
   },
   {
    "duration": 0,
    "start_time": "2022-12-23T19:16:32.747Z"
   },
   {
    "duration": 0,
    "start_time": "2022-12-23T19:16:32.748Z"
   },
   {
    "duration": 0,
    "start_time": "2022-12-23T19:16:32.749Z"
   },
   {
    "duration": 0,
    "start_time": "2022-12-23T19:16:32.750Z"
   },
   {
    "duration": 0,
    "start_time": "2022-12-23T19:16:32.751Z"
   },
   {
    "duration": 0,
    "start_time": "2022-12-23T19:16:32.752Z"
   },
   {
    "duration": 0,
    "start_time": "2022-12-23T19:16:32.752Z"
   },
   {
    "duration": 0,
    "start_time": "2022-12-23T19:16:32.753Z"
   },
   {
    "duration": 0,
    "start_time": "2022-12-23T19:16:32.754Z"
   },
   {
    "duration": 0,
    "start_time": "2022-12-23T19:16:32.755Z"
   },
   {
    "duration": 0,
    "start_time": "2022-12-23T19:16:32.756Z"
   },
   {
    "duration": 0,
    "start_time": "2022-12-23T19:16:32.757Z"
   },
   {
    "duration": 0,
    "start_time": "2022-12-23T19:16:32.758Z"
   },
   {
    "duration": 0,
    "start_time": "2022-12-23T19:16:32.759Z"
   },
   {
    "duration": 0,
    "start_time": "2022-12-23T19:16:32.760Z"
   },
   {
    "duration": 0,
    "start_time": "2022-12-23T19:16:32.836Z"
   },
   {
    "duration": 0,
    "start_time": "2022-12-23T19:16:32.836Z"
   },
   {
    "duration": 0,
    "start_time": "2022-12-23T19:16:32.837Z"
   },
   {
    "duration": 0,
    "start_time": "2022-12-23T19:16:32.838Z"
   },
   {
    "duration": 0,
    "start_time": "2022-12-23T19:16:32.839Z"
   },
   {
    "duration": 0,
    "start_time": "2022-12-23T19:16:32.840Z"
   },
   {
    "duration": 0,
    "start_time": "2022-12-23T19:16:32.841Z"
   },
   {
    "duration": 0,
    "start_time": "2022-12-23T19:16:32.842Z"
   },
   {
    "duration": 0,
    "start_time": "2022-12-23T19:16:32.843Z"
   },
   {
    "duration": 9,
    "start_time": "2022-12-23T19:16:32.848Z"
   },
   {
    "duration": 0,
    "start_time": "2022-12-23T19:16:32.858Z"
   },
   {
    "duration": 0,
    "start_time": "2022-12-23T19:16:32.859Z"
   },
   {
    "duration": 0,
    "start_time": "2022-12-23T19:16:32.935Z"
   },
   {
    "duration": 0,
    "start_time": "2022-12-23T19:16:32.937Z"
   },
   {
    "duration": 0,
    "start_time": "2022-12-23T19:16:32.938Z"
   },
   {
    "duration": 0,
    "start_time": "2022-12-23T19:16:32.939Z"
   },
   {
    "duration": 0,
    "start_time": "2022-12-23T19:16:32.940Z"
   },
   {
    "duration": 0,
    "start_time": "2022-12-23T19:16:32.941Z"
   },
   {
    "duration": 0,
    "start_time": "2022-12-23T19:16:32.942Z"
   },
   {
    "duration": 0,
    "start_time": "2022-12-23T19:16:32.943Z"
   },
   {
    "duration": 0,
    "start_time": "2022-12-23T19:16:32.943Z"
   },
   {
    "duration": 0,
    "start_time": "2022-12-23T19:16:32.944Z"
   },
   {
    "duration": 0,
    "start_time": "2022-12-23T19:16:32.945Z"
   },
   {
    "duration": 0,
    "start_time": "2022-12-23T19:16:32.947Z"
   },
   {
    "duration": 0,
    "start_time": "2022-12-23T19:16:32.948Z"
   },
   {
    "duration": 0,
    "start_time": "2022-12-23T19:16:32.949Z"
   },
   {
    "duration": 1,
    "start_time": "2022-12-23T19:16:32.950Z"
   },
   {
    "duration": 9265,
    "start_time": "2022-12-23T19:16:59.768Z"
   },
   {
    "duration": 486,
    "start_time": "2022-12-23T19:17:09.035Z"
   },
   {
    "duration": 21,
    "start_time": "2022-12-23T19:17:09.523Z"
   },
   {
    "duration": 67,
    "start_time": "2022-12-23T19:17:09.545Z"
   },
   {
    "duration": 66,
    "start_time": "2022-12-23T19:17:09.615Z"
   },
   {
    "duration": 72,
    "start_time": "2022-12-23T19:17:09.683Z"
   },
   {
    "duration": 11,
    "start_time": "2022-12-23T19:17:09.757Z"
   },
   {
    "duration": 289,
    "start_time": "2022-12-23T19:17:09.769Z"
   },
   {
    "duration": 25,
    "start_time": "2022-12-23T19:17:10.060Z"
   },
   {
    "duration": 624,
    "start_time": "2022-12-23T19:17:10.086Z"
   },
   {
    "duration": 291,
    "start_time": "2022-12-23T19:17:10.712Z"
   },
   {
    "duration": 27,
    "start_time": "2022-12-23T19:17:11.004Z"
   },
   {
    "duration": 8,
    "start_time": "2022-12-23T19:17:11.032Z"
   },
   {
    "duration": 12,
    "start_time": "2022-12-23T19:17:11.043Z"
   },
   {
    "duration": 14,
    "start_time": "2022-12-23T19:17:11.056Z"
   },
   {
    "duration": 13,
    "start_time": "2022-12-23T19:17:11.072Z"
   },
   {
    "duration": 10,
    "start_time": "2022-12-23T19:17:11.087Z"
   },
   {
    "duration": 69,
    "start_time": "2022-12-23T19:17:11.099Z"
   },
   {
    "duration": 9,
    "start_time": "2022-12-23T19:17:11.169Z"
   },
   {
    "duration": 24,
    "start_time": "2022-12-23T19:17:11.180Z"
   },
   {
    "duration": 40,
    "start_time": "2022-12-23T19:17:11.206Z"
   },
   {
    "duration": 36,
    "start_time": "2022-12-23T19:17:11.248Z"
   },
   {
    "duration": 19,
    "start_time": "2022-12-23T19:17:11.285Z"
   },
   {
    "duration": 31,
    "start_time": "2022-12-23T19:17:11.305Z"
   },
   {
    "duration": 19,
    "start_time": "2022-12-23T19:17:11.337Z"
   },
   {
    "duration": 25,
    "start_time": "2022-12-23T19:17:11.358Z"
   },
   {
    "duration": 11,
    "start_time": "2022-12-23T19:17:11.385Z"
   },
   {
    "duration": 10,
    "start_time": "2022-12-23T19:17:11.397Z"
   },
   {
    "duration": 28,
    "start_time": "2022-12-23T19:17:11.408Z"
   },
   {
    "duration": 310,
    "start_time": "2022-12-23T19:17:11.437Z"
   },
   {
    "duration": 26,
    "start_time": "2022-12-23T19:17:11.749Z"
   },
   {
    "duration": 7,
    "start_time": "2022-12-23T19:17:11.776Z"
   },
   {
    "duration": 14,
    "start_time": "2022-12-23T19:17:11.785Z"
   },
   {
    "duration": 7,
    "start_time": "2022-12-23T19:17:11.801Z"
   },
   {
    "duration": 26,
    "start_time": "2022-12-23T19:17:11.810Z"
   },
   {
    "duration": 6,
    "start_time": "2022-12-23T19:17:11.837Z"
   },
   {
    "duration": 23,
    "start_time": "2022-12-23T19:17:11.845Z"
   },
   {
    "duration": 11,
    "start_time": "2022-12-23T19:17:11.870Z"
   },
   {
    "duration": 8,
    "start_time": "2022-12-23T19:17:11.882Z"
   },
   {
    "duration": 11,
    "start_time": "2022-12-23T19:17:11.891Z"
   },
   {
    "duration": 9,
    "start_time": "2022-12-23T19:17:11.906Z"
   },
   {
    "duration": 37,
    "start_time": "2022-12-23T19:17:11.935Z"
   },
   {
    "duration": 100,
    "start_time": "2022-12-23T19:17:11.973Z"
   },
   {
    "duration": 8,
    "start_time": "2022-12-23T19:17:12.075Z"
   },
   {
    "duration": 12,
    "start_time": "2022-12-23T19:17:12.085Z"
   },
   {
    "duration": 16,
    "start_time": "2022-12-23T19:17:12.099Z"
   },
   {
    "duration": 399,
    "start_time": "2022-12-23T19:17:12.117Z"
   },
   {
    "duration": 60,
    "start_time": "2022-12-23T19:17:12.518Z"
   },
   {
    "duration": 14,
    "start_time": "2022-12-23T19:17:12.580Z"
   },
   {
    "duration": 548,
    "start_time": "2022-12-23T19:17:12.596Z"
   },
   {
    "duration": 3,
    "start_time": "2022-12-23T19:17:13.146Z"
   },
   {
    "duration": 611,
    "start_time": "2022-12-23T19:17:13.152Z"
   },
   {
    "duration": 11,
    "start_time": "2022-12-23T19:17:13.766Z"
   },
   {
    "duration": 337,
    "start_time": "2022-12-23T19:17:13.779Z"
   },
   {
    "duration": 34,
    "start_time": "2022-12-23T19:17:14.118Z"
   },
   {
    "duration": 27,
    "start_time": "2022-12-23T19:17:14.153Z"
   },
   {
    "duration": 325,
    "start_time": "2022-12-23T19:17:14.182Z"
   },
   {
    "duration": 303,
    "start_time": "2022-12-23T19:17:14.509Z"
   },
   {
    "duration": 44,
    "start_time": "2022-12-23T19:17:14.814Z"
   },
   {
    "duration": 382,
    "start_time": "2022-12-23T19:17:14.859Z"
   },
   {
    "duration": 1314,
    "start_time": "2022-12-23T19:17:15.242Z"
   },
   {
    "duration": 1237,
    "start_time": "2022-12-23T19:17:16.558Z"
   },
   {
    "duration": 1604,
    "start_time": "2022-12-23T19:17:17.797Z"
   },
   {
    "duration": 1372,
    "start_time": "2022-12-23T19:17:19.403Z"
   },
   {
    "duration": 91,
    "start_time": "2022-12-23T19:17:20.776Z"
   },
   {
    "duration": 1545,
    "start_time": "2022-12-23T19:17:20.869Z"
   },
   {
    "duration": 28,
    "start_time": "2022-12-23T19:17:22.415Z"
   },
   {
    "duration": 16,
    "start_time": "2022-12-23T19:17:22.445Z"
   },
   {
    "duration": 50,
    "start_time": "2022-12-23T19:17:22.463Z"
   },
   {
    "duration": 54,
    "start_time": "2022-12-23T19:17:22.515Z"
   },
   {
    "duration": 15,
    "start_time": "2022-12-23T19:17:22.571Z"
   },
   {
    "duration": 13,
    "start_time": "2022-12-23T19:17:22.588Z"
   },
   {
    "duration": 31,
    "start_time": "2022-12-23T19:17:22.603Z"
   },
   {
    "duration": 12,
    "start_time": "2022-12-23T19:17:22.636Z"
   },
   {
    "duration": 15,
    "start_time": "2022-12-23T19:17:22.649Z"
   },
   {
    "duration": 11558,
    "start_time": "2022-12-24T18:19:59.112Z"
   },
   {
    "duration": 1740,
    "start_time": "2022-12-24T18:20:10.672Z"
   },
   {
    "duration": 15,
    "start_time": "2022-12-24T18:20:12.413Z"
   },
   {
    "duration": 61,
    "start_time": "2022-12-24T18:20:12.430Z"
   },
   {
    "duration": 59,
    "start_time": "2022-12-24T18:20:12.493Z"
   },
   {
    "duration": 58,
    "start_time": "2022-12-24T18:20:12.554Z"
   },
   {
    "duration": 12,
    "start_time": "2022-12-24T18:20:12.613Z"
   },
   {
    "duration": 253,
    "start_time": "2022-12-24T18:20:12.626Z"
   },
   {
    "duration": 27,
    "start_time": "2022-12-24T18:20:12.880Z"
   },
   {
    "duration": 595,
    "start_time": "2022-12-24T18:20:12.909Z"
   },
   {
    "duration": 256,
    "start_time": "2022-12-24T18:20:13.505Z"
   },
   {
    "duration": 60,
    "start_time": "2022-12-24T18:20:13.763Z"
   },
   {
    "duration": 8,
    "start_time": "2022-12-24T18:20:13.824Z"
   },
   {
    "duration": 10,
    "start_time": "2022-12-24T18:20:13.833Z"
   },
   {
    "duration": 6,
    "start_time": "2022-12-24T18:20:13.845Z"
   },
   {
    "duration": 6,
    "start_time": "2022-12-24T18:20:13.852Z"
   },
   {
    "duration": 6,
    "start_time": "2022-12-24T18:20:13.859Z"
   },
   {
    "duration": 199,
    "start_time": "2022-12-24T18:20:13.866Z"
   },
   {
    "duration": 9,
    "start_time": "2022-12-24T18:20:14.067Z"
   },
   {
    "duration": 23,
    "start_time": "2022-12-24T18:20:14.077Z"
   },
   {
    "duration": 13,
    "start_time": "2022-12-24T18:20:14.101Z"
   },
   {
    "duration": 41,
    "start_time": "2022-12-24T18:20:14.116Z"
   },
   {
    "duration": 21,
    "start_time": "2022-12-24T18:20:14.158Z"
   },
   {
    "duration": 27,
    "start_time": "2022-12-24T18:20:14.181Z"
   },
   {
    "duration": 17,
    "start_time": "2022-12-24T18:20:14.209Z"
   },
   {
    "duration": 16,
    "start_time": "2022-12-24T18:20:14.228Z"
   },
   {
    "duration": 9,
    "start_time": "2022-12-24T18:20:14.245Z"
   },
   {
    "duration": 6,
    "start_time": "2022-12-24T18:20:14.259Z"
   },
   {
    "duration": 8,
    "start_time": "2022-12-24T18:20:14.267Z"
   },
   {
    "duration": 334,
    "start_time": "2022-12-24T18:20:14.277Z"
   },
   {
    "duration": 129,
    "start_time": "2022-12-24T18:20:14.613Z"
   },
   {
    "duration": 8,
    "start_time": "2022-12-24T18:20:14.743Z"
   },
   {
    "duration": 11,
    "start_time": "2022-12-24T18:20:14.752Z"
   },
   {
    "duration": 7,
    "start_time": "2022-12-24T18:20:14.765Z"
   },
   {
    "duration": 11,
    "start_time": "2022-12-24T18:20:14.774Z"
   },
   {
    "duration": 5,
    "start_time": "2022-12-24T18:20:14.786Z"
   },
   {
    "duration": 12,
    "start_time": "2022-12-24T18:20:14.792Z"
   },
   {
    "duration": 9,
    "start_time": "2022-12-24T18:20:14.805Z"
   },
   {
    "duration": 6,
    "start_time": "2022-12-24T18:20:14.815Z"
   },
   {
    "duration": 6,
    "start_time": "2022-12-24T18:20:14.822Z"
   },
   {
    "duration": 8,
    "start_time": "2022-12-24T18:20:14.829Z"
   },
   {
    "duration": 35,
    "start_time": "2022-12-24T18:20:14.839Z"
   },
   {
    "duration": 106,
    "start_time": "2022-12-24T18:20:14.876Z"
   },
   {
    "duration": 9,
    "start_time": "2022-12-24T18:20:14.984Z"
   },
   {
    "duration": 10,
    "start_time": "2022-12-24T18:20:15.004Z"
   },
   {
    "duration": 19,
    "start_time": "2022-12-24T18:20:15.016Z"
   },
   {
    "duration": 358,
    "start_time": "2022-12-24T18:20:15.037Z"
   },
   {
    "duration": 34,
    "start_time": "2022-12-24T18:20:15.405Z"
   },
   {
    "duration": 6,
    "start_time": "2022-12-24T18:20:15.441Z"
   },
   {
    "duration": 405,
    "start_time": "2022-12-24T18:20:15.449Z"
   },
   {
    "duration": 4,
    "start_time": "2022-12-24T18:20:15.856Z"
   },
   {
    "duration": 436,
    "start_time": "2022-12-24T18:20:15.861Z"
   },
   {
    "duration": 10,
    "start_time": "2022-12-24T18:20:16.299Z"
   },
   {
    "duration": 261,
    "start_time": "2022-12-24T18:20:16.311Z"
   },
   {
    "duration": 35,
    "start_time": "2022-12-24T18:20:16.574Z"
   },
   {
    "duration": 22,
    "start_time": "2022-12-24T18:20:16.610Z"
   },
   {
    "duration": 280,
    "start_time": "2022-12-24T18:20:16.634Z"
   },
   {
    "duration": 274,
    "start_time": "2022-12-24T18:20:16.916Z"
   },
   {
    "duration": 39,
    "start_time": "2022-12-24T18:20:17.192Z"
   },
   {
    "duration": 402,
    "start_time": "2022-12-24T18:20:17.233Z"
   },
   {
    "duration": 1380,
    "start_time": "2022-12-24T18:20:17.636Z"
   },
   {
    "duration": 992,
    "start_time": "2022-12-24T18:20:19.017Z"
   },
   {
    "duration": 1495,
    "start_time": "2022-12-24T18:20:20.010Z"
   },
   {
    "duration": 1208,
    "start_time": "2022-12-24T18:20:21.507Z"
   },
   {
    "duration": 88,
    "start_time": "2022-12-24T18:20:22.716Z"
   },
   {
    "duration": 1395,
    "start_time": "2022-12-24T18:20:22.806Z"
   },
   {
    "duration": 15,
    "start_time": "2022-12-24T18:20:24.204Z"
   },
   {
    "duration": 12,
    "start_time": "2022-12-24T18:20:24.220Z"
   },
   {
    "duration": 33,
    "start_time": "2022-12-24T18:20:24.234Z"
   },
   {
    "duration": 42,
    "start_time": "2022-12-24T18:20:24.269Z"
   },
   {
    "duration": 10,
    "start_time": "2022-12-24T18:20:24.314Z"
   },
   {
    "duration": 6,
    "start_time": "2022-12-24T18:20:24.325Z"
   },
   {
    "duration": 8,
    "start_time": "2022-12-24T18:20:24.333Z"
   },
   {
    "duration": 6,
    "start_time": "2022-12-24T18:20:24.342Z"
   },
   {
    "duration": 8,
    "start_time": "2022-12-24T18:20:24.349Z"
   },
   {
    "duration": 34898,
    "start_time": "2022-12-24T18:22:18.545Z"
   },
   {
    "duration": 123,
    "start_time": "2022-12-24T18:25:09.249Z"
   },
   {
    "duration": 1221,
    "start_time": "2022-12-24T18:26:58.948Z"
   },
   {
    "duration": 4,
    "start_time": "2022-12-24T18:27:08.407Z"
   },
   {
    "duration": 134,
    "start_time": "2022-12-24T18:29:10.749Z"
   },
   {
    "duration": 155,
    "start_time": "2022-12-24T18:31:16.559Z"
   },
   {
    "duration": 610,
    "start_time": "2022-12-24T18:32:57.827Z"
   },
   {
    "duration": 734,
    "start_time": "2022-12-24T18:33:13.763Z"
   },
   {
    "duration": 2463,
    "start_time": "2022-12-24T18:34:25.471Z"
   },
   {
    "duration": 1563,
    "start_time": "2022-12-24T18:34:41.975Z"
   },
   {
    "duration": 2127,
    "start_time": "2022-12-24T18:34:53.079Z"
   },
   {
    "duration": 358,
    "start_time": "2022-12-24T18:37:24.279Z"
   },
   {
    "duration": 586,
    "start_time": "2022-12-24T18:38:15.006Z"
   },
   {
    "duration": 2,
    "start_time": "2022-12-24T18:39:14.571Z"
   },
   {
    "duration": 2073,
    "start_time": "2022-12-24T18:39:15.987Z"
   },
   {
    "duration": 286,
    "start_time": "2022-12-24T18:46:48.322Z"
   },
   {
    "duration": 601,
    "start_time": "2022-12-24T18:47:04.106Z"
   },
   {
    "duration": 627,
    "start_time": "2022-12-24T18:47:27.890Z"
   },
   {
    "duration": 4880,
    "start_time": "2022-12-24T18:59:28.926Z"
   },
   {
    "duration": 417,
    "start_time": "2022-12-24T18:59:33.808Z"
   },
   {
    "duration": 9,
    "start_time": "2022-12-24T18:59:34.227Z"
   },
   {
    "duration": 69,
    "start_time": "2022-12-24T18:59:34.238Z"
   },
   {
    "duration": 51,
    "start_time": "2022-12-24T18:59:34.308Z"
   },
   {
    "duration": 59,
    "start_time": "2022-12-24T18:59:34.361Z"
   },
   {
    "duration": 12,
    "start_time": "2022-12-24T18:59:34.422Z"
   },
   {
    "duration": 251,
    "start_time": "2022-12-24T18:59:34.436Z"
   },
   {
    "duration": 26,
    "start_time": "2022-12-24T18:59:34.689Z"
   },
   {
    "duration": 2202,
    "start_time": "2022-12-24T18:59:34.717Z"
   },
   {
    "duration": 249,
    "start_time": "2022-12-24T18:59:36.921Z"
   },
   {
    "duration": 24,
    "start_time": "2022-12-24T18:59:37.172Z"
   },
   {
    "duration": 8,
    "start_time": "2022-12-24T18:59:37.197Z"
   },
   {
    "duration": 16,
    "start_time": "2022-12-24T18:59:37.206Z"
   },
   {
    "duration": 6,
    "start_time": "2022-12-24T18:59:37.224Z"
   },
   {
    "duration": 12,
    "start_time": "2022-12-24T18:59:37.231Z"
   },
   {
    "duration": 24,
    "start_time": "2022-12-24T18:59:37.245Z"
   },
   {
    "duration": 87,
    "start_time": "2022-12-24T18:59:37.270Z"
   },
   {
    "duration": 9,
    "start_time": "2022-12-24T18:59:37.359Z"
   },
   {
    "duration": 50,
    "start_time": "2022-12-24T18:59:37.370Z"
   },
   {
    "duration": 34,
    "start_time": "2022-12-24T18:59:37.422Z"
   },
   {
    "duration": 53,
    "start_time": "2022-12-24T18:59:37.458Z"
   },
   {
    "duration": 29,
    "start_time": "2022-12-24T18:59:37.513Z"
   },
   {
    "duration": 27,
    "start_time": "2022-12-24T18:59:37.543Z"
   },
   {
    "duration": 50,
    "start_time": "2022-12-24T18:59:37.571Z"
   },
   {
    "duration": 22,
    "start_time": "2022-12-24T18:59:37.622Z"
   },
   {
    "duration": 19,
    "start_time": "2022-12-24T18:59:37.646Z"
   },
   {
    "duration": 20,
    "start_time": "2022-12-24T18:59:37.669Z"
   },
   {
    "duration": 9,
    "start_time": "2022-12-24T18:59:37.690Z"
   },
   {
    "duration": 52,
    "start_time": "2022-12-24T18:59:37.700Z"
   },
   {
    "duration": 0,
    "start_time": "2022-12-24T18:59:37.753Z"
   },
   {
    "duration": 0,
    "start_time": "2022-12-24T18:59:37.754Z"
   },
   {
    "duration": 0,
    "start_time": "2022-12-24T18:59:37.755Z"
   },
   {
    "duration": 0,
    "start_time": "2022-12-24T18:59:37.756Z"
   },
   {
    "duration": 0,
    "start_time": "2022-12-24T18:59:37.757Z"
   },
   {
    "duration": 0,
    "start_time": "2022-12-24T18:59:37.758Z"
   },
   {
    "duration": 0,
    "start_time": "2022-12-24T18:59:37.759Z"
   },
   {
    "duration": 0,
    "start_time": "2022-12-24T18:59:37.761Z"
   },
   {
    "duration": 0,
    "start_time": "2022-12-24T18:59:37.761Z"
   },
   {
    "duration": 0,
    "start_time": "2022-12-24T18:59:37.762Z"
   },
   {
    "duration": 0,
    "start_time": "2022-12-24T18:59:37.764Z"
   },
   {
    "duration": 0,
    "start_time": "2022-12-24T18:59:37.765Z"
   },
   {
    "duration": 0,
    "start_time": "2022-12-24T18:59:37.765Z"
   },
   {
    "duration": 0,
    "start_time": "2022-12-24T18:59:37.766Z"
   },
   {
    "duration": 0,
    "start_time": "2022-12-24T18:59:37.767Z"
   },
   {
    "duration": 0,
    "start_time": "2022-12-24T18:59:37.768Z"
   },
   {
    "duration": 0,
    "start_time": "2022-12-24T18:59:37.769Z"
   },
   {
    "duration": 0,
    "start_time": "2022-12-24T18:59:37.770Z"
   },
   {
    "duration": 0,
    "start_time": "2022-12-24T18:59:37.772Z"
   },
   {
    "duration": 0,
    "start_time": "2022-12-24T18:59:37.773Z"
   },
   {
    "duration": 0,
    "start_time": "2022-12-24T18:59:37.774Z"
   },
   {
    "duration": 0,
    "start_time": "2022-12-24T18:59:37.775Z"
   },
   {
    "duration": 0,
    "start_time": "2022-12-24T18:59:37.776Z"
   },
   {
    "duration": 0,
    "start_time": "2022-12-24T18:59:37.805Z"
   },
   {
    "duration": 0,
    "start_time": "2022-12-24T18:59:37.806Z"
   },
   {
    "duration": 0,
    "start_time": "2022-12-24T18:59:37.807Z"
   },
   {
    "duration": 0,
    "start_time": "2022-12-24T18:59:37.808Z"
   },
   {
    "duration": 0,
    "start_time": "2022-12-24T18:59:37.809Z"
   },
   {
    "duration": 0,
    "start_time": "2022-12-24T18:59:37.809Z"
   },
   {
    "duration": 0,
    "start_time": "2022-12-24T18:59:37.811Z"
   },
   {
    "duration": 0,
    "start_time": "2022-12-24T18:59:37.812Z"
   },
   {
    "duration": 0,
    "start_time": "2022-12-24T18:59:37.813Z"
   },
   {
    "duration": 0,
    "start_time": "2022-12-24T18:59:37.814Z"
   },
   {
    "duration": 0,
    "start_time": "2022-12-24T18:59:37.815Z"
   },
   {
    "duration": 0,
    "start_time": "2022-12-24T18:59:37.816Z"
   },
   {
    "duration": 0,
    "start_time": "2022-12-24T18:59:37.817Z"
   },
   {
    "duration": 0,
    "start_time": "2022-12-24T18:59:37.818Z"
   },
   {
    "duration": 0,
    "start_time": "2022-12-24T18:59:37.818Z"
   },
   {
    "duration": 0,
    "start_time": "2022-12-24T18:59:37.819Z"
   },
   {
    "duration": 0,
    "start_time": "2022-12-24T18:59:37.821Z"
   },
   {
    "duration": 0,
    "start_time": "2022-12-24T18:59:37.821Z"
   },
   {
    "duration": 0,
    "start_time": "2022-12-24T18:59:37.822Z"
   },
   {
    "duration": 0,
    "start_time": "2022-12-24T18:59:37.823Z"
   },
   {
    "duration": 0,
    "start_time": "2022-12-24T18:59:37.824Z"
   },
   {
    "duration": 0,
    "start_time": "2022-12-24T18:59:37.825Z"
   },
   {
    "duration": 628,
    "start_time": "2022-12-24T19:00:56.481Z"
   },
   {
    "duration": 11182,
    "start_time": "2022-12-24T20:20:33.142Z"
   },
   {
    "duration": 596,
    "start_time": "2022-12-24T20:20:44.326Z"
   },
   {
    "duration": 18,
    "start_time": "2022-12-24T20:20:44.923Z"
   },
   {
    "duration": 72,
    "start_time": "2022-12-24T20:20:44.943Z"
   },
   {
    "duration": 55,
    "start_time": "2022-12-24T20:20:45.017Z"
   },
   {
    "duration": 74,
    "start_time": "2022-12-24T20:20:45.073Z"
   },
   {
    "duration": 12,
    "start_time": "2022-12-24T20:20:45.148Z"
   },
   {
    "duration": 271,
    "start_time": "2022-12-24T20:20:45.161Z"
   },
   {
    "duration": 29,
    "start_time": "2022-12-24T20:20:45.433Z"
   },
   {
    "duration": 2283,
    "start_time": "2022-12-24T20:20:45.465Z"
   },
   {
    "duration": 269,
    "start_time": "2022-12-24T20:20:47.750Z"
   },
   {
    "duration": 77,
    "start_time": "2022-12-24T20:20:48.020Z"
   },
   {
    "duration": 11,
    "start_time": "2022-12-24T20:20:48.099Z"
   },
   {
    "duration": 11,
    "start_time": "2022-12-24T20:20:48.112Z"
   },
   {
    "duration": 10,
    "start_time": "2022-12-24T20:20:48.125Z"
   },
   {
    "duration": 12,
    "start_time": "2022-12-24T20:20:48.137Z"
   },
   {
    "duration": 7,
    "start_time": "2022-12-24T20:20:48.151Z"
   },
   {
    "duration": 179,
    "start_time": "2022-12-24T20:20:48.160Z"
   },
   {
    "duration": 8,
    "start_time": "2022-12-24T20:20:48.341Z"
   },
   {
    "duration": 688,
    "start_time": "2022-12-24T20:20:48.351Z"
   },
   {
    "duration": 165,
    "start_time": "2022-12-24T20:20:49.040Z"
   },
   {
    "duration": 38,
    "start_time": "2022-12-24T20:20:49.208Z"
   },
   {
    "duration": 20,
    "start_time": "2022-12-24T20:20:49.248Z"
   },
   {
    "duration": 22,
    "start_time": "2022-12-24T20:20:49.269Z"
   },
   {
    "duration": 40,
    "start_time": "2022-12-24T20:20:49.293Z"
   },
   {
    "duration": 17,
    "start_time": "2022-12-24T20:20:49.335Z"
   },
   {
    "duration": 8,
    "start_time": "2022-12-24T20:20:49.354Z"
   },
   {
    "duration": 7,
    "start_time": "2022-12-24T20:20:49.366Z"
   },
   {
    "duration": 11,
    "start_time": "2022-12-24T20:20:49.375Z"
   },
   {
    "duration": 628,
    "start_time": "2022-12-24T20:20:49.388Z"
   },
   {
    "duration": 70,
    "start_time": "2022-12-24T20:20:50.017Z"
   },
   {
    "duration": 7,
    "start_time": "2022-12-24T20:20:50.089Z"
   },
   {
    "duration": 15,
    "start_time": "2022-12-24T20:20:50.098Z"
   },
   {
    "duration": 12,
    "start_time": "2022-12-24T20:20:50.115Z"
   },
   {
    "duration": 18,
    "start_time": "2022-12-24T20:20:50.129Z"
   },
   {
    "duration": 7,
    "start_time": "2022-12-24T20:20:50.149Z"
   },
   {
    "duration": 12,
    "start_time": "2022-12-24T20:20:50.157Z"
   },
   {
    "duration": 11,
    "start_time": "2022-12-24T20:20:50.170Z"
   },
   {
    "duration": 22,
    "start_time": "2022-12-24T20:20:50.183Z"
   },
   {
    "duration": 9,
    "start_time": "2022-12-24T20:20:50.207Z"
   },
   {
    "duration": 11,
    "start_time": "2022-12-24T20:20:50.217Z"
   },
   {
    "duration": 36,
    "start_time": "2022-12-24T20:20:50.230Z"
   },
   {
    "duration": 95,
    "start_time": "2022-12-24T20:20:50.268Z"
   },
   {
    "duration": 13,
    "start_time": "2022-12-24T20:20:50.365Z"
   },
   {
    "duration": 11,
    "start_time": "2022-12-24T20:20:50.380Z"
   },
   {
    "duration": 29,
    "start_time": "2022-12-24T20:20:50.393Z"
   },
   {
    "duration": 433,
    "start_time": "2022-12-24T20:20:50.423Z"
   },
   {
    "duration": 35,
    "start_time": "2022-12-24T20:20:50.858Z"
   },
   {
    "duration": 12,
    "start_time": "2022-12-24T20:20:50.895Z"
   },
   {
    "duration": 451,
    "start_time": "2022-12-24T20:20:50.908Z"
   },
   {
    "duration": 3,
    "start_time": "2022-12-24T20:20:51.361Z"
   },
   {
    "duration": 468,
    "start_time": "2022-12-24T20:20:51.366Z"
   },
   {
    "duration": 9,
    "start_time": "2022-12-24T20:20:51.835Z"
   },
   {
    "duration": 342,
    "start_time": "2022-12-24T20:20:51.846Z"
   },
   {
    "duration": 40,
    "start_time": "2022-12-24T20:20:52.190Z"
   },
   {
    "duration": 25,
    "start_time": "2022-12-24T20:20:52.231Z"
   },
   {
    "duration": 308,
    "start_time": "2022-12-24T20:20:52.258Z"
   },
   {
    "duration": 349,
    "start_time": "2022-12-24T20:20:52.568Z"
   },
   {
    "duration": 34,
    "start_time": "2022-12-24T20:20:52.919Z"
   },
   {
    "duration": 396,
    "start_time": "2022-12-24T20:20:52.955Z"
   },
   {
    "duration": 1426,
    "start_time": "2022-12-24T20:20:53.353Z"
   },
   {
    "duration": 1075,
    "start_time": "2022-12-24T20:20:54.781Z"
   },
   {
    "duration": 1666,
    "start_time": "2022-12-24T20:20:55.857Z"
   },
   {
    "duration": 1407,
    "start_time": "2022-12-24T20:20:57.525Z"
   },
   {
    "duration": 130,
    "start_time": "2022-12-24T20:20:58.935Z"
   },
   {
    "duration": 2182,
    "start_time": "2022-12-24T20:20:59.066Z"
   },
   {
    "duration": 69,
    "start_time": "2022-12-24T20:21:01.249Z"
   },
   {
    "duration": 15,
    "start_time": "2022-12-24T20:21:01.320Z"
   },
   {
    "duration": 111,
    "start_time": "2022-12-24T20:21:01.337Z"
   },
   {
    "duration": 83,
    "start_time": "2022-12-24T20:21:01.449Z"
   },
   {
    "duration": 20,
    "start_time": "2022-12-24T20:21:01.533Z"
   },
   {
    "duration": 69,
    "start_time": "2022-12-24T20:21:01.554Z"
   },
   {
    "duration": 45,
    "start_time": "2022-12-24T20:21:01.626Z"
   },
   {
    "duration": 17,
    "start_time": "2022-12-24T20:21:01.673Z"
   },
   {
    "duration": 15,
    "start_time": "2022-12-24T20:21:01.716Z"
   },
   {
    "duration": 14,
    "start_time": "2022-12-24T20:23:51.776Z"
   },
   {
    "duration": 9,
    "start_time": "2022-12-24T20:24:12.794Z"
   },
   {
    "duration": 19,
    "start_time": "2022-12-24T20:25:45.538Z"
   },
   {
    "duration": 8,
    "start_time": "2022-12-24T20:27:21.470Z"
   },
   {
    "duration": 26,
    "start_time": "2022-12-24T20:28:11.510Z"
   },
   {
    "duration": 10,
    "start_time": "2022-12-24T20:30:42.253Z"
   },
   {
    "duration": 8,
    "start_time": "2022-12-24T20:31:21.861Z"
   },
   {
    "duration": 41,
    "start_time": "2022-12-24T20:31:46.369Z"
   },
   {
    "duration": 59,
    "start_time": "2022-12-24T20:32:49.008Z"
   },
   {
    "duration": 39,
    "start_time": "2022-12-24T20:35:51.180Z"
   },
   {
    "duration": 29,
    "start_time": "2022-12-24T20:38:50.555Z"
   },
   {
    "duration": 57,
    "start_time": "2022-12-24T20:39:51.359Z"
   },
   {
    "duration": 71,
    "start_time": "2022-12-24T20:40:09.547Z"
   },
   {
    "duration": 80,
    "start_time": "2022-12-24T20:41:54.027Z"
   },
   {
    "duration": 18,
    "start_time": "2022-12-24T20:43:39.987Z"
   },
   {
    "duration": 39,
    "start_time": "2022-12-24T20:44:32.254Z"
   },
   {
    "duration": 52,
    "start_time": "2022-12-24T20:46:16.807Z"
   },
   {
    "duration": 37,
    "start_time": "2022-12-24T20:48:15.538Z"
   },
   {
    "duration": 47,
    "start_time": "2022-12-24T20:48:40.269Z"
   },
   {
    "duration": 952,
    "start_time": "2022-12-24T20:49:19.313Z"
   },
   {
    "duration": 48,
    "start_time": "2022-12-24T20:50:08.073Z"
   },
   {
    "duration": 20,
    "start_time": "2022-12-24T20:53:01.138Z"
   },
   {
    "duration": 13,
    "start_time": "2022-12-24T20:53:02.432Z"
   },
   {
    "duration": 22,
    "start_time": "2022-12-24T20:53:59.365Z"
   },
   {
    "duration": 13,
    "start_time": "2022-12-24T20:54:02.806Z"
   },
   {
    "duration": 5,
    "start_time": "2022-12-24T20:54:11.904Z"
   },
   {
    "duration": 5,
    "start_time": "2022-12-24T20:54:14.825Z"
   },
   {
    "duration": 6,
    "start_time": "2022-12-24T20:54:18.893Z"
   },
   {
    "duration": 5,
    "start_time": "2022-12-24T20:54:29.685Z"
   },
   {
    "duration": 63,
    "start_time": "2022-12-24T20:58:59.377Z"
   },
   {
    "duration": 39,
    "start_time": "2022-12-24T21:00:21.868Z"
   },
   {
    "duration": 9,
    "start_time": "2022-12-24T21:00:46.732Z"
   },
   {
    "duration": 23,
    "start_time": "2022-12-24T21:01:01.744Z"
   },
   {
    "duration": 46,
    "start_time": "2022-12-24T21:01:42.428Z"
   },
   {
    "duration": 47,
    "start_time": "2022-12-24T21:03:42.532Z"
   },
   {
    "duration": 45,
    "start_time": "2022-12-24T21:03:52.488Z"
   },
   {
    "duration": 45,
    "start_time": "2022-12-24T21:07:31.076Z"
   },
   {
    "duration": 47,
    "start_time": "2022-12-24T21:09:06.527Z"
   },
   {
    "duration": 66,
    "start_time": "2022-12-24T21:11:30.911Z"
   },
   {
    "duration": 86,
    "start_time": "2022-12-24T21:12:05.543Z"
   },
   {
    "duration": 12064,
    "start_time": "2022-12-25T04:54:49.436Z"
   },
   {
    "duration": 698,
    "start_time": "2022-12-25T04:55:01.503Z"
   },
   {
    "duration": 18,
    "start_time": "2022-12-25T04:55:02.203Z"
   },
   {
    "duration": 75,
    "start_time": "2022-12-25T04:55:02.224Z"
   },
   {
    "duration": 65,
    "start_time": "2022-12-25T04:55:02.300Z"
   },
   {
    "duration": 69,
    "start_time": "2022-12-25T04:55:02.367Z"
   },
   {
    "duration": 14,
    "start_time": "2022-12-25T04:55:02.437Z"
   },
   {
    "duration": 308,
    "start_time": "2022-12-25T04:55:02.452Z"
   },
   {
    "duration": 25,
    "start_time": "2022-12-25T04:55:02.761Z"
   },
   {
    "duration": 2463,
    "start_time": "2022-12-25T04:55:02.788Z"
   },
   {
    "duration": 284,
    "start_time": "2022-12-25T04:55:05.253Z"
   },
   {
    "duration": 58,
    "start_time": "2022-12-25T04:55:05.539Z"
   },
   {
    "duration": 8,
    "start_time": "2022-12-25T04:55:05.599Z"
   },
   {
    "duration": 26,
    "start_time": "2022-12-25T04:55:05.608Z"
   },
   {
    "duration": 5,
    "start_time": "2022-12-25T04:55:05.636Z"
   },
   {
    "duration": 8,
    "start_time": "2022-12-25T04:55:05.643Z"
   },
   {
    "duration": 6,
    "start_time": "2022-12-25T04:55:05.653Z"
   },
   {
    "duration": 175,
    "start_time": "2022-12-25T04:55:05.660Z"
   },
   {
    "duration": 8,
    "start_time": "2022-12-25T04:55:05.837Z"
   },
   {
    "duration": 28,
    "start_time": "2022-12-25T04:55:05.846Z"
   },
   {
    "duration": 15,
    "start_time": "2022-12-25T04:55:05.875Z"
   },
   {
    "duration": 34,
    "start_time": "2022-12-25T04:55:05.892Z"
   },
   {
    "duration": 20,
    "start_time": "2022-12-25T04:55:05.928Z"
   },
   {
    "duration": 19,
    "start_time": "2022-12-25T04:55:05.949Z"
   },
   {
    "duration": 18,
    "start_time": "2022-12-25T04:55:05.969Z"
   },
   {
    "duration": 42,
    "start_time": "2022-12-25T04:55:05.988Z"
   },
   {
    "duration": 20,
    "start_time": "2022-12-25T04:55:06.031Z"
   },
   {
    "duration": 15,
    "start_time": "2022-12-25T04:55:06.055Z"
   },
   {
    "duration": 10,
    "start_time": "2022-12-25T04:55:06.072Z"
   },
   {
    "duration": 738,
    "start_time": "2022-12-25T04:55:06.085Z"
   },
   {
    "duration": 71,
    "start_time": "2022-12-25T04:55:06.825Z"
   },
   {
    "duration": 7,
    "start_time": "2022-12-25T04:55:06.897Z"
   },
   {
    "duration": 17,
    "start_time": "2022-12-25T04:55:06.906Z"
   },
   {
    "duration": 28,
    "start_time": "2022-12-25T04:55:06.925Z"
   },
   {
    "duration": 11,
    "start_time": "2022-12-25T04:55:06.955Z"
   },
   {
    "duration": 5,
    "start_time": "2022-12-25T04:55:06.968Z"
   },
   {
    "duration": 11,
    "start_time": "2022-12-25T04:55:06.974Z"
   },
   {
    "duration": 7,
    "start_time": "2022-12-25T04:55:06.987Z"
   },
   {
    "duration": 5,
    "start_time": "2022-12-25T04:55:06.996Z"
   },
   {
    "duration": 12,
    "start_time": "2022-12-25T04:55:07.003Z"
   },
   {
    "duration": 11,
    "start_time": "2022-12-25T04:55:07.017Z"
   },
   {
    "duration": 42,
    "start_time": "2022-12-25T04:55:07.030Z"
   },
   {
    "duration": 96,
    "start_time": "2022-12-25T04:55:07.073Z"
   },
   {
    "duration": 8,
    "start_time": "2022-12-25T04:55:07.171Z"
   },
   {
    "duration": 8,
    "start_time": "2022-12-25T04:55:07.180Z"
   },
   {
    "duration": 36,
    "start_time": "2022-12-25T04:55:07.190Z"
   },
   {
    "duration": 433,
    "start_time": "2022-12-25T04:55:07.228Z"
   },
   {
    "duration": 38,
    "start_time": "2022-12-25T04:55:07.663Z"
   },
   {
    "duration": 5,
    "start_time": "2022-12-25T04:55:07.703Z"
   },
   {
    "duration": 468,
    "start_time": "2022-12-25T04:55:07.716Z"
   },
   {
    "duration": 4,
    "start_time": "2022-12-25T04:55:08.185Z"
   },
   {
    "duration": 468,
    "start_time": "2022-12-25T04:55:08.191Z"
   },
   {
    "duration": 9,
    "start_time": "2022-12-25T04:55:08.661Z"
   },
   {
    "duration": 303,
    "start_time": "2022-12-25T04:55:08.672Z"
   },
   {
    "duration": 21,
    "start_time": "2022-12-25T04:55:08.977Z"
   },
   {
    "duration": 46,
    "start_time": "2022-12-25T04:55:09.000Z"
   },
   {
    "duration": 314,
    "start_time": "2022-12-25T04:55:09.047Z"
   },
   {
    "duration": 302,
    "start_time": "2022-12-25T04:55:09.362Z"
   },
   {
    "duration": 33,
    "start_time": "2022-12-25T04:55:09.666Z"
   },
   {
    "duration": 61,
    "start_time": "2022-12-25T04:55:09.700Z"
   },
   {
    "duration": 943,
    "start_time": "2022-12-25T04:55:09.763Z"
   },
   {
    "duration": 0,
    "start_time": "2022-12-25T04:55:10.708Z"
   },
   {
    "duration": 0,
    "start_time": "2022-12-25T04:55:10.710Z"
   },
   {
    "duration": 0,
    "start_time": "2022-12-25T04:55:10.711Z"
   },
   {
    "duration": 0,
    "start_time": "2022-12-25T04:55:10.713Z"
   },
   {
    "duration": 0,
    "start_time": "2022-12-25T04:55:10.715Z"
   },
   {
    "duration": 0,
    "start_time": "2022-12-25T04:55:10.716Z"
   },
   {
    "duration": 0,
    "start_time": "2022-12-25T04:55:10.717Z"
   },
   {
    "duration": 0,
    "start_time": "2022-12-25T04:55:10.719Z"
   },
   {
    "duration": 0,
    "start_time": "2022-12-25T04:55:10.720Z"
   },
   {
    "duration": 0,
    "start_time": "2022-12-25T04:55:10.721Z"
   },
   {
    "duration": 0,
    "start_time": "2022-12-25T04:55:10.722Z"
   },
   {
    "duration": 0,
    "start_time": "2022-12-25T04:55:10.723Z"
   },
   {
    "duration": 0,
    "start_time": "2022-12-25T04:55:10.724Z"
   },
   {
    "duration": 0,
    "start_time": "2022-12-25T04:55:10.725Z"
   },
   {
    "duration": 0,
    "start_time": "2022-12-25T04:55:10.727Z"
   },
   {
    "duration": 0,
    "start_time": "2022-12-25T04:55:10.728Z"
   },
   {
    "duration": 11,
    "start_time": "2022-12-25T04:55:53.534Z"
   },
   {
    "duration": 14,
    "start_time": "2022-12-25T04:56:09.860Z"
   },
   {
    "duration": 49,
    "start_time": "2022-12-25T04:57:04.013Z"
   },
   {
    "duration": 13,
    "start_time": "2022-12-25T04:57:33.652Z"
   },
   {
    "duration": 73,
    "start_time": "2022-12-25T04:57:48.756Z"
   },
   {
    "duration": 41,
    "start_time": "2022-12-25T04:58:17.753Z"
   },
   {
    "duration": 54,
    "start_time": "2022-12-25T04:58:32.784Z"
   },
   {
    "duration": 55,
    "start_time": "2022-12-25T04:58:40.493Z"
   },
   {
    "duration": 6,
    "start_time": "2022-12-25T04:59:31.349Z"
   },
   {
    "duration": 15,
    "start_time": "2022-12-25T04:59:47.349Z"
   },
   {
    "duration": 7,
    "start_time": "2022-12-25T05:00:53.803Z"
   },
   {
    "duration": 842,
    "start_time": "2022-12-25T05:01:04.459Z"
   },
   {
    "duration": 0,
    "start_time": "2022-12-25T05:01:05.303Z"
   },
   {
    "duration": 0,
    "start_time": "2022-12-25T05:01:05.304Z"
   },
   {
    "duration": 0,
    "start_time": "2022-12-25T05:01:05.305Z"
   },
   {
    "duration": 0,
    "start_time": "2022-12-25T05:01:05.306Z"
   },
   {
    "duration": 0,
    "start_time": "2022-12-25T05:01:05.307Z"
   },
   {
    "duration": 0,
    "start_time": "2022-12-25T05:01:05.308Z"
   },
   {
    "duration": 0,
    "start_time": "2022-12-25T05:01:05.309Z"
   },
   {
    "duration": 0,
    "start_time": "2022-12-25T05:01:05.310Z"
   },
   {
    "duration": 0,
    "start_time": "2022-12-25T05:01:05.311Z"
   },
   {
    "duration": 0,
    "start_time": "2022-12-25T05:01:05.312Z"
   },
   {
    "duration": 0,
    "start_time": "2022-12-25T05:01:05.313Z"
   },
   {
    "duration": 0,
    "start_time": "2022-12-25T05:01:05.314Z"
   },
   {
    "duration": 0,
    "start_time": "2022-12-25T05:01:05.316Z"
   },
   {
    "duration": 0,
    "start_time": "2022-12-25T05:01:05.317Z"
   },
   {
    "duration": 0,
    "start_time": "2022-12-25T05:01:05.318Z"
   },
   {
    "duration": 0,
    "start_time": "2022-12-25T05:01:05.319Z"
   },
   {
    "duration": 4973,
    "start_time": "2022-12-25T05:01:18.503Z"
   },
   {
    "duration": 874,
    "start_time": "2022-12-25T05:01:23.479Z"
   },
   {
    "duration": 63,
    "start_time": "2022-12-25T05:01:24.355Z"
   },
   {
    "duration": 128,
    "start_time": "2022-12-25T05:01:24.421Z"
   },
   {
    "duration": 184,
    "start_time": "2022-12-25T05:01:24.551Z"
   },
   {
    "duration": 114,
    "start_time": "2022-12-25T05:01:24.736Z"
   },
   {
    "duration": 13,
    "start_time": "2022-12-25T05:01:24.851Z"
   },
   {
    "duration": 652,
    "start_time": "2022-12-25T05:01:24.865Z"
   },
   {
    "duration": 28,
    "start_time": "2022-12-25T05:01:25.519Z"
   },
   {
    "duration": 2633,
    "start_time": "2022-12-25T05:01:25.549Z"
   },
   {
    "duration": 318,
    "start_time": "2022-12-25T05:01:28.184Z"
   },
   {
    "duration": 39,
    "start_time": "2022-12-25T05:01:28.504Z"
   },
   {
    "duration": 8,
    "start_time": "2022-12-25T05:01:28.545Z"
   },
   {
    "duration": 12,
    "start_time": "2022-12-25T05:01:28.554Z"
   },
   {
    "duration": 6,
    "start_time": "2022-12-25T05:01:28.567Z"
   },
   {
    "duration": 5,
    "start_time": "2022-12-25T05:01:28.575Z"
   },
   {
    "duration": 7,
    "start_time": "2022-12-25T05:01:28.582Z"
   },
   {
    "duration": 67,
    "start_time": "2022-12-25T05:01:28.590Z"
   },
   {
    "duration": 8,
    "start_time": "2022-12-25T05:01:28.659Z"
   },
   {
    "duration": 19,
    "start_time": "2022-12-25T05:01:28.669Z"
   },
   {
    "duration": 13,
    "start_time": "2022-12-25T05:01:28.690Z"
   },
   {
    "duration": 34,
    "start_time": "2022-12-25T05:01:28.727Z"
   },
   {
    "duration": 18,
    "start_time": "2022-12-25T05:01:28.763Z"
   },
   {
    "duration": 22,
    "start_time": "2022-12-25T05:01:28.782Z"
   },
   {
    "duration": 29,
    "start_time": "2022-12-25T05:01:28.805Z"
   },
   {
    "duration": 22,
    "start_time": "2022-12-25T05:01:28.836Z"
   },
   {
    "duration": 13,
    "start_time": "2022-12-25T05:01:28.860Z"
   },
   {
    "duration": 6,
    "start_time": "2022-12-25T05:01:28.877Z"
   },
   {
    "duration": 20,
    "start_time": "2022-12-25T05:01:28.885Z"
   },
   {
    "duration": 703,
    "start_time": "2022-12-25T05:01:28.917Z"
   },
   {
    "duration": 40,
    "start_time": "2022-12-25T05:01:29.622Z"
   },
   {
    "duration": 7,
    "start_time": "2022-12-25T05:01:29.664Z"
   },
   {
    "duration": 15,
    "start_time": "2022-12-25T05:01:29.673Z"
   },
   {
    "duration": 12,
    "start_time": "2022-12-25T05:01:29.690Z"
   },
   {
    "duration": 12,
    "start_time": "2022-12-25T05:01:29.703Z"
   },
   {
    "duration": 7,
    "start_time": "2022-12-25T05:01:29.717Z"
   },
   {
    "duration": 22,
    "start_time": "2022-12-25T05:01:29.726Z"
   },
   {
    "duration": 9,
    "start_time": "2022-12-25T05:01:29.750Z"
   },
   {
    "duration": 5,
    "start_time": "2022-12-25T05:01:29.760Z"
   },
   {
    "duration": 6,
    "start_time": "2022-12-25T05:01:29.766Z"
   },
   {
    "duration": 9,
    "start_time": "2022-12-25T05:01:29.773Z"
   },
   {
    "duration": 58,
    "start_time": "2022-12-25T05:01:29.784Z"
   },
   {
    "duration": 89,
    "start_time": "2022-12-25T05:01:29.844Z"
   },
   {
    "duration": 8,
    "start_time": "2022-12-25T05:01:29.936Z"
   },
   {
    "duration": 9,
    "start_time": "2022-12-25T05:01:29.946Z"
   },
   {
    "duration": 13,
    "start_time": "2022-12-25T05:01:29.956Z"
   },
   {
    "duration": 385,
    "start_time": "2022-12-25T05:01:29.970Z"
   },
   {
    "duration": 36,
    "start_time": "2022-12-25T05:01:30.357Z"
   },
   {
    "duration": 10,
    "start_time": "2022-12-25T05:01:30.395Z"
   },
   {
    "duration": 593,
    "start_time": "2022-12-25T05:01:30.416Z"
   },
   {
    "duration": 6,
    "start_time": "2022-12-25T05:01:31.011Z"
   },
   {
    "duration": 108,
    "start_time": "2022-12-25T05:01:31.019Z"
   },
   {
    "duration": 8,
    "start_time": "2022-12-25T05:01:31.130Z"
   },
   {
    "duration": 245,
    "start_time": "2022-12-25T05:01:31.140Z"
   },
   {
    "duration": 32,
    "start_time": "2022-12-25T05:01:31.387Z"
   },
   {
    "duration": 30,
    "start_time": "2022-12-25T05:01:31.421Z"
   },
   {
    "duration": 316,
    "start_time": "2022-12-25T05:01:31.452Z"
   },
   {
    "duration": 330,
    "start_time": "2022-12-25T05:01:31.769Z"
   },
   {
    "duration": 48,
    "start_time": "2022-12-25T05:01:32.100Z"
   },
   {
    "duration": 43,
    "start_time": "2022-12-25T05:01:32.150Z"
   },
   {
    "duration": 42,
    "start_time": "2022-12-25T05:01:32.194Z"
   },
   {
    "duration": 401,
    "start_time": "2022-12-25T05:01:32.237Z"
   },
   {
    "duration": 1371,
    "start_time": "2022-12-25T05:01:32.640Z"
   },
   {
    "duration": 1234,
    "start_time": "2022-12-25T05:01:34.012Z"
   },
   {
    "duration": 1740,
    "start_time": "2022-12-25T05:01:35.248Z"
   },
   {
    "duration": 1430,
    "start_time": "2022-12-25T05:01:36.989Z"
   },
   {
    "duration": 100,
    "start_time": "2022-12-25T05:01:38.422Z"
   },
   {
    "duration": 1368,
    "start_time": "2022-12-25T05:01:38.524Z"
   },
   {
    "duration": 33,
    "start_time": "2022-12-25T05:01:39.894Z"
   },
   {
    "duration": 14,
    "start_time": "2022-12-25T05:01:39.930Z"
   },
   {
    "duration": 35,
    "start_time": "2022-12-25T05:01:39.946Z"
   },
   {
    "duration": 46,
    "start_time": "2022-12-25T05:01:39.982Z"
   },
   {
    "duration": 11,
    "start_time": "2022-12-25T05:01:40.030Z"
   },
   {
    "duration": 26,
    "start_time": "2022-12-25T05:01:40.043Z"
   },
   {
    "duration": 12,
    "start_time": "2022-12-25T05:01:40.071Z"
   },
   {
    "duration": 8,
    "start_time": "2022-12-25T05:01:40.085Z"
   },
   {
    "duration": 7,
    "start_time": "2022-12-25T05:01:40.095Z"
   },
   {
    "duration": 18,
    "start_time": "2022-12-25T05:03:38.247Z"
   },
   {
    "duration": 5007,
    "start_time": "2022-12-25T05:04:25.875Z"
   },
   {
    "duration": 498,
    "start_time": "2022-12-25T05:04:30.885Z"
   },
   {
    "duration": 10,
    "start_time": "2022-12-25T05:04:31.384Z"
   },
   {
    "duration": 79,
    "start_time": "2022-12-25T05:04:31.396Z"
   },
   {
    "duration": 68,
    "start_time": "2022-12-25T05:04:31.477Z"
   },
   {
    "duration": 49,
    "start_time": "2022-12-25T05:04:31.547Z"
   },
   {
    "duration": 32,
    "start_time": "2022-12-25T05:04:31.597Z"
   },
   {
    "duration": 257,
    "start_time": "2022-12-25T05:04:31.631Z"
   },
   {
    "duration": 29,
    "start_time": "2022-12-25T05:04:31.889Z"
   },
   {
    "duration": 2730,
    "start_time": "2022-12-25T05:04:31.921Z"
   },
   {
    "duration": 256,
    "start_time": "2022-12-25T05:04:34.653Z"
   },
   {
    "duration": 35,
    "start_time": "2022-12-25T05:04:34.915Z"
   },
   {
    "duration": 8,
    "start_time": "2022-12-25T05:04:34.952Z"
   },
   {
    "duration": 12,
    "start_time": "2022-12-25T05:04:34.961Z"
   },
   {
    "duration": 11,
    "start_time": "2022-12-25T05:04:34.974Z"
   },
   {
    "duration": 8,
    "start_time": "2022-12-25T05:04:34.986Z"
   },
   {
    "duration": 11,
    "start_time": "2022-12-25T05:04:34.996Z"
   },
   {
    "duration": 70,
    "start_time": "2022-12-25T05:04:35.009Z"
   },
   {
    "duration": 7,
    "start_time": "2022-12-25T05:04:35.081Z"
   },
   {
    "duration": 28,
    "start_time": "2022-12-25T05:04:35.089Z"
   },
   {
    "duration": 21,
    "start_time": "2022-12-25T05:04:35.120Z"
   },
   {
    "duration": 31,
    "start_time": "2022-12-25T05:04:35.143Z"
   },
   {
    "duration": 17,
    "start_time": "2022-12-25T05:04:35.176Z"
   },
   {
    "duration": 34,
    "start_time": "2022-12-25T05:04:35.194Z"
   },
   {
    "duration": 22,
    "start_time": "2022-12-25T05:04:35.231Z"
   },
   {
    "duration": 16,
    "start_time": "2022-12-25T05:04:35.254Z"
   },
   {
    "duration": 7,
    "start_time": "2022-12-25T05:04:35.272Z"
   },
   {
    "duration": 6,
    "start_time": "2022-12-25T05:04:35.283Z"
   },
   {
    "duration": 29,
    "start_time": "2022-12-25T05:04:35.291Z"
   },
   {
    "duration": 687,
    "start_time": "2022-12-25T05:04:35.322Z"
   },
   {
    "duration": 35,
    "start_time": "2022-12-25T05:04:36.015Z"
   },
   {
    "duration": 7,
    "start_time": "2022-12-25T05:04:36.052Z"
   },
   {
    "duration": 15,
    "start_time": "2022-12-25T05:04:36.061Z"
   },
   {
    "duration": 7,
    "start_time": "2022-12-25T05:04:36.077Z"
   },
   {
    "duration": 12,
    "start_time": "2022-12-25T05:04:36.086Z"
   },
   {
    "duration": 5,
    "start_time": "2022-12-25T05:04:36.099Z"
   },
   {
    "duration": 20,
    "start_time": "2022-12-25T05:04:36.115Z"
   },
   {
    "duration": 16,
    "start_time": "2022-12-25T05:04:36.137Z"
   },
   {
    "duration": 5,
    "start_time": "2022-12-25T05:04:36.155Z"
   },
   {
    "duration": 6,
    "start_time": "2022-12-25T05:04:36.162Z"
   },
   {
    "duration": 10,
    "start_time": "2022-12-25T05:04:36.170Z"
   },
   {
    "duration": 79,
    "start_time": "2022-12-25T05:04:36.181Z"
   },
   {
    "duration": 97,
    "start_time": "2022-12-25T05:04:36.262Z"
   },
   {
    "duration": 10,
    "start_time": "2022-12-25T05:04:36.361Z"
   },
   {
    "duration": 18,
    "start_time": "2022-12-25T05:04:36.373Z"
   },
   {
    "duration": 23,
    "start_time": "2022-12-25T05:04:36.393Z"
   },
   {
    "duration": 420,
    "start_time": "2022-12-25T05:04:36.418Z"
   },
   {
    "duration": 38,
    "start_time": "2022-12-25T05:04:36.840Z"
   },
   {
    "duration": 5,
    "start_time": "2022-12-25T05:04:36.880Z"
   },
   {
    "duration": 465,
    "start_time": "2022-12-25T05:04:36.887Z"
   },
   {
    "duration": 3,
    "start_time": "2022-12-25T05:04:37.354Z"
   },
   {
    "duration": 68,
    "start_time": "2022-12-25T05:04:37.359Z"
   },
   {
    "duration": 9,
    "start_time": "2022-12-25T05:04:37.429Z"
   },
   {
    "duration": 248,
    "start_time": "2022-12-25T05:04:37.440Z"
   },
   {
    "duration": 34,
    "start_time": "2022-12-25T05:04:37.690Z"
   },
   {
    "duration": 31,
    "start_time": "2022-12-25T05:04:37.726Z"
   },
   {
    "duration": 316,
    "start_time": "2022-12-25T05:04:37.758Z"
   },
   {
    "duration": 341,
    "start_time": "2022-12-25T05:04:38.076Z"
   },
   {
    "duration": 38,
    "start_time": "2022-12-25T05:04:38.419Z"
   },
   {
    "duration": 59,
    "start_time": "2022-12-25T05:04:38.459Z"
   },
   {
    "duration": 34,
    "start_time": "2022-12-25T05:04:38.521Z"
   },
   {
    "duration": 0,
    "start_time": "2022-12-25T05:04:38.557Z"
   },
   {
    "duration": 0,
    "start_time": "2022-12-25T05:04:38.558Z"
   },
   {
    "duration": 0,
    "start_time": "2022-12-25T05:04:38.559Z"
   },
   {
    "duration": 0,
    "start_time": "2022-12-25T05:04:38.560Z"
   },
   {
    "duration": 0,
    "start_time": "2022-12-25T05:04:38.562Z"
   },
   {
    "duration": 0,
    "start_time": "2022-12-25T05:04:38.563Z"
   },
   {
    "duration": 0,
    "start_time": "2022-12-25T05:04:38.564Z"
   },
   {
    "duration": 0,
    "start_time": "2022-12-25T05:04:38.565Z"
   },
   {
    "duration": 0,
    "start_time": "2022-12-25T05:04:38.566Z"
   },
   {
    "duration": 0,
    "start_time": "2022-12-25T05:04:38.567Z"
   },
   {
    "duration": 0,
    "start_time": "2022-12-25T05:04:38.569Z"
   },
   {
    "duration": 0,
    "start_time": "2022-12-25T05:04:38.570Z"
   },
   {
    "duration": 0,
    "start_time": "2022-12-25T05:04:38.571Z"
   },
   {
    "duration": 0,
    "start_time": "2022-12-25T05:04:38.572Z"
   },
   {
    "duration": 0,
    "start_time": "2022-12-25T05:04:38.574Z"
   },
   {
    "duration": 0,
    "start_time": "2022-12-25T05:04:38.623Z"
   },
   {
    "duration": 0,
    "start_time": "2022-12-25T05:04:38.624Z"
   },
   {
    "duration": 0,
    "start_time": "2022-12-25T05:04:38.625Z"
   },
   {
    "duration": 17,
    "start_time": "2022-12-25T05:04:54.464Z"
   },
   {
    "duration": 43,
    "start_time": "2022-12-25T05:06:19.328Z"
   },
   {
    "duration": 21,
    "start_time": "2022-12-25T05:06:19.373Z"
   },
   {
    "duration": 421,
    "start_time": "2022-12-25T05:06:19.396Z"
   },
   {
    "duration": 1562,
    "start_time": "2022-12-25T05:06:19.820Z"
   },
   {
    "duration": 1114,
    "start_time": "2022-12-25T05:06:21.384Z"
   },
   {
    "duration": 30,
    "start_time": "2022-12-25T05:06:22.501Z"
   },
   {
    "duration": 2897,
    "start_time": "2022-12-25T05:06:22.535Z"
   },
   {
    "duration": 1579,
    "start_time": "2022-12-25T05:06:25.434Z"
   },
   {
    "duration": 91,
    "start_time": "2022-12-25T05:06:27.015Z"
   },
   {
    "duration": 1664,
    "start_time": "2022-12-25T05:06:27.121Z"
   },
   {
    "duration": 39,
    "start_time": "2022-12-25T05:06:28.787Z"
   },
   {
    "duration": 14,
    "start_time": "2022-12-25T05:06:28.828Z"
   },
   {
    "duration": 53,
    "start_time": "2022-12-25T05:06:28.843Z"
   },
   {
    "duration": 42,
    "start_time": "2022-12-25T05:06:28.898Z"
   },
   {
    "duration": 13,
    "start_time": "2022-12-25T05:06:28.942Z"
   },
   {
    "duration": 7,
    "start_time": "2022-12-25T05:06:28.957Z"
   },
   {
    "duration": 7,
    "start_time": "2022-12-25T05:06:28.966Z"
   },
   {
    "duration": 9,
    "start_time": "2022-12-25T05:06:28.975Z"
   },
   {
    "duration": 40,
    "start_time": "2022-12-25T05:06:28.985Z"
   },
   {
    "duration": 26,
    "start_time": "2022-12-25T05:08:48.484Z"
   },
   {
    "duration": 25,
    "start_time": "2022-12-25T05:09:36.236Z"
   },
   {
    "duration": 5186,
    "start_time": "2022-12-25T05:09:46.036Z"
   },
   {
    "duration": 499,
    "start_time": "2022-12-25T05:09:51.226Z"
   },
   {
    "duration": 11,
    "start_time": "2022-12-25T05:09:51.728Z"
   },
   {
    "duration": 65,
    "start_time": "2022-12-25T05:09:51.741Z"
   },
   {
    "duration": 64,
    "start_time": "2022-12-25T05:09:51.808Z"
   },
   {
    "duration": 68,
    "start_time": "2022-12-25T05:09:51.874Z"
   },
   {
    "duration": 13,
    "start_time": "2022-12-25T05:09:51.944Z"
   },
   {
    "duration": 304,
    "start_time": "2022-12-25T05:09:51.959Z"
   },
   {
    "duration": 22,
    "start_time": "2022-12-25T05:09:52.265Z"
   },
   {
    "duration": 2578,
    "start_time": "2022-12-25T05:09:52.291Z"
   },
   {
    "duration": 302,
    "start_time": "2022-12-25T05:09:54.874Z"
   },
   {
    "duration": 38,
    "start_time": "2022-12-25T05:09:55.179Z"
   },
   {
    "duration": 13,
    "start_time": "2022-12-25T05:09:55.220Z"
   },
   {
    "duration": 15,
    "start_time": "2022-12-25T05:09:55.235Z"
   },
   {
    "duration": 9,
    "start_time": "2022-12-25T05:09:55.251Z"
   },
   {
    "duration": 6,
    "start_time": "2022-12-25T05:09:55.262Z"
   },
   {
    "duration": 7,
    "start_time": "2022-12-25T05:09:55.269Z"
   },
   {
    "duration": 70,
    "start_time": "2022-12-25T05:09:55.277Z"
   },
   {
    "duration": 8,
    "start_time": "2022-12-25T05:09:55.349Z"
   },
   {
    "duration": 20,
    "start_time": "2022-12-25T05:09:55.358Z"
   },
   {
    "duration": 13,
    "start_time": "2022-12-25T05:09:55.379Z"
   },
   {
    "duration": 59,
    "start_time": "2022-12-25T05:09:55.393Z"
   },
   {
    "duration": 20,
    "start_time": "2022-12-25T05:09:55.453Z"
   },
   {
    "duration": 16,
    "start_time": "2022-12-25T05:09:55.474Z"
   },
   {
    "duration": 48,
    "start_time": "2022-12-25T05:09:55.492Z"
   },
   {
    "duration": 17,
    "start_time": "2022-12-25T05:09:55.542Z"
   },
   {
    "duration": 7,
    "start_time": "2022-12-25T05:09:55.560Z"
   },
   {
    "duration": 6,
    "start_time": "2022-12-25T05:09:55.571Z"
   },
   {
    "duration": 22,
    "start_time": "2022-12-25T05:09:55.578Z"
   },
   {
    "duration": 744,
    "start_time": "2022-12-25T05:09:55.601Z"
   },
   {
    "duration": 37,
    "start_time": "2022-12-25T05:09:56.347Z"
   },
   {
    "duration": 10,
    "start_time": "2022-12-25T05:09:56.386Z"
   },
   {
    "duration": 19,
    "start_time": "2022-12-25T05:09:56.398Z"
   },
   {
    "duration": 40,
    "start_time": "2022-12-25T05:09:56.419Z"
   },
   {
    "duration": 14,
    "start_time": "2022-12-25T05:09:56.461Z"
   },
   {
    "duration": 6,
    "start_time": "2022-12-25T05:09:56.477Z"
   },
   {
    "duration": 12,
    "start_time": "2022-12-25T05:09:56.485Z"
   },
   {
    "duration": 7,
    "start_time": "2022-12-25T05:09:56.499Z"
   },
   {
    "duration": 14,
    "start_time": "2022-12-25T05:09:56.507Z"
   },
   {
    "duration": 16,
    "start_time": "2022-12-25T05:09:56.523Z"
   },
   {
    "duration": 10,
    "start_time": "2022-12-25T05:09:56.540Z"
   },
   {
    "duration": 35,
    "start_time": "2022-12-25T05:09:56.551Z"
   },
   {
    "duration": 85,
    "start_time": "2022-12-25T05:09:56.587Z"
   },
   {
    "duration": 9,
    "start_time": "2022-12-25T05:09:56.674Z"
   },
   {
    "duration": 9,
    "start_time": "2022-12-25T05:09:56.684Z"
   },
   {
    "duration": 38,
    "start_time": "2022-12-25T05:09:56.695Z"
   },
   {
    "duration": 357,
    "start_time": "2022-12-25T05:09:56.734Z"
   },
   {
    "duration": 58,
    "start_time": "2022-12-25T05:09:57.093Z"
   },
   {
    "duration": 5,
    "start_time": "2022-12-25T05:09:57.153Z"
   },
   {
    "duration": 436,
    "start_time": "2022-12-25T05:09:57.159Z"
   },
   {
    "duration": 4,
    "start_time": "2022-12-25T05:09:57.597Z"
   },
   {
    "duration": 71,
    "start_time": "2022-12-25T05:09:57.603Z"
   },
   {
    "duration": 9,
    "start_time": "2022-12-25T05:09:57.675Z"
   },
   {
    "duration": 274,
    "start_time": "2022-12-25T05:09:57.685Z"
   },
   {
    "duration": 22,
    "start_time": "2022-12-25T05:09:57.961Z"
   },
   {
    "duration": 49,
    "start_time": "2022-12-25T05:09:57.985Z"
   },
   {
    "duration": 319,
    "start_time": "2022-12-25T05:09:58.035Z"
   },
   {
    "duration": 303,
    "start_time": "2022-12-25T05:09:58.356Z"
   },
   {
    "duration": 32,
    "start_time": "2022-12-25T05:09:58.660Z"
   },
   {
    "duration": 58,
    "start_time": "2022-12-25T05:09:58.693Z"
   },
   {
    "duration": 20,
    "start_time": "2022-12-25T05:09:58.753Z"
   },
   {
    "duration": 582,
    "start_time": "2022-12-25T05:09:58.775Z"
   },
   {
    "duration": 1553,
    "start_time": "2022-12-25T05:09:59.359Z"
   },
   {
    "duration": 1169,
    "start_time": "2022-12-25T05:10:00.914Z"
   },
   {
    "duration": 41,
    "start_time": "2022-12-25T05:10:02.084Z"
   },
   {
    "duration": 1903,
    "start_time": "2022-12-25T05:10:02.127Z"
   },
   {
    "duration": 1555,
    "start_time": "2022-12-25T05:10:04.033Z"
   },
   {
    "duration": 101,
    "start_time": "2022-12-25T05:10:05.590Z"
   },
   {
    "duration": 1440,
    "start_time": "2022-12-25T05:10:05.693Z"
   },
   {
    "duration": 21,
    "start_time": "2022-12-25T05:10:07.135Z"
   },
   {
    "duration": 11,
    "start_time": "2022-12-25T05:10:07.157Z"
   },
   {
    "duration": 8,
    "start_time": "2022-12-25T05:10:07.170Z"
   },
   {
    "duration": 43,
    "start_time": "2022-12-25T05:10:07.179Z"
   },
   {
    "duration": 17,
    "start_time": "2022-12-25T05:10:07.224Z"
   },
   {
    "duration": 5,
    "start_time": "2022-12-25T05:10:07.242Z"
   },
   {
    "duration": 10,
    "start_time": "2022-12-25T05:10:07.249Z"
   },
   {
    "duration": 11,
    "start_time": "2022-12-25T05:10:07.261Z"
   },
   {
    "duration": 11,
    "start_time": "2022-12-25T05:10:07.276Z"
   },
   {
    "duration": 28,
    "start_time": "2022-12-25T05:12:24.910Z"
   },
   {
    "duration": 26,
    "start_time": "2022-12-25T05:14:03.765Z"
   },
   {
    "duration": 37,
    "start_time": "2022-12-25T05:14:49.393Z"
   },
   {
    "duration": 28,
    "start_time": "2022-12-25T05:14:52.957Z"
   },
   {
    "duration": 38,
    "start_time": "2022-12-25T05:16:49.264Z"
   },
   {
    "duration": 35,
    "start_time": "2022-12-25T05:17:00.988Z"
   },
   {
    "duration": 30,
    "start_time": "2022-12-25T05:18:32.751Z"
   },
   {
    "duration": 585,
    "start_time": "2022-12-25T05:18:40.751Z"
   },
   {
    "duration": 113,
    "start_time": "2022-12-25T05:19:13.578Z"
   },
   {
    "duration": 105,
    "start_time": "2022-12-25T05:19:17.775Z"
   },
   {
    "duration": 826,
    "start_time": "2022-12-25T05:19:25.251Z"
   },
   {
    "duration": 651,
    "start_time": "2022-12-25T05:19:51.495Z"
   },
   {
    "duration": 645,
    "start_time": "2022-12-25T05:20:01.628Z"
   },
   {
    "duration": 13,
    "start_time": "2022-12-25T05:21:30.202Z"
   },
   {
    "duration": 841,
    "start_time": "2022-12-25T05:21:59.302Z"
   },
   {
    "duration": 43,
    "start_time": "2022-12-25T05:22:17.014Z"
   },
   {
    "duration": 41,
    "start_time": "2022-12-25T05:23:03.728Z"
   },
   {
    "duration": 53,
    "start_time": "2022-12-25T05:23:27.578Z"
   },
   {
    "duration": 380,
    "start_time": "2022-12-25T05:25:23.377Z"
   },
   {
    "duration": 383,
    "start_time": "2022-12-25T05:26:03.364Z"
   },
   {
    "duration": 328,
    "start_time": "2022-12-25T05:28:12.580Z"
   },
   {
    "duration": 394,
    "start_time": "2022-12-25T05:28:26.079Z"
   },
   {
    "duration": 484,
    "start_time": "2022-12-25T05:33:13.028Z"
   },
   {
    "duration": 512,
    "start_time": "2022-12-25T05:33:23.879Z"
   },
   {
    "duration": 115,
    "start_time": "2022-12-25T05:33:35.534Z"
   },
   {
    "duration": 510,
    "start_time": "2022-12-25T05:33:39.979Z"
   },
   {
    "duration": 603,
    "start_time": "2022-12-25T05:34:23.038Z"
   },
   {
    "duration": 746,
    "start_time": "2022-12-25T05:34:59.362Z"
   },
   {
    "duration": 618,
    "start_time": "2022-12-25T05:36:12.330Z"
   },
   {
    "duration": 673,
    "start_time": "2022-12-25T05:37:54.154Z"
   },
   {
    "duration": 622,
    "start_time": "2022-12-25T05:38:59.011Z"
   },
   {
    "duration": 634,
    "start_time": "2022-12-25T05:48:48.107Z"
   },
   {
    "duration": 613,
    "start_time": "2022-12-25T05:49:48.475Z"
   },
   {
    "duration": 673,
    "start_time": "2022-12-25T05:49:53.407Z"
   },
   {
    "duration": 16,
    "start_time": "2022-12-25T05:54:16.558Z"
   },
   {
    "duration": 13832,
    "start_time": "2022-12-25T14:41:44.976Z"
   },
   {
    "duration": 1572,
    "start_time": "2022-12-25T14:41:58.810Z"
   },
   {
    "duration": 18,
    "start_time": "2022-12-25T14:42:00.389Z"
   },
   {
    "duration": 68,
    "start_time": "2022-12-25T14:42:00.408Z"
   },
   {
    "duration": 49,
    "start_time": "2022-12-25T14:42:00.480Z"
   },
   {
    "duration": 71,
    "start_time": "2022-12-25T14:42:00.531Z"
   },
   {
    "duration": 12,
    "start_time": "2022-12-25T14:42:00.604Z"
   },
   {
    "duration": 303,
    "start_time": "2022-12-25T14:42:00.618Z"
   },
   {
    "duration": 25,
    "start_time": "2022-12-25T14:42:00.923Z"
   },
   {
    "duration": 2364,
    "start_time": "2022-12-25T14:42:00.951Z"
   },
   {
    "duration": 275,
    "start_time": "2022-12-25T14:42:03.317Z"
   },
   {
    "duration": 62,
    "start_time": "2022-12-25T14:42:03.594Z"
   },
   {
    "duration": 8,
    "start_time": "2022-12-25T14:42:03.658Z"
   },
   {
    "duration": 13,
    "start_time": "2022-12-25T14:42:03.669Z"
   },
   {
    "duration": 17,
    "start_time": "2022-12-25T14:42:03.687Z"
   },
   {
    "duration": 7,
    "start_time": "2022-12-25T14:42:03.705Z"
   },
   {
    "duration": 8,
    "start_time": "2022-12-25T14:42:03.713Z"
   },
   {
    "duration": 466,
    "start_time": "2022-12-25T14:42:03.723Z"
   },
   {
    "duration": 10,
    "start_time": "2022-12-25T14:42:04.191Z"
   },
   {
    "duration": 19,
    "start_time": "2022-12-25T14:42:04.203Z"
   },
   {
    "duration": 13,
    "start_time": "2022-12-25T14:42:04.224Z"
   },
   {
    "duration": 49,
    "start_time": "2022-12-25T14:42:04.239Z"
   },
   {
    "duration": 18,
    "start_time": "2022-12-25T14:42:04.291Z"
   },
   {
    "duration": 15,
    "start_time": "2022-12-25T14:42:04.311Z"
   },
   {
    "duration": 20,
    "start_time": "2022-12-25T14:42:04.328Z"
   },
   {
    "duration": 24,
    "start_time": "2022-12-25T14:42:04.350Z"
   },
   {
    "duration": 21,
    "start_time": "2022-12-25T14:42:04.379Z"
   },
   {
    "duration": 11,
    "start_time": "2022-12-25T14:42:04.402Z"
   },
   {
    "duration": 11,
    "start_time": "2022-12-25T14:42:04.414Z"
   },
   {
    "duration": 634,
    "start_time": "2022-12-25T14:42:04.427Z"
   },
   {
    "duration": 164,
    "start_time": "2022-12-25T14:42:05.062Z"
   },
   {
    "duration": 7,
    "start_time": "2022-12-25T14:42:05.228Z"
   },
   {
    "duration": 14,
    "start_time": "2022-12-25T14:42:05.236Z"
   },
   {
    "duration": 17,
    "start_time": "2022-12-25T14:42:05.252Z"
   },
   {
    "duration": 19,
    "start_time": "2022-12-25T14:42:05.270Z"
   },
   {
    "duration": 12,
    "start_time": "2022-12-25T14:42:05.291Z"
   },
   {
    "duration": 11,
    "start_time": "2022-12-25T14:42:05.305Z"
   },
   {
    "duration": 7,
    "start_time": "2022-12-25T14:42:05.318Z"
   },
   {
    "duration": 17,
    "start_time": "2022-12-25T14:42:05.327Z"
   },
   {
    "duration": 8,
    "start_time": "2022-12-25T14:42:05.345Z"
   },
   {
    "duration": 10,
    "start_time": "2022-12-25T14:42:05.357Z"
   },
   {
    "duration": 43,
    "start_time": "2022-12-25T14:42:05.380Z"
   },
   {
    "duration": 80,
    "start_time": "2022-12-25T14:42:05.425Z"
   },
   {
    "duration": 13,
    "start_time": "2022-12-25T14:42:05.507Z"
   },
   {
    "duration": 11,
    "start_time": "2022-12-25T14:42:05.521Z"
   },
   {
    "duration": 20,
    "start_time": "2022-12-25T14:42:05.534Z"
   },
   {
    "duration": 449,
    "start_time": "2022-12-25T14:42:05.556Z"
   },
   {
    "duration": 34,
    "start_time": "2022-12-25T14:42:06.007Z"
   },
   {
    "duration": 4,
    "start_time": "2022-12-25T14:42:06.043Z"
   },
   {
    "duration": 434,
    "start_time": "2022-12-25T14:42:06.048Z"
   },
   {
    "duration": 3,
    "start_time": "2022-12-25T14:42:06.484Z"
   },
   {
    "duration": 603,
    "start_time": "2022-12-25T14:42:06.489Z"
   },
   {
    "duration": 9,
    "start_time": "2022-12-25T14:42:07.094Z"
   },
   {
    "duration": 275,
    "start_time": "2022-12-25T14:42:07.105Z"
   },
   {
    "duration": 25,
    "start_time": "2022-12-25T14:42:07.381Z"
   },
   {
    "duration": 29,
    "start_time": "2022-12-25T14:42:07.407Z"
   },
   {
    "duration": 357,
    "start_time": "2022-12-25T14:42:07.438Z"
   },
   {
    "duration": 285,
    "start_time": "2022-12-25T14:42:07.796Z"
   },
   {
    "duration": 35,
    "start_time": "2022-12-25T14:42:08.083Z"
   },
   {
    "duration": 41,
    "start_time": "2022-12-25T14:42:08.119Z"
   },
   {
    "duration": 28,
    "start_time": "2022-12-25T14:42:08.184Z"
   },
   {
    "duration": 387,
    "start_time": "2022-12-25T14:42:08.214Z"
   },
   {
    "duration": 1476,
    "start_time": "2022-12-25T14:42:08.603Z"
   },
   {
    "duration": 1058,
    "start_time": "2022-12-25T14:42:10.080Z"
   },
   {
    "duration": 1597,
    "start_time": "2022-12-25T14:42:11.140Z"
   },
   {
    "duration": 1470,
    "start_time": "2022-12-25T14:42:12.739Z"
   },
   {
    "duration": 100,
    "start_time": "2022-12-25T14:42:14.211Z"
   },
   {
    "duration": 1543,
    "start_time": "2022-12-25T14:42:14.312Z"
   },
   {
    "duration": 455,
    "start_time": "2022-12-25T14:42:15.857Z"
   },
   {
    "duration": 136,
    "start_time": "2022-12-25T14:42:16.314Z"
   },
   {
    "duration": 605,
    "start_time": "2022-12-25T14:42:16.451Z"
   },
   {
    "duration": 35,
    "start_time": "2022-12-25T14:42:17.058Z"
   },
   {
    "duration": 19,
    "start_time": "2022-12-25T14:42:17.095Z"
   },
   {
    "duration": 5,
    "start_time": "2022-12-25T14:42:17.115Z"
   },
   {
    "duration": 27,
    "start_time": "2022-12-25T14:42:17.122Z"
   },
   {
    "duration": 12,
    "start_time": "2022-12-25T14:42:17.150Z"
   },
   {
    "duration": 7,
    "start_time": "2022-12-25T14:42:17.183Z"
   },
   {
    "duration": 18,
    "start_time": "2022-12-25T14:42:17.192Z"
   },
   {
    "duration": 18,
    "start_time": "2022-12-25T14:42:17.212Z"
   },
   {
    "duration": 9,
    "start_time": "2022-12-25T14:42:17.231Z"
   },
   {
    "duration": 187,
    "start_time": "2022-12-25T14:45:05.278Z"
   },
   {
    "duration": 47,
    "start_time": "2022-12-25T14:45:11.227Z"
   },
   {
    "duration": 13,
    "start_time": "2022-12-25T14:45:17.577Z"
   },
   {
    "duration": 35,
    "start_time": "2022-12-25T14:45:48.754Z"
   },
   {
    "duration": 15,
    "start_time": "2022-12-25T14:45:53.794Z"
   },
   {
    "duration": 52,
    "start_time": "2022-12-25T14:45:58.684Z"
   }
  ],
  "datalore": {
   "base_environment": "default",
   "computation_mode": "JUPYTER",
   "package_manager": "pip",
   "packages": [],
   "version": 1
  },
  "kernelspec": {
   "display_name": "Python 3 (ipykernel)",
   "language": "python",
   "name": "python3"
  },
  "language_info": {
   "codemirror_mode": {
    "name": "ipython",
    "version": 3
   },
   "file_extension": ".py",
   "mimetype": "text/x-python",
   "name": "python",
   "nbconvert_exporter": "python",
   "pygments_lexer": "ipython3",
   "version": "3.9.12"
  },
  "toc": {
   "base_numbering": 1,
   "nav_menu": {
    "height": "568px",
    "width": "312px"
   },
   "number_sections": true,
   "sideBar": true,
   "skip_h1_title": false,
   "title_cell": "Table of Contents",
   "title_sidebar": "Contents",
   "toc_cell": false,
   "toc_position": {},
   "toc_section_display": true,
   "toc_window_display": false
  }
 },
 "nbformat": 4,
 "nbformat_minor": 4
}
