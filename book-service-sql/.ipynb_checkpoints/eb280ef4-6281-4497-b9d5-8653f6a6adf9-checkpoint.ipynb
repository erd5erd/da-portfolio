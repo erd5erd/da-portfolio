{
 "cells": [
  {
   "cell_type": "markdown",
   "id": "e604c728",
   "metadata": {},
   "source": [
    "# Знакомство с базой данных книжного сервиса"
   ]
  },
  {
   "cell_type": "markdown",
   "id": "516f0544",
   "metadata": {},
   "source": [
    "Моя компания купила крупный сервис для чтения книг по подписке. Теперь моей первой задачей станет - проанализировать базу данных.\n",
    "\n",
    "Для её выполнения нужно:\n",
    "1. Исследовать базу данных;\n",
    "2. Необходимо:\n",
    "    - Посчитать, сколько книг вышло после 1 января 2000 года;\n",
    "    - Для каждой книги посчитать количество обзоров и среднюю оценку;\n",
    "    - Определить издательство, которое выпустило наибольшее число книг толще 50 страниц — таким образом исключаем из анализа брошюры;\n",
    "    - Определить автора с самой высокой средней оценкой книг — учитывать только книги с 50 и более оценками;\n",
    "    - Посчитать среднее количество обзоров от пользователей, которые поставили больше 50 оценок."
   ]
  },
  {
   "cell_type": "code",
   "execution_count": 25,
   "id": "447b9f51",
   "metadata": {
    "ExecuteTime": {
     "end_time": "2022-12-23T08:09:01.945588Z",
     "start_time": "2022-12-23T08:09:01.909996Z"
    }
   },
   "outputs": [],
   "source": [
    "# импортируем библиотеки\n",
    "import pandas as pd\n",
    "from sqlalchemy import create_engine"
   ]
  },
  {
   "cell_type": "code",
   "execution_count": 2,
   "id": "6093342a",
   "metadata": {
    "ExecuteTime": {
     "end_time": "2022-12-23T08:09:01.975981Z",
     "start_time": "2022-12-23T08:09:01.959316Z"
    }
   },
   "outputs": [],
   "source": [
    "# устанавливаем параметры\n",
    "db_config = {\n",
    "    'user': 'praktikum_student', # имя пользователя\n",
    "    'pwd': 'Sdf4$2;d-d30pp', # пароль\n",
    "    'host': 'rc1b-wcoijxj3yxfsf3fs.mdb.yandexcloud.net',\n",
    "    'port': 6432, # порт подключения\n",
    "    'db': 'data-analyst-final-project-db' # название базы данных\n",
    "}"
   ]
  },
  {
   "cell_type": "code",
   "execution_count": 3,
   "id": "ba136c5e",
   "metadata": {
    "ExecuteTime": {
     "end_time": "2022-12-23T08:09:02.016213Z",
     "start_time": "2022-12-23T08:09:02.000237Z"
    }
   },
   "outputs": [],
   "source": [
    "connection_string = 'postgresql://{}:{}@{}:{}/{}'.format(db_config['user'],\n",
    " db_config['pwd'],\n",
    " db_config['host'],\n",
    " db_config['port'],\n",
    " db_config['db'])"
   ]
  },
  {
   "cell_type": "code",
   "execution_count": 4,
   "id": "443fdc64",
   "metadata": {
    "ExecuteTime": {
     "end_time": "2022-12-23T08:09:02.343490Z",
     "start_time": "2022-12-23T08:09:02.309267Z"
    }
   },
   "outputs": [],
   "source": [
    "# сохраняем коннектор\n",
    "engine = create_engine(connection_string, connect_args={'sslmode':'require'}) "
   ]
  },
  {
   "cell_type": "markdown",
   "id": "d5f802af",
   "metadata": {},
   "source": [
    "## Исследование базы данных"
   ]
  },
  {
   "cell_type": "markdown",
   "id": "17af73ce",
   "metadata": {},
   "source": [
    "### books"
   ]
  },
  {
   "cell_type": "code",
   "execution_count": 17,
   "id": "9607236f",
   "metadata": {},
   "outputs": [
    {
     "data": {
      "text/html": [
       "<div>\n",
       "<style scoped>\n",
       "    .dataframe tbody tr th:only-of-type {\n",
       "        vertical-align: middle;\n",
       "    }\n",
       "\n",
       "    .dataframe tbody tr th {\n",
       "        vertical-align: top;\n",
       "    }\n",
       "\n",
       "    .dataframe thead th {\n",
       "        text-align: right;\n",
       "    }\n",
       "</style>\n",
       "<table border=\"1\" class=\"dataframe\">\n",
       "  <thead>\n",
       "    <tr style=\"text-align: right;\">\n",
       "      <th></th>\n",
       "      <th>book_id</th>\n",
       "      <th>author_id</th>\n",
       "      <th>title</th>\n",
       "      <th>num_pages</th>\n",
       "      <th>publication_date</th>\n",
       "      <th>publisher_id</th>\n",
       "      <th>table_size</th>\n",
       "    </tr>\n",
       "  </thead>\n",
       "  <tbody>\n",
       "    <tr>\n",
       "      <th>0</th>\n",
       "      <td>1</td>\n",
       "      <td>546</td>\n",
       "      <td>'Salem's Lot</td>\n",
       "      <td>594</td>\n",
       "      <td>2005-11-01</td>\n",
       "      <td>93</td>\n",
       "      <td>1000</td>\n",
       "    </tr>\n",
       "    <tr>\n",
       "      <th>1</th>\n",
       "      <td>2</td>\n",
       "      <td>465</td>\n",
       "      <td>1 000 Places to See Before You Die</td>\n",
       "      <td>992</td>\n",
       "      <td>2003-05-22</td>\n",
       "      <td>336</td>\n",
       "      <td>1000</td>\n",
       "    </tr>\n",
       "    <tr>\n",
       "      <th>2</th>\n",
       "      <td>3</td>\n",
       "      <td>407</td>\n",
       "      <td>13 Little Blue Envelopes (Little Blue Envelope...</td>\n",
       "      <td>322</td>\n",
       "      <td>2010-12-21</td>\n",
       "      <td>135</td>\n",
       "      <td>1000</td>\n",
       "    </tr>\n",
       "    <tr>\n",
       "      <th>3</th>\n",
       "      <td>4</td>\n",
       "      <td>82</td>\n",
       "      <td>1491: New Revelations of the Americas Before C...</td>\n",
       "      <td>541</td>\n",
       "      <td>2006-10-10</td>\n",
       "      <td>309</td>\n",
       "      <td>1000</td>\n",
       "    </tr>\n",
       "    <tr>\n",
       "      <th>4</th>\n",
       "      <td>5</td>\n",
       "      <td>125</td>\n",
       "      <td>1776</td>\n",
       "      <td>386</td>\n",
       "      <td>2006-07-04</td>\n",
       "      <td>268</td>\n",
       "      <td>1000</td>\n",
       "    </tr>\n",
       "  </tbody>\n",
       "</table>\n",
       "</div>"
      ],
      "text/plain": [
       "   book_id  author_id                                              title  \\\n",
       "0        1        546                                       'Salem's Lot   \n",
       "1        2        465                 1 000 Places to See Before You Die   \n",
       "2        3        407  13 Little Blue Envelopes (Little Blue Envelope...   \n",
       "3        4         82  1491: New Revelations of the Americas Before C...   \n",
       "4        5        125                                               1776   \n",
       "\n",
       "   num_pages publication_date  publisher_id  table_size  \n",
       "0        594       2005-11-01            93        1000  \n",
       "1        992       2003-05-22           336        1000  \n",
       "2        322       2010-12-21           135        1000  \n",
       "3        541       2006-10-10           309        1000  \n",
       "4        386       2006-07-04           268        1000  "
      ]
     },
     "execution_count": 17,
     "metadata": {},
     "output_type": "execute_result"
    }
   ],
   "source": [
    "query_b = '''\n",
    "    \n",
    "    SELECT *,\n",
    "        COUNT(*) OVER () AS table_size\n",
    "    FROM books\n",
    "    LIMIT 5\n",
    "    \n",
    "'''\n",
    "pd.io.sql.read_sql(query_b, con = engine) "
   ]
  },
  {
   "cell_type": "markdown",
   "id": "9c7ef03a",
   "metadata": {},
   "source": [
    "Эта таблица содержит данные о книгах:\n",
    "- `book_id` — идентификатор книги (первичный ключ);\n",
    "- `author_id` — идентификатор автора (внешний ключ);\n",
    "- `title` — название книги;\n",
    "- `num_pages` — количество страниц;\n",
    "- `publication_date` — дата публикации книги;\n",
    "- `publisher_id` — идентификатор издателя (внешний ключ).\n",
    "\n",
    "Объем этой таблицы: 1000 записей."
   ]
  },
  {
   "cell_type": "markdown",
   "id": "10face2a",
   "metadata": {},
   "source": [
    "### authors"
   ]
  },
  {
   "cell_type": "code",
   "execution_count": 18,
   "id": "35fb9fef",
   "metadata": {},
   "outputs": [
    {
     "data": {
      "text/html": [
       "<div>\n",
       "<style scoped>\n",
       "    .dataframe tbody tr th:only-of-type {\n",
       "        vertical-align: middle;\n",
       "    }\n",
       "\n",
       "    .dataframe tbody tr th {\n",
       "        vertical-align: top;\n",
       "    }\n",
       "\n",
       "    .dataframe thead th {\n",
       "        text-align: right;\n",
       "    }\n",
       "</style>\n",
       "<table border=\"1\" class=\"dataframe\">\n",
       "  <thead>\n",
       "    <tr style=\"text-align: right;\">\n",
       "      <th></th>\n",
       "      <th>author_id</th>\n",
       "      <th>author</th>\n",
       "      <th>table_size</th>\n",
       "    </tr>\n",
       "  </thead>\n",
       "  <tbody>\n",
       "    <tr>\n",
       "      <th>0</th>\n",
       "      <td>1</td>\n",
       "      <td>A.S. Byatt</td>\n",
       "      <td>636</td>\n",
       "    </tr>\n",
       "    <tr>\n",
       "      <th>1</th>\n",
       "      <td>2</td>\n",
       "      <td>Aesop/Laura Harris/Laura Gibbs</td>\n",
       "      <td>636</td>\n",
       "    </tr>\n",
       "    <tr>\n",
       "      <th>2</th>\n",
       "      <td>3</td>\n",
       "      <td>Agatha Christie</td>\n",
       "      <td>636</td>\n",
       "    </tr>\n",
       "    <tr>\n",
       "      <th>3</th>\n",
       "      <td>4</td>\n",
       "      <td>Alan Brennert</td>\n",
       "      <td>636</td>\n",
       "    </tr>\n",
       "    <tr>\n",
       "      <th>4</th>\n",
       "      <td>5</td>\n",
       "      <td>Alan Moore/David   Lloyd</td>\n",
       "      <td>636</td>\n",
       "    </tr>\n",
       "  </tbody>\n",
       "</table>\n",
       "</div>"
      ],
      "text/plain": [
       "   author_id                          author  table_size\n",
       "0          1                      A.S. Byatt         636\n",
       "1          2  Aesop/Laura Harris/Laura Gibbs         636\n",
       "2          3                 Agatha Christie         636\n",
       "3          4                   Alan Brennert         636\n",
       "4          5        Alan Moore/David   Lloyd         636"
      ]
     },
     "execution_count": 18,
     "metadata": {},
     "output_type": "execute_result"
    }
   ],
   "source": [
    "query_a = '''\n",
    "    \n",
    "    SELECT *,\n",
    "        COUNT(*) OVER () AS table_size\n",
    "    FROM authors\n",
    "    LIMIT 5\n",
    "    \n",
    "'''\n",
    "pd.io.sql.read_sql(query_a, con = engine) "
   ]
  },
  {
   "cell_type": "markdown",
   "id": "7b2537c7",
   "metadata": {},
   "source": [
    "Таблица хранит данные об авторах:\n",
    "- `author_id` — идентификатор автора (первичный ключ);\n",
    "- `author` — имя автора.\n",
    "\n",
    "Объем этой таблицы: 636 строк."
   ]
  },
  {
   "cell_type": "markdown",
   "id": "8bacf020",
   "metadata": {},
   "source": [
    "### publishers"
   ]
  },
  {
   "cell_type": "code",
   "execution_count": 19,
   "id": "91e8986f",
   "metadata": {},
   "outputs": [
    {
     "data": {
      "text/html": [
       "<div>\n",
       "<style scoped>\n",
       "    .dataframe tbody tr th:only-of-type {\n",
       "        vertical-align: middle;\n",
       "    }\n",
       "\n",
       "    .dataframe tbody tr th {\n",
       "        vertical-align: top;\n",
       "    }\n",
       "\n",
       "    .dataframe thead th {\n",
       "        text-align: right;\n",
       "    }\n",
       "</style>\n",
       "<table border=\"1\" class=\"dataframe\">\n",
       "  <thead>\n",
       "    <tr style=\"text-align: right;\">\n",
       "      <th></th>\n",
       "      <th>publisher_id</th>\n",
       "      <th>publisher</th>\n",
       "      <th>table_size</th>\n",
       "    </tr>\n",
       "  </thead>\n",
       "  <tbody>\n",
       "    <tr>\n",
       "      <th>0</th>\n",
       "      <td>1</td>\n",
       "      <td>Ace</td>\n",
       "      <td>340</td>\n",
       "    </tr>\n",
       "    <tr>\n",
       "      <th>1</th>\n",
       "      <td>2</td>\n",
       "      <td>Ace Book</td>\n",
       "      <td>340</td>\n",
       "    </tr>\n",
       "    <tr>\n",
       "      <th>2</th>\n",
       "      <td>3</td>\n",
       "      <td>Ace Books</td>\n",
       "      <td>340</td>\n",
       "    </tr>\n",
       "    <tr>\n",
       "      <th>3</th>\n",
       "      <td>4</td>\n",
       "      <td>Ace Hardcover</td>\n",
       "      <td>340</td>\n",
       "    </tr>\n",
       "    <tr>\n",
       "      <th>4</th>\n",
       "      <td>5</td>\n",
       "      <td>Addison Wesley Publishing Company</td>\n",
       "      <td>340</td>\n",
       "    </tr>\n",
       "  </tbody>\n",
       "</table>\n",
       "</div>"
      ],
      "text/plain": [
       "   publisher_id                          publisher  table_size\n",
       "0             1                                Ace         340\n",
       "1             2                           Ace Book         340\n",
       "2             3                          Ace Books         340\n",
       "3             4                      Ace Hardcover         340\n",
       "4             5  Addison Wesley Publishing Company         340"
      ]
     },
     "execution_count": 19,
     "metadata": {},
     "output_type": "execute_result"
    }
   ],
   "source": [
    "query_p = '''\n",
    "    \n",
    "    SELECT *,\n",
    "        COUNT(*) OVER () AS table_size\n",
    "    FROM publishers\n",
    "    LIMIT 5\n",
    "    \n",
    "'''\n",
    "pd.io.sql.read_sql(query_p, con = engine) "
   ]
  },
  {
   "cell_type": "markdown",
   "id": "e0759e3c",
   "metadata": {},
   "source": [
    "Таблица содержит данные об издательствах:\n",
    "- `publisher_id` — идентификатор издательства (первичный ключ);\n",
    "- `publisher` — название издательства.\n",
    "\n",
    "Объем таблицы: 340 строк."
   ]
  },
  {
   "cell_type": "markdown",
   "id": "cc7dc7d2",
   "metadata": {},
   "source": [
    "### ratings"
   ]
  },
  {
   "cell_type": "code",
   "execution_count": 20,
   "id": "e7a056df",
   "metadata": {},
   "outputs": [
    {
     "data": {
      "text/html": [
       "<div>\n",
       "<style scoped>\n",
       "    .dataframe tbody tr th:only-of-type {\n",
       "        vertical-align: middle;\n",
       "    }\n",
       "\n",
       "    .dataframe tbody tr th {\n",
       "        vertical-align: top;\n",
       "    }\n",
       "\n",
       "    .dataframe thead th {\n",
       "        text-align: right;\n",
       "    }\n",
       "</style>\n",
       "<table border=\"1\" class=\"dataframe\">\n",
       "  <thead>\n",
       "    <tr style=\"text-align: right;\">\n",
       "      <th></th>\n",
       "      <th>rating_id</th>\n",
       "      <th>book_id</th>\n",
       "      <th>username</th>\n",
       "      <th>rating</th>\n",
       "      <th>table_size</th>\n",
       "    </tr>\n",
       "  </thead>\n",
       "  <tbody>\n",
       "    <tr>\n",
       "      <th>0</th>\n",
       "      <td>1</td>\n",
       "      <td>1</td>\n",
       "      <td>ryanfranco</td>\n",
       "      <td>4</td>\n",
       "      <td>6456</td>\n",
       "    </tr>\n",
       "    <tr>\n",
       "      <th>1</th>\n",
       "      <td>2</td>\n",
       "      <td>1</td>\n",
       "      <td>grantpatricia</td>\n",
       "      <td>2</td>\n",
       "      <td>6456</td>\n",
       "    </tr>\n",
       "    <tr>\n",
       "      <th>2</th>\n",
       "      <td>3</td>\n",
       "      <td>1</td>\n",
       "      <td>brandtandrea</td>\n",
       "      <td>5</td>\n",
       "      <td>6456</td>\n",
       "    </tr>\n",
       "    <tr>\n",
       "      <th>3</th>\n",
       "      <td>4</td>\n",
       "      <td>2</td>\n",
       "      <td>lorichen</td>\n",
       "      <td>3</td>\n",
       "      <td>6456</td>\n",
       "    </tr>\n",
       "    <tr>\n",
       "      <th>4</th>\n",
       "      <td>5</td>\n",
       "      <td>2</td>\n",
       "      <td>mariokeller</td>\n",
       "      <td>2</td>\n",
       "      <td>6456</td>\n",
       "    </tr>\n",
       "  </tbody>\n",
       "</table>\n",
       "</div>"
      ],
      "text/plain": [
       "   rating_id  book_id       username  rating  table_size\n",
       "0          1        1     ryanfranco       4        6456\n",
       "1          2        1  grantpatricia       2        6456\n",
       "2          3        1   brandtandrea       5        6456\n",
       "3          4        2       lorichen       3        6456\n",
       "4          5        2    mariokeller       2        6456"
      ]
     },
     "execution_count": 20,
     "metadata": {},
     "output_type": "execute_result"
    }
   ],
   "source": [
    "query_rat = '''\n",
    "    \n",
    "    SELECT *,\n",
    "        COUNT(*) OVER () AS table_size\n",
    "    FROM ratings\n",
    "    LIMIT 5\n",
    "    \n",
    "'''\n",
    "pd.io.sql.read_sql(query_rat, con = engine) "
   ]
  },
  {
   "cell_type": "markdown",
   "id": "4ffbb6e2",
   "metadata": {},
   "source": [
    "Таблица имеет данные о пользовательских оценках книг:\n",
    "- `rating_id` — идентификатор оценки (первичный ключ);\n",
    "- `book_id` — идентификатор книги (внешний ключ);\n",
    "- `username` — имя пользователя, оставившего оценку;\n",
    "- `rating` — оценка книги.\n",
    "\n",
    "Объем этой таблицы: 6456 записей."
   ]
  },
  {
   "cell_type": "markdown",
   "id": "9430fba5",
   "metadata": {},
   "source": [
    "### reviews"
   ]
  },
  {
   "cell_type": "code",
   "execution_count": 21,
   "id": "95cd3ce2",
   "metadata": {},
   "outputs": [
    {
     "data": {
      "text/html": [
       "<div>\n",
       "<style scoped>\n",
       "    .dataframe tbody tr th:only-of-type {\n",
       "        vertical-align: middle;\n",
       "    }\n",
       "\n",
       "    .dataframe tbody tr th {\n",
       "        vertical-align: top;\n",
       "    }\n",
       "\n",
       "    .dataframe thead th {\n",
       "        text-align: right;\n",
       "    }\n",
       "</style>\n",
       "<table border=\"1\" class=\"dataframe\">\n",
       "  <thead>\n",
       "    <tr style=\"text-align: right;\">\n",
       "      <th></th>\n",
       "      <th>review_id</th>\n",
       "      <th>book_id</th>\n",
       "      <th>username</th>\n",
       "      <th>text</th>\n",
       "      <th>table_size</th>\n",
       "    </tr>\n",
       "  </thead>\n",
       "  <tbody>\n",
       "    <tr>\n",
       "      <th>0</th>\n",
       "      <td>1</td>\n",
       "      <td>1</td>\n",
       "      <td>brandtandrea</td>\n",
       "      <td>Mention society tell send professor analysis. ...</td>\n",
       "      <td>2793</td>\n",
       "    </tr>\n",
       "    <tr>\n",
       "      <th>1</th>\n",
       "      <td>2</td>\n",
       "      <td>1</td>\n",
       "      <td>ryanfranco</td>\n",
       "      <td>Foot glass pretty audience hit themselves. Amo...</td>\n",
       "      <td>2793</td>\n",
       "    </tr>\n",
       "    <tr>\n",
       "      <th>2</th>\n",
       "      <td>3</td>\n",
       "      <td>2</td>\n",
       "      <td>lorichen</td>\n",
       "      <td>Listen treat keep worry. Miss husband tax but ...</td>\n",
       "      <td>2793</td>\n",
       "    </tr>\n",
       "    <tr>\n",
       "      <th>3</th>\n",
       "      <td>4</td>\n",
       "      <td>3</td>\n",
       "      <td>johnsonamanda</td>\n",
       "      <td>Finally month interesting blue could nature cu...</td>\n",
       "      <td>2793</td>\n",
       "    </tr>\n",
       "    <tr>\n",
       "      <th>4</th>\n",
       "      <td>5</td>\n",
       "      <td>3</td>\n",
       "      <td>scotttamara</td>\n",
       "      <td>Nation purpose heavy give wait song will. List...</td>\n",
       "      <td>2793</td>\n",
       "    </tr>\n",
       "  </tbody>\n",
       "</table>\n",
       "</div>"
      ],
      "text/plain": [
       "   review_id  book_id       username  \\\n",
       "0          1        1   brandtandrea   \n",
       "1          2        1     ryanfranco   \n",
       "2          3        2       lorichen   \n",
       "3          4        3  johnsonamanda   \n",
       "4          5        3    scotttamara   \n",
       "\n",
       "                                                text  table_size  \n",
       "0  Mention society tell send professor analysis. ...        2793  \n",
       "1  Foot glass pretty audience hit themselves. Amo...        2793  \n",
       "2  Listen treat keep worry. Miss husband tax but ...        2793  \n",
       "3  Finally month interesting blue could nature cu...        2793  \n",
       "4  Nation purpose heavy give wait song will. List...        2793  "
      ]
     },
     "execution_count": 21,
     "metadata": {},
     "output_type": "execute_result"
    }
   ],
   "source": [
    "query_rev = '''\n",
    "    \n",
    "    SELECT *,\n",
    "        COUNT(*) OVER () AS table_size\n",
    "    FROM reviews\n",
    "    LIMIT 5\n",
    "    \n",
    "'''\n",
    "pd.io.sql.read_sql(query_rev, con = engine) "
   ]
  },
  {
   "cell_type": "markdown",
   "id": "d17dff01",
   "metadata": {},
   "source": [
    "Таблица хранит данные о пользовательских обзорах на книги:\n",
    "- `review_id` — идентификатор обзора (первичный ключ);\n",
    "- `book_id` — идентификатор книги (внешний ключ);\n",
    "- `username` — имя пользователя, написавшего обзор;\n",
    "- `text` — текст обзора.\n",
    "\n",
    "Объем этой таблицы: 2793 строки."
   ]
  },
  {
   "cell_type": "markdown",
   "id": "fcffdb34",
   "metadata": {},
   "source": [
    "## Написание запросов"
   ]
  },
  {
   "cell_type": "markdown",
   "id": "416096cf",
   "metadata": {},
   "source": [
    "### Задание 1"
   ]
  },
  {
   "cell_type": "markdown",
   "id": "9f79c232",
   "metadata": {},
   "source": [
    "Посчитайте, сколько книг вышло после 1 января 2000 года:"
   ]
  },
  {
   "cell_type": "code",
   "execution_count": 11,
   "id": "e3debe5d",
   "metadata": {},
   "outputs": [
    {
     "data": {
      "text/html": [
       "<div>\n",
       "<style scoped>\n",
       "    .dataframe tbody tr th:only-of-type {\n",
       "        vertical-align: middle;\n",
       "    }\n",
       "\n",
       "    .dataframe tbody tr th {\n",
       "        vertical-align: top;\n",
       "    }\n",
       "\n",
       "    .dataframe thead th {\n",
       "        text-align: right;\n",
       "    }\n",
       "</style>\n",
       "<table border=\"1\" class=\"dataframe\">\n",
       "  <thead>\n",
       "    <tr style=\"text-align: right;\">\n",
       "      <th></th>\n",
       "      <th>count</th>\n",
       "    </tr>\n",
       "  </thead>\n",
       "  <tbody>\n",
       "    <tr>\n",
       "      <th>0</th>\n",
       "      <td>819</td>\n",
       "    </tr>\n",
       "  </tbody>\n",
       "</table>\n",
       "</div>"
      ],
      "text/plain": [
       "   count\n",
       "0    819"
      ]
     },
     "execution_count": 11,
     "metadata": {},
     "output_type": "execute_result"
    }
   ],
   "source": [
    "query_1 = '''\n",
    "    \n",
    "    SELECT\n",
    "        COUNT(book_id)\n",
    "    FROM books AS b\n",
    "    WHERE publication_date > '2000-01-01'\n",
    "    \n",
    "'''\n",
    "pd.io.sql.read_sql(query_1, con = engine) "
   ]
  },
  {
   "cell_type": "markdown",
   "id": "213db3e3",
   "metadata": {},
   "source": [
    "Вышло 819 книг после 1 января 2000 года."
   ]
  },
  {
   "cell_type": "markdown",
   "id": "0dcf3d8b",
   "metadata": {},
   "source": [
    "### Задание 2"
   ]
  },
  {
   "cell_type": "markdown",
   "id": "7ee58e13",
   "metadata": {},
   "source": [
    "Для каждой книги посчитайте количество обзоров и среднюю оценку:"
   ]
  },
  {
   "cell_type": "code",
   "execution_count": 27,
   "id": "464f7066",
   "metadata": {},
   "outputs": [
    {
     "data": {
      "text/html": [
       "<div>\n",
       "<style scoped>\n",
       "    .dataframe tbody tr th:only-of-type {\n",
       "        vertical-align: middle;\n",
       "    }\n",
       "\n",
       "    .dataframe tbody tr th {\n",
       "        vertical-align: top;\n",
       "    }\n",
       "\n",
       "    .dataframe thead th {\n",
       "        text-align: right;\n",
       "    }\n",
       "</style>\n",
       "<table border=\"1\" class=\"dataframe\">\n",
       "  <thead>\n",
       "    <tr style=\"text-align: right;\">\n",
       "      <th></th>\n",
       "      <th>book_id</th>\n",
       "      <th>count</th>\n",
       "      <th>avg</th>\n",
       "    </tr>\n",
       "  </thead>\n",
       "  <tbody>\n",
       "    <tr>\n",
       "      <th>0</th>\n",
       "      <td>1</td>\n",
       "      <td>2</td>\n",
       "      <td>3.666667</td>\n",
       "    </tr>\n",
       "    <tr>\n",
       "      <th>1</th>\n",
       "      <td>2</td>\n",
       "      <td>1</td>\n",
       "      <td>2.500000</td>\n",
       "    </tr>\n",
       "    <tr>\n",
       "      <th>2</th>\n",
       "      <td>3</td>\n",
       "      <td>3</td>\n",
       "      <td>4.666667</td>\n",
       "    </tr>\n",
       "    <tr>\n",
       "      <th>3</th>\n",
       "      <td>4</td>\n",
       "      <td>2</td>\n",
       "      <td>4.500000</td>\n",
       "    </tr>\n",
       "    <tr>\n",
       "      <th>4</th>\n",
       "      <td>5</td>\n",
       "      <td>4</td>\n",
       "      <td>4.000000</td>\n",
       "    </tr>\n",
       "    <tr>\n",
       "      <th>...</th>\n",
       "      <td>...</td>\n",
       "      <td>...</td>\n",
       "      <td>...</td>\n",
       "    </tr>\n",
       "    <tr>\n",
       "      <th>995</th>\n",
       "      <td>996</td>\n",
       "      <td>3</td>\n",
       "      <td>3.666667</td>\n",
       "    </tr>\n",
       "    <tr>\n",
       "      <th>996</th>\n",
       "      <td>997</td>\n",
       "      <td>3</td>\n",
       "      <td>3.400000</td>\n",
       "    </tr>\n",
       "    <tr>\n",
       "      <th>997</th>\n",
       "      <td>998</td>\n",
       "      <td>4</td>\n",
       "      <td>3.200000</td>\n",
       "    </tr>\n",
       "    <tr>\n",
       "      <th>998</th>\n",
       "      <td>999</td>\n",
       "      <td>2</td>\n",
       "      <td>4.500000</td>\n",
       "    </tr>\n",
       "    <tr>\n",
       "      <th>999</th>\n",
       "      <td>1000</td>\n",
       "      <td>4</td>\n",
       "      <td>3.833333</td>\n",
       "    </tr>\n",
       "  </tbody>\n",
       "</table>\n",
       "<p>1000 rows × 3 columns</p>\n",
       "</div>"
      ],
      "text/plain": [
       "     book_id  count       avg\n",
       "0          1      2  3.666667\n",
       "1          2      1  2.500000\n",
       "2          3      3  4.666667\n",
       "3          4      2  4.500000\n",
       "4          5      4  4.000000\n",
       "..       ...    ...       ...\n",
       "995      996      3  3.666667\n",
       "996      997      3  3.400000\n",
       "997      998      4  3.200000\n",
       "998      999      2  4.500000\n",
       "999     1000      4  3.833333\n",
       "\n",
       "[1000 rows x 3 columns]"
      ]
     },
     "execution_count": 27,
     "metadata": {},
     "output_type": "execute_result"
    }
   ],
   "source": [
    "query_2 = '''\n",
    "\n",
    "    SELECT \n",
    "        b.book_id,\n",
    "        COUNT(DISTINCT rev.review_id),\n",
    "        AVG(rat.rating)\n",
    "    FROM books AS b\n",
    "    LEFT JOIN ratings AS rat ON rat.book_id = b.book_id\n",
    "    LEFT JOIN reviews AS rev ON rev.book_id = b.book_id\n",
    "    GROUP BY b.book_id\n",
    "\n",
    "'''\n",
    "\n",
    "books_cnt = pd.io.sql.read_sql(query_2, con = engine) \n",
    "\n",
    "books_cnt"
   ]
  },
  {
   "cell_type": "markdown",
   "id": "35ae7bc0",
   "metadata": {},
   "source": [
    "Получили таблицу с идентификатором, заголовком, количеством обзоров и средним рейтингом книги."
   ]
  },
  {
   "cell_type": "code",
   "execution_count": 30,
   "id": "fdb6ce78",
   "metadata": {},
   "outputs": [
    {
     "data": {
      "text/plain": [
       "<AxesSubplot: >"
      ]
     },
     "execution_count": 30,
     "metadata": {},
     "output_type": "execute_result"
    },
    {
     "data": {
      "image/png": "[encoded data removed]",
      "text/plain": [
       "<Figure size 640x480 with 1 Axes>"
      ]
     },
     "metadata": {},
     "output_type": "display_data"
    }
   ],
   "source": [
    "books_cnt[['count', 'avg']].boxplot()"
   ]
  },
  {
   "cell_type": "markdown",
   "id": "8d641861",
   "metadata": {},
   "source": [
    "Большинство книг имеет до 4 обзоров и среднюю оценку не ниже 2,5 баллов."
   ]
  },
  {
   "cell_type": "markdown",
   "id": "081735d1",
   "metadata": {},
   "source": [
    "### Задание 3"
   ]
  },
  {
   "cell_type": "markdown",
   "id": "db04c19e",
   "metadata": {},
   "source": [
    "Определите издательство, которое выпустило наибольшее число книг толще 50 страниц — так вы исключите из анализа брошюры:"
   ]
  },
  {
   "cell_type": "code",
   "execution_count": 14,
   "id": "0f102607",
   "metadata": {},
   "outputs": [
    {
     "data": {
      "text/html": [
       "<div>\n",
       "<style scoped>\n",
       "    .dataframe tbody tr th:only-of-type {\n",
       "        vertical-align: middle;\n",
       "    }\n",
       "\n",
       "    .dataframe tbody tr th {\n",
       "        vertical-align: top;\n",
       "    }\n",
       "\n",
       "    .dataframe thead th {\n",
       "        text-align: right;\n",
       "    }\n",
       "</style>\n",
       "<table border=\"1\" class=\"dataframe\">\n",
       "  <thead>\n",
       "    <tr style=\"text-align: right;\">\n",
       "      <th></th>\n",
       "      <th>publisher</th>\n",
       "      <th>book_cnt</th>\n",
       "    </tr>\n",
       "  </thead>\n",
       "  <tbody>\n",
       "    <tr>\n",
       "      <th>0</th>\n",
       "      <td>Penguin Books</td>\n",
       "      <td>42</td>\n",
       "    </tr>\n",
       "  </tbody>\n",
       "</table>\n",
       "</div>"
      ],
      "text/plain": [
       "       publisher  book_cnt\n",
       "0  Penguin Books        42"
      ]
     },
     "execution_count": 14,
     "metadata": {},
     "output_type": "execute_result"
    }
   ],
   "source": [
    "query_3 = '''\n",
    "\n",
    "WITH \n",
    "max AS (\n",
    "    SELECT\n",
    "        publisher_id,\n",
    "        COUNT(book_id) AS book_cnt\n",
    "    FROM books\n",
    "    WHERE num_pages > 50\n",
    "    GROUP BY publisher_id\n",
    "    ORDER BY book_cnt DESC\n",
    "    LIMIT 1\n",
    ")\n",
    "\n",
    "    SELECT\n",
    "        publisher,\n",
    "        book_cnt\n",
    "    FROM publishers AS p\n",
    "    JOIN max ON p.publisher_id = max.publisher_id\n",
    "    \n",
    "'''\n",
    "\n",
    "pd.io.sql.read_sql(query_3, con = engine) "
   ]
  },
  {
   "cell_type": "markdown",
   "id": "cedc0eb4",
   "metadata": {},
   "source": [
    "Больше всего книг выпустило *Penguin Books* - 42 книги."
   ]
  },
  {
   "cell_type": "markdown",
   "id": "1e9e2227",
   "metadata": {},
   "source": [
    "### Задание 4"
   ]
  },
  {
   "cell_type": "markdown",
   "id": "bb47b756",
   "metadata": {},
   "source": [
    "Определите автора с самой высокой средней оценкой книг — учитывайте только книги с 50 и более оценками."
   ]
  },
  {
   "cell_type": "code",
   "execution_count": 15,
   "id": "3ddcb369",
   "metadata": {},
   "outputs": [
    {
     "data": {
      "text/html": [
       "<div>\n",
       "<style scoped>\n",
       "    .dataframe tbody tr th:only-of-type {\n",
       "        vertical-align: middle;\n",
       "    }\n",
       "\n",
       "    .dataframe tbody tr th {\n",
       "        vertical-align: top;\n",
       "    }\n",
       "\n",
       "    .dataframe thead th {\n",
       "        text-align: right;\n",
       "    }\n",
       "</style>\n",
       "<table border=\"1\" class=\"dataframe\">\n",
       "  <thead>\n",
       "    <tr style=\"text-align: right;\">\n",
       "      <th></th>\n",
       "      <th>author</th>\n",
       "      <th>avg_rating</th>\n",
       "    </tr>\n",
       "  </thead>\n",
       "  <tbody>\n",
       "    <tr>\n",
       "      <th>0</th>\n",
       "      <td>J.K. Rowling/Mary GrandPré</td>\n",
       "      <td>4.283844</td>\n",
       "    </tr>\n",
       "  </tbody>\n",
       "</table>\n",
       "</div>"
      ],
      "text/plain": [
       "                       author  avg_rating\n",
       "0  J.K. Rowling/Mary GrandPré    4.283844"
      ]
     },
     "execution_count": 15,
     "metadata": {},
     "output_type": "execute_result"
    }
   ],
   "source": [
    "query_4 = '''\n",
    "\n",
    "WITH\n",
    "a AS (   \n",
    "    SELECT\n",
    "        book_id\n",
    "        , AVG(rating) AS book_rating\n",
    "    FROM ratings\n",
    "    GROUP BY book_id\n",
    "    HAVING COUNT(rating_id) >= 50\n",
    ")\n",
    ", c AS (   \n",
    "    SELECT\n",
    "        b.book_id\n",
    "        , au.author\n",
    "        , a.book_rating\n",
    "    FROM books AS b\n",
    "    JOIN a ON b.book_id = a.book_id\n",
    "    JOIN authors AS au ON au.author_id = b.author_id\n",
    ")\n",
    "\n",
    "    SELECT\n",
    "        author\n",
    "        , AVG(book_rating) AS avg_rating\n",
    "    FROM c\n",
    "    GROUP BY author\n",
    "    ORDER BY avg_rating DESC\n",
    "    LIMIT 1\n",
    "\n",
    "'''\n",
    "\n",
    "pd.io.sql.read_sql(query_4, con = engine) "
   ]
  },
  {
   "cell_type": "markdown",
   "id": "727c6522",
   "metadata": {},
   "source": [
    "Среди популярных книг, самый высокий рейтинг книг у Дж. К. Роулинг."
   ]
  },
  {
   "cell_type": "markdown",
   "id": "b3853560",
   "metadata": {},
   "source": [
    "### Задание 5 "
   ]
  },
  {
   "cell_type": "markdown",
   "id": "0832a6cd",
   "metadata": {},
   "source": [
    "Посчитайте среднее количество обзоров от пользователей, которые поставили больше 50 оценок."
   ]
  },
  {
   "cell_type": "code",
   "execution_count": 16,
   "id": "864be000",
   "metadata": {},
   "outputs": [
    {
     "data": {
      "text/html": [
       "<div>\n",
       "<style scoped>\n",
       "    .dataframe tbody tr th:only-of-type {\n",
       "        vertical-align: middle;\n",
       "    }\n",
       "\n",
       "    .dataframe tbody tr th {\n",
       "        vertical-align: top;\n",
       "    }\n",
       "\n",
       "    .dataframe thead th {\n",
       "        text-align: right;\n",
       "    }\n",
       "</style>\n",
       "<table border=\"1\" class=\"dataframe\">\n",
       "  <thead>\n",
       "    <tr style=\"text-align: right;\">\n",
       "      <th></th>\n",
       "      <th>avg</th>\n",
       "    </tr>\n",
       "  </thead>\n",
       "  <tbody>\n",
       "    <tr>\n",
       "      <th>0</th>\n",
       "      <td>24.333333</td>\n",
       "    </tr>\n",
       "  </tbody>\n",
       "</table>\n",
       "</div>"
      ],
      "text/plain": [
       "         avg\n",
       "0  24.333333"
      ]
     },
     "execution_count": 16,
     "metadata": {},
     "output_type": "execute_result"
    }
   ],
   "source": [
    "query_5 = '''\n",
    "\n",
    "WITH\n",
    "a AS (    \n",
    "    SELECT \n",
    "        username\n",
    "    FROM ratings \n",
    "    GROUP BY username\n",
    "    HAVING COUNT(rating_id) > 50\n",
    "),    \n",
    "b AS (    \n",
    "    SELECT\n",
    "        COUNT(review_id) AS review_cnt\n",
    "    FROM reviews AS r\n",
    "    JOIN a ON r.username = a.username\n",
    "    GROUP BY a.username)\n",
    "    \n",
    "    SELECT\n",
    "        AVG(review_cnt)\n",
    "    FROM b\n",
    "    \n",
    "'''\n",
    "\n",
    "pd.io.sql.read_sql(query_5, con = engine) "
   ]
  },
  {
   "cell_type": "markdown",
   "id": "2cf39c8a",
   "metadata": {},
   "source": [
    "24,3 - среднее количество обзоров от пользователей, которые поставили больше 50 оценок. Их всего пятеро."
   ]
  },
  {
   "cell_type": "markdown",
   "id": "c9c0a2af",
   "metadata": {},
   "source": [
    "## Вывод"
   ]
  },
  {
   "cell_type": "markdown",
   "id": "eb3473c4",
   "metadata": {},
   "source": [
    "1. **База данных**\n",
    "\n",
    "В базе данных содержатся 5 таблиц:\n",
    "- `books` - имеет 6 столбцов и 1000 записей;\n",
    "- `authors` - имеет 2 поля и 656 записей;\n",
    "- `publishers` - имеет 2 столбцa и 340 записей;\n",
    "- `ratings` - имеет 4 столбцa и 6456 записей;\n",
    "- `reviews` - имеет 4 поля и 2793 записей;"
   ]
  },
  {
   "cell_type": "markdown",
   "id": "9066797e",
   "metadata": {},
   "source": [
    "2. Написание запросов\n",
    "- Вышло 819 книг после 1 января 2000 года;\n",
    "- Большинство книг имеет до 4 обзоров и среднюю оценку не ниже 2,5 баллов;\n",
    "- Больше всего книг выпустило *Penguin Books* - 42 книги;\n",
    "- Среди популярных книг, самый высокий рейтинг книг у Дж. К. Роулинг;\n",
    "- 24,3 - среднее количество обзоров от пользователей, которые поставили больше 50 оценок."
   ]
  }
 ],
 "metadata": {
  "ExecuteTimeLog": [
   {
    "duration": 47,
    "start_time": "2022-12-25T19:13:07.664Z"
   },
   {
    "duration": 7,
    "start_time": "2022-12-25T19:13:09.883Z"
   },
   {
    "duration": 476,
    "start_time": "2022-12-25T19:13:16.895Z"
   },
   {
    "duration": 5,
    "start_time": "2022-12-25T19:13:17.373Z"
   },
   {
    "duration": 65,
    "start_time": "2022-12-25T19:13:17.379Z"
   },
   {
    "duration": 8621,
    "start_time": "2022-12-25T19:13:17.446Z"
   },
   {
    "duration": 251,
    "start_time": "2022-12-25T19:13:26.069Z"
   },
   {
    "duration": 70,
    "start_time": "2022-12-25T19:13:26.322Z"
   },
   {
    "duration": 70,
    "start_time": "2022-12-25T19:13:26.394Z"
   },
   {
    "duration": 70,
    "start_time": "2022-12-25T19:13:26.466Z"
   },
   {
    "duration": 70,
    "start_time": "2022-12-25T19:13:26.537Z"
   },
   {
    "duration": 72,
    "start_time": "2022-12-25T19:13:26.609Z"
   },
   {
    "duration": 73,
    "start_time": "2022-12-25T19:13:26.683Z"
   },
   {
    "duration": 92,
    "start_time": "2022-12-25T19:13:26.758Z"
   },
   {
    "duration": 83,
    "start_time": "2022-12-25T19:13:26.852Z"
   },
   {
    "duration": 69,
    "start_time": "2022-12-25T19:13:26.936Z"
   },
   {
    "duration": 73,
    "start_time": "2022-12-25T19:13:27.007Z"
   },
   {
    "duration": 71,
    "start_time": "2022-12-25T19:13:27.082Z"
   }
  ],
  "kernelspec": {
   "display_name": "Python 3 (ipykernel)",
   "language": "python",
   "name": "python3"
  },
  "language_info": {
   "codemirror_mode": {
    "name": "ipython",
    "version": 3
   },
   "file_extension": ".py",
   "mimetype": "text/x-python",
   "name": "python",
   "nbconvert_exporter": "python",
   "pygments_lexer": "ipython3",
   "version": "3.9.12"
  },
  "toc": {
   "base_numbering": 1,
   "nav_menu": {},
   "number_sections": true,
   "sideBar": true,
   "skip_h1_title": false,
   "title_cell": "Table of Contents",
   "title_sidebar": "Contents",
   "toc_cell": false,
   "toc_position": {
    "height": "calc(100% - 180px)",
    "left": "10px",
    "top": "150px",
    "width": "273.188px"
   },
   "toc_section_display": true,
   "toc_window_display": false
  }
 },
 "nbformat": 4,
 "nbformat_minor": 5
}
